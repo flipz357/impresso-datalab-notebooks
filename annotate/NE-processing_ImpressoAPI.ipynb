{
 "cells": [
  {
   "cell_type": "markdown",
   "metadata": {
    "id": "P374GZ3Nxusx"
   },
   "source": [
    "# Named Entity Processing with Impresso Models through the Impresso API\n",
    "\n",
    "<a target=\"_blank\" href=\"https://colab.research.google.com/github/impresso/impresso-datalab-notebooks/blob/main/annotate/NE-processing_ImpressoAPI.ipynb\">\n",
    "  <img src=\"https://colab.research.google.com/assets/colab-badge.svg\" alt=\"Open In Colab\"/>\n",
    "</a>"
   ]
  },
  {
   "cell_type": "markdown",
   "metadata": {
    "id": "vSY3E8j5xusy"
   },
   "source": [
    "## What is this notebook about?\n",
    "\n",
    "This notebook is similar to the [NE-processing_ImpressoHF](https://github.com/impresso/impresso-datalab-notebooks/blob/main/annotate/NE-processing_ImpressoHF.ipynb) one, except that instead of loading the model from Hugging Face and executing them locally (or on Colab), here we use the annotation functionalities provided by the Impresso API, using the Impresso Python Library. Behind the scene the same models are used. \n",
    "\n",
    "For more information on the models, please refer to the [NE-processing_ImpressoHF](https://github.com/impresso/impresso-datalab-notebooks/blob/main/annotate/NE-processing_ImpressoHF.ipynb) notebook (we advised starting with it).\n",
    "\n",
    "For an introduction to the Impresso Python Library, please refer to the [basics_ImpressoAPI](https://github.com/impresso/impresso-datalab-notebooks/blob/main/starter/basics_ImpressoAPI.ipynb).\n",
    "\n",
    "## What will you learn in this notebook?\n",
    "By the end of this notebook, you will know how to call the NER and EL Impresso annotation services through the Impresso API, using the Impresso Python Library"
   ]
  },
  {
   "cell_type": "code",
   "execution_count": null,
   "metadata": {
    "colab": {
     "base_uri": "https://localhost:8080/"
    },
    "id": "eC4L37FtjYe-",
    "jupyter": {
     "is_executing": true
    },
    "outputId": "26a08fc9-4511-4fdf-ee99-1fd75a7aca82"
   },
   "outputs": [],
   "source": [
    "!pip install --upgrade --force-reinstall impresso\n",
    "from impresso import version\n",
    "print(version)"
   ]
  },
  {
   "cell_type": "code",
   "execution_count": null,
   "metadata": {
    "id": "w5xfGodjxus0"
   },
   "outputs": [],
   "source": [
    "from impresso import connect\n",
    "impresso_session = connect()"
   ]
  },
  {
   "cell_type": "markdown",
   "metadata": {},
   "source": [
    "## Named entity recognition"
   ]
  },
  {
   "cell_type": "code",
   "execution_count": null,
   "metadata": {},
   "outputs": [],
   "source": [
    "# We define some test input\n",
    "text = \"\"\"In the year 1789, King Louis XVI, ruler of France, convened the Estates-General at the Palace of Versailles, \n",
    "                where Marie Antoinette, the Queen of France, alongside Maximilien Robespierre, a leading member of the National Assembly, \n",
    "                debated with Jean-Jacques Rousseau, the famous philosopher, and Charles de Talleyrand, the Bishop of Autun, \n",
    "                regarding the future of the French monarchy. At the same time, across the Atlantic in Philadelphia, \n",
    "                George Washington, the first President of the United States, and Thomas Jefferson, the nation's Secretary of State, \n",
    "                were drafting policies for the newly established American government following the signing of the Constitution.\"\"\"\n",
    "\n",
    "print(text)\n",
    "\n",
    "result = impresso_session.tools.ner(\n",
    "    text=text\n",
    ")\n",
    "\n",
    "result.df.tail(10)"
   ]
  },
  {
   "cell_type": "markdown",
   "metadata": {},
   "source": [
    "## Named entity linking"
   ]
  },
  {
   "cell_type": "code",
   "execution_count": null,
   "metadata": {},
   "outputs": [],
   "source": [
    "# We define some test input\n",
    "text_with_markers = \"\"\"In the year 1789, King Louis XVI, ruler of France, convened the Estates-General at the Palace of Versailles, \n",
    "                where [START] Marie Antoinette, the Queen of France [END], alongside Maximilien Robespierre, a leading member of the National Assembly, \n",
    "                debated with Jean-Jacques Rousseau, the famous philosopher, and Charles de Talleyrand, the Bishop of Autun, \n",
    "                regarding the future of the French monarchy. At the same time, across the Atlantic in Philadelphia, \n",
    "                George Washington, the first President of the United States, and Thomas Jefferson, the nation's Secretary of State, \n",
    "                were drafting policies for the newly established American government following the signing of the Constitution.\"\"\"\n",
    "\n",
    "print(text_with_markers)\n",
    "\n",
    "result = impresso_session.tools.nel(\n",
    "    text=text_with_markers\n",
    ")\n",
    "result"
   ]
  },
  {
   "cell_type": "markdown",
   "metadata": {},
   "source": [
    "## Named entity processing"
   ]
  },
  {
   "cell_type": "code",
   "execution_count": null,
   "metadata": {},
   "outputs": [],
   "source": [
    "result = impresso_session.tools.ner_nel(\n",
    "    text=text\n",
    ")\n",
    "result.df"
   ]
  },
  {
   "cell_type": "code",
   "execution_count": null,
   "metadata": {},
   "outputs": [],
   "source": []
  }
 ],
 "metadata": {
  "colab": {
   "provenance": []
  },
  "kernelspec": {
   "display_name": "Python 3 (ipykernel)",
   "language": "python",
   "name": "python3"
  },
  "language_info": {
   "codemirror_mode": {
    "name": "ipython",
    "version": 3
   },
   "file_extension": ".py",
   "mimetype": "text/x-python",
   "name": "python",
   "nbconvert_exporter": "python",
   "pygments_lexer": "ipython3",
   "version": "3.11.10"
  }
 },
 "nbformat": 4,
 "nbformat_minor": 4
}

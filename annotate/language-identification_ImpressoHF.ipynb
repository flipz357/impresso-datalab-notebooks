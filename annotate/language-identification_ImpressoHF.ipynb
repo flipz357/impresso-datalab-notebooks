{
 "cells": [
  {
   "cell_type": "markdown",
   "metadata": {
    "id": "view-in-github",
    "colab_type": "text"
   },
   "source": [
    "<a href=\"https://colab.research.google.com/github/flipz357/impresso-datalab-notebooks/blob/main/annotate/language-identification_ImpressoHF.ipynb\" target=\"_parent\"><img src=\"https://colab.research.google.com/assets/colab-badge.svg\" alt=\"Open In Colab\"/></a>"
   ]
  },
  {
   "cell_type": "markdown",
   "metadata": {
    "id": "T0CKTXyqcKFt"
   },
   "source": [
    "# Language Identification using Floret\n",
    "\n",
    "This notebook demonstrates how to use a pre-trained Floret language identification model downloaded from Hugging Face.\n",
    "We'll load the model, input some text, and predict the language of the text.\n",
    "\n",
    "## What is this notebook about?\n",
    "This notebook provides a hands-on demonstration of **language identification** (LID) using our Impresso LID model from Hugging Face. We will explore how to download and use this model to predict the language of Impresso-like text inputs. This notebook walks through the necessary steps to set up dependencies, load the model, and implement it for practical language identification tasks.\n",
    "\n",
    "## What will you learn in this notebook?\n",
    "By the end of this notebook, you will:\n",
    "- Understand how to install and configure the required libraries (`floret` and `huggingface_hub`).\n",
    "- Learn to load our trained Floret language identification model from Hugging Face.\n",
    "- Run the model to predict the dominant language (or the mix of languages) of a given text input.\n",
    "- Gain insight into the core functionality of language identification using machine learning models."
   ]
  },
  {
   "cell_type": "markdown",
   "metadata": {
    "id": "uUhHooDycRCt"
   },
   "source": [
    "## 1. Install Dependencies\n",
    "\n",
    "First, we need to install `floret` and `huggingface_hub` to work with the Floret language identification model and Hugging Face.\n"
   ]
  },
  {
   "cell_type": "code",
   "execution_count": 1,
   "metadata": {
    "colab": {
     "base_uri": "https://localhost:8080/"
    },
    "id": "eKvs0oPhawd_",
    "outputId": "fed365dc-0387-4d7f-81fb-5e1a25f99b59"
   },
   "outputs": [
    {
     "output_type": "stream",
     "name": "stdout",
     "text": [
      "Collecting floret\n",
      "  Downloading floret-0.10.5-cp310-cp310-manylinux_2_17_x86_64.manylinux2014_x86_64.whl.metadata (3.1 kB)\n",
      "Requirement already satisfied: numpy in /usr/local/lib/python3.10/dist-packages (from floret) (1.26.4)\n",
      "Downloading floret-0.10.5-cp310-cp310-manylinux_2_17_x86_64.manylinux2014_x86_64.whl (320 kB)\n",
      "\u001B[2K   \u001B[90m━━━━━━━━━━━━━━━━━━━━━━━━━━━━━━━━━━━━━━━━\u001B[0m \u001B[32m320.4/320.4 kB\u001B[0m \u001B[31m5.0 MB/s\u001B[0m eta \u001B[36m0:00:00\u001B[0m\n",
      "\u001B[?25hInstalling collected packages: floret\n",
      "Successfully installed floret-0.10.5\n",
      "Requirement already satisfied: huggingface_hub in /usr/local/lib/python3.10/dist-packages (0.24.7)\n",
      "Requirement already satisfied: filelock in /usr/local/lib/python3.10/dist-packages (from huggingface_hub) (3.16.1)\n",
      "Requirement already satisfied: fsspec>=2023.5.0 in /usr/local/lib/python3.10/dist-packages (from huggingface_hub) (2024.6.1)\n",
      "Requirement already satisfied: packaging>=20.9 in /usr/local/lib/python3.10/dist-packages (from huggingface_hub) (24.1)\n",
      "Requirement already satisfied: pyyaml>=5.1 in /usr/local/lib/python3.10/dist-packages (from huggingface_hub) (6.0.2)\n",
      "Requirement already satisfied: requests in /usr/local/lib/python3.10/dist-packages (from huggingface_hub) (2.32.3)\n",
      "Requirement already satisfied: tqdm>=4.42.1 in /usr/local/lib/python3.10/dist-packages (from huggingface_hub) (4.66.5)\n",
      "Requirement already satisfied: typing-extensions>=3.7.4.3 in /usr/local/lib/python3.10/dist-packages (from huggingface_hub) (4.12.2)\n",
      "Requirement already satisfied: charset-normalizer<4,>=2 in /usr/local/lib/python3.10/dist-packages (from requests->huggingface_hub) (3.4.0)\n",
      "Requirement already satisfied: idna<4,>=2.5 in /usr/local/lib/python3.10/dist-packages (from requests->huggingface_hub) (3.10)\n",
      "Requirement already satisfied: urllib3<3,>=1.21.1 in /usr/local/lib/python3.10/dist-packages (from requests->huggingface_hub) (2.2.3)\n",
      "Requirement already satisfied: certifi>=2017.4.17 in /usr/local/lib/python3.10/dist-packages (from requests->huggingface_hub) (2024.8.30)\n"
     ]
    }
   ],
   "source": [
    "!pip install floret\n",
    "!pip install huggingface_hub"
   ]
  },
  {
   "cell_type": "markdown",
   "metadata": {
    "id": "k-3c3dhacYsJ"
   },
   "source": [
    "## 2. Model Information\n",
    "\n",
    "In this example, we are using a language identification model hosted on the Hugging Face Hub: `impresso-project/impresso-floret-langident`.\n",
    "The model can predict the language of a given text of a reasonable length and supports the main impresso languages: German (de), French (fr), Luxemburgish (lb), Italian (it), English (en)\n"
   ]
  },
  {
   "cell_type": "markdown",
   "metadata": {
    "id": "C5cxq30rch9r"
   },
   "source": [
    "## 3. Defining the FloretLangIdentifier Class\n",
    "\n",
    "This class downloads the Floret model from Hugging Face and loads it for prediction. We use `huggingface_hub` to download the model locally.\n"
   ]
  },
  {
   "cell_type": "code",
   "execution_count": 2,
   "metadata": {
    "id": "dKdWzGvUbFkU"
   },
   "outputs": [],
   "source": [
    "from huggingface_hub import hf_hub_download\n",
    "import floret\n",
    "\n",
    "\n",
    "class FloretLangIdentifier:\n",
    "    def __init__(self, repo_id, model_filename):\n",
    "        \"\"\"\n",
    "        Initialize the Floret language identification model by downloading it from Hugging Face.\n",
    "        Args:\n",
    "            repo_id (str): The Hugging Face repository ID (e.g., \"username/repo_name\").\n",
    "            model_filename (str): The model file name in the repository (e.g., \"model.bin\").\n",
    "        \"\"\"\n",
    "        model_path = self._download_model(repo_id, model_filename)\n",
    "        self.model = floret.load_model(model_path)\n",
    "\n",
    "    def _download_model(self, repo_id, model_filename):\n",
    "        \"\"\"\n",
    "        Download the model file from Hugging Face using huggingface_hub.\n",
    "        Args:\n",
    "            repo_id (str): The repository ID from which to download the model.\n",
    "            model_filename (str): The model filename in the Hugging Face repository.\n",
    "\n",
    "        Returns:\n",
    "            str: The local path to the downloaded model file.\n",
    "        \"\"\"\n",
    "        local_model_path = hf_hub_download(repo_id=repo_id, filename=model_filename)\n",
    "        return local_model_path\n",
    "\n",
    "    def predict(self, text):\n",
    "        \"\"\"\n",
    "        Predict the language of the input text.\n",
    "        Args:\n",
    "            text (str): The input text.\n",
    "\n",
    "        Returns:\n",
    "            List of predicted labels and their probabilities.\n",
    "        \"\"\"\n",
    "        predictions = self.model.predict(text)\n",
    "        return predictions\n",
    "\n",
    "    def predict_language(self, text):\n",
    "        \"\"\"\n",
    "        Predicts the language of the input text and returns the language code without the \"__label__\" prefix.\n",
    "\n",
    "        Args:\n",
    "            text (str): The input text.\n",
    "\n",
    "        Returns:\n",
    "            str: The predicted language code (e.g., \"en\" for English).\n",
    "        \"\"\"\n",
    "        predictions = self.model.predict(text)\n",
    "        if predictions:\n",
    "            # Extract the language code from the top prediction\n",
    "            language = predictions[0][0].replace(\"__label__\", \"\")\n",
    "            return language\n",
    "        else:\n",
    "            return None\n",
    "\n",
    "    def predict_language_mix(self, text, max_results=5, threshold_others=0.1):\n",
    "        \"\"\"\n",
    "        Predicts the languageS of the input text and returns the language codes without the \"__label__\" prefix.\n",
    "\n",
    "        Args:\n",
    "            text (str): The input text.\n",
    "            max_results (int): How many languages to consider?\n",
    "            threshold_others (float): Below this probability, we ignore a predicted language.\n",
    "\n",
    "        Returns:\n",
    "            list: The predicted language codes (e.g., [\"en\", \"de\"] for English and German mixed text).\n",
    "        \"\"\"\n",
    "        predictions = self.model.predict(text, k=max_results)\n",
    "        language_mix = []\n",
    "        if predictions:\n",
    "            for (i, pred) in enumerate(predictions[0]):\n",
    "                # Extract the language code\n",
    "                prob = predictions[1][i]\n",
    "                if i > 0  and prob < threshold_others:\n",
    "                    break\n",
    "                language_mix.append(pred.replace(\"__label__\", \"\"))\n",
    "            return language_mix\n",
    "        else:\n",
    "            return None"
   ]
  },
  {
   "cell_type": "markdown",
   "metadata": {
    "id": "MgalRK6vcIYm"
   },
   "source": [
    "## 4. Using the Model for Prediction\n",
    "\n",
    "Now that the model is loaded, you can input your own text and predict the language.\n"
   ]
  },
  {
   "cell_type": "markdown",
   "source": [
    "### 4.1 Predict the main language of a document"
   ],
   "metadata": {
    "id": "OjIB8neZGtvr"
   }
  },
  {
   "cell_type": "code",
   "execution_count": 3,
   "metadata": {
    "id": "JvCLxlW6aym7",
    "colab": {
     "base_uri": "https://localhost:8080/",
     "height": 66,
     "referenced_widgets": [
      "8aade1bf60b54def991e7011aa5290a4",
      "1b1f5ef37b4f45268edd7776e853b073",
      "707596e6bb8e485395e593064fdea929",
      "ac4b3880dec544aaaff17587c658d987",
      "7ea97370c6dd4d8ea9d01250dc418fa7",
      "b25cb3d6e87d4b48988dfab35832700a",
      "c6a3fb2d10ef4324beb3c69f32fe469c",
      "0af92ef9050b4a79914ca8f369e92f23",
      "5ff08b801e30416799534033fb2f037a",
      "9e4afb719f2943f7abb3a8cdf149496f",
      "4cde51c316bb46c987d2c6abb85d0614"
     ]
    },
    "outputId": "270d43d7-2946-4721-8d23-c67a874de485"
   },
   "outputs": [
    {
     "output_type": "display_data",
     "data": {
      "text/plain": [
       "LID-40-3-2000000-1-4.bin:   0%|          | 0.00/32.0M [00:00<?, ?B/s]"
      ],
      "application/vnd.jupyter.widget-view+json": {
       "version_major": 2,
       "version_minor": 0,
       "model_id": "8aade1bf60b54def991e7011aa5290a4"
      }
     },
     "metadata": {}
    },
    {
     "output_type": "stream",
     "name": "stdout",
     "text": [
      "Language: de\n"
     ]
    }
   ],
   "source": [
    "# Define the repository and model file\n",
    "repo_id = \"impresso-project/impresso-floret-langident\"\n",
    "model_filename = \"LID-40-3-2000000-1-4.bin\"\n",
    "\n",
    "# Initialize the FloretLangIdentifier with the repo and model file name\n",
    "model = FloretLangIdentifier(repo_id, model_filename)\n",
    "\n",
    "# Example text for prediction\n",
    "text = \"Das ist ein Testsatz.\"\n",
    "\n",
    "# Predict the language\n",
    "result = model.predict_language(text)\n",
    "print(\"Language:\", result)"
   ]
  },
  {
   "cell_type": "markdown",
   "source": [
    "### 4.2 Predict the language mix of a document\n"
   ],
   "metadata": {
    "id": "SrzlDcLKG2Nf"
   }
  },
  {
   "cell_type": "code",
   "source": [
    "# Multi-output for predicting mixed-language documents\n",
    "# Example text for prediction\n",
    "text = \"This is ein test Satz.\"\n",
    "\n",
    "# Predict the language\n",
    "result = model.predict_language_mix(text)\n",
    "print(\"Language mix:\", result)"
   ],
   "metadata": {
    "colab": {
     "base_uri": "https://localhost:8080/"
    },
    "id": "Qz5vkYLzGWy6",
    "outputId": "9ee6c9cd-38e9-4ad3-eead-39bc51b2777e"
   },
   "execution_count": 4,
   "outputs": [
    {
     "output_type": "stream",
     "name": "stdout",
     "text": [
      "Language mix: ['de', 'en']\n"
     ]
    }
   ]
  },
  {
   "cell_type": "markdown",
   "source": [
    "### 4.3 Interactive mode"
   ],
   "metadata": {
    "id": "VsxH67u2G8OS"
   }
  },
  {
   "cell_type": "code",
   "execution_count": 5,
   "metadata": {
    "id": "sndiXfDta-TZ",
    "colab": {
     "base_uri": "https://localhost:8080/"
    },
    "outputId": "fbce28e5-40cb-46e8-d4f3-9f5521b7bb57"
   },
   "outputs": [
    {
     "output_type": "stream",
     "name": "stdout",
     "text": [
      "Enter a sentence for language identification: Check out this dataset!\n",
      "Prediction Result: ['en']\n"
     ]
    }
   ],
   "source": [
    "# Interactive text input\n",
    "text = input(\"Enter a sentence for language identification: \")\n",
    "result = model.predict_language_mix(text)\n",
    "print(\"Prediction Result:\", result)"
   ]
  },
  {
   "cell_type": "markdown",
   "source": [
    "## 4. Why is Language identification important? An example\n",
    "\n",
    "Many NLP models are trained on data from certain languages. For applying any further NLP processing, we often need to know the language.\n",
    "\n",
    "Let us visit a concrete example: Say that we want to count the nouns in a text. For this we load a NLP-processor from the popular spacy-library, that (i.a.) splits the text and tags our words with so-called part-of-speech-tags.\n"
   ],
   "metadata": {
    "id": "qznP6XXC4oqw"
   }
  },
  {
   "cell_type": "markdown",
   "source": [
    "### 4.1 Build a simple Noun counter class"
   ],
   "metadata": {
    "id": "MfmSESBc7dgt"
   }
  },
  {
   "cell_type": "code",
   "source": [
    "class NounCounter:\n",
    "\n",
    "    def __init__(self, nlp):\n",
    "        \"\"\"\n",
    "        Initialize the NounCounter with a spaCy NLP model.\n",
    "\n",
    "        Args:\n",
    "            nlp: A spaCy NLP model.\n",
    "        \"\"\"\n",
    "        self.nlp = nlp\n",
    "\n",
    "    def count_nouns(self, text):\n",
    "        \"\"\"\n",
    "        Count the number of nouns in the given text.\n",
    "\n",
    "        Args:\n",
    "            text (str): The input text.\n",
    "\n",
    "        Returns:\n",
    "            int: The count of nouns in the text.\n",
    "        \"\"\"\n",
    "        doc = self.nlp(text)\n",
    "        noun_count = 0\n",
    "        for token in doc:\n",
    "            if token.pos_ == \"NOUN\":\n",
    "                noun_count += 1\n",
    "        return noun_count"
   ],
   "metadata": {
    "id": "4ASF6u9u6FYI"
   },
   "execution_count": 6,
   "outputs": []
  },
  {
   "cell_type": "markdown",
   "source": [
    "### 4.2 Noun counter: A first naive test"
   ],
   "metadata": {
    "id": "li7Yiugu7nBD"
   }
  },
  {
   "cell_type": "code",
   "source": [
    "# Example text for prediction\n",
    "text = \"Das ist ein Testdokument. Ein Mann geht mit einem Hund im Park spazieren.\"\n",
    "\n",
    "# We load the spacy library\n",
    "import spacy\n",
    "\n",
    "# We load a default spacy model\n",
    "nlp = spacy.load(\"en_core_web_sm\")\n",
    "\n",
    "# We intitalize our Noun-Counter\n",
    "counter = NounCounter(nlp)\n",
    "\n",
    "# And print the estimated amount of nouns\n",
    "print(\"Text: \\\"{}\\\"\\nNoun-count: {}\".format(text, counter.count_nouns(text)))"
   ],
   "metadata": {
    "colab": {
     "base_uri": "https://localhost:8080/"
    },
    "id": "buWIW8117s9H",
    "outputId": "11515009-3cb6-494d-aa66-ea662818b168"
   },
   "execution_count": 7,
   "outputs": [
    {
     "output_type": "stream",
     "name": "stdout",
     "text": [
      "Text: \"Das ist ein Testdokument. Ein Mann geht mit einem Hund im Park spazieren.\"\n",
      "Noun-count: 2\n"
     ]
    }
   ]
  },
  {
   "cell_type": "markdown",
   "source": [
    "### 4.3 Noun counter: A second test"
   ],
   "metadata": {
    "id": "ZxwycX39gbO6"
   }
  },
  {
   "cell_type": "markdown",
   "source": [
    "Now let us assume that we would know the language of the input document: German.\n",
    "\n",
    "This would let us load a default German spacy model."
   ],
   "metadata": {
    "id": "1W8c5Wv2fAYL"
   }
  },
  {
   "cell_type": "code",
   "source": [
    "# Need to download the German model\n",
    "spacy.cli.download(\"de_core_news_sm\")\n",
    "\n",
    "# Load the German model\n",
    "nlp = spacy.load(\"de_core_news_sm\")\n",
    "\n",
    "# We intitialize our Noun-Counter\n",
    "counter = NounCounter(nlp)\n",
    "\n",
    "# And print the estimated amount of nouns\n",
    "print(\"Text: \\\"{}\\\"\\nNoun-count: {}\".format(text, counter.count_nouns(text)))"
   ],
   "metadata": {
    "colab": {
     "base_uri": "https://localhost:8080/"
    },
    "id": "M4v13zOu7mPG",
    "outputId": "33f70b49-31db-44e6-94a5-5a35c8db0bf4"
   },
   "execution_count": 8,
   "outputs": [
    {
     "output_type": "stream",
     "name": "stdout",
     "text": [
      "\u001B[38;5;2m✔ Download and installation successful\u001B[0m\n",
      "You can now load the package via spacy.load('de_core_news_sm')\n",
      "\u001B[38;5;3m⚠ Restart to reload dependencies\u001B[0m\n",
      "If you are in a Jupyter or Colab notebook, you may need to restart Python in\n",
      "order to load all the package's dependencies. You can do this by selecting the\n",
      "'Restart kernel' or 'Restart runtime' option.\n",
      "Text: \"Das ist ein Testdokument. Ein Mann geht mit einem Hund im Park spazieren.\"\n",
      "Noun-count: 4\n"
     ]
    }
   ]
  },
  {
   "cell_type": "markdown",
   "source": [
    "### 4.4 Noun counter: Combining our knowledge\n"
   ],
   "metadata": {
    "id": "RkML4FTsgp6X"
   }
  },
  {
   "cell_type": "markdown",
   "source": [
    "We use our insights to build a language-informed spacy loader that uses our language identifier!"
   ],
   "metadata": {
    "id": "eFcNr6SWgjiT"
   }
  },
  {
   "cell_type": "code",
   "source": [
    "class LanguageAwareSpacyLoader:\n",
    "\n",
    "    def __init__(self, lang_identifier):\n",
    "        \"\"\"\n",
    "        Initialize the LanguageAwareSpacyLoader with a language identifier.\n",
    "\n",
    "        Args:\n",
    "            lang_identifier: A language identifier.\n",
    "        \"\"\"\n",
    "        self.lang_identifier = lang_identifier\n",
    "\n",
    "    def load(self, text):\n",
    "        \"\"\"\n",
    "        Load a spaCy model for a detected language.\n",
    "\n",
    "        Returns:\n",
    "            A spacy model\n",
    "        \"\"\"\n",
    "        lang = self.lang_identifier.predict_language(text)\n",
    "        if lang == \"de\":\n",
    "            uri = \"de_core_news_sm\"\n",
    "            spacy.cli.download(uri)\n",
    "            nlp = spacy.load(uri)\n",
    "        elif lang == \"fr\":\n",
    "            uri = \"fr_core_news_sm\"\n",
    "            spacy.cli.download(uri)\n",
    "            nlp = spacy.load(uri)\n",
    "        elif lang == \"en\":\n",
    "            uri = \"en_core_web_sm\"\n",
    "            nlp = spacy.load(uri)\n",
    "        elif lang == \"lb\":\n",
    "            uri = \"lb_core_news_sm\"\n",
    "            spacy.cli.download(uri)\n",
    "            nlp = spacy.load(uri)\n",
    "        elif lang == \"it\":\n",
    "            uri = \"it_core_news_sm\"\n",
    "            spacy.cli.download(uri)\n",
    "            nlp = spacy.load(uri)\n",
    "        else:\n",
    "            raise NotImplementedError(\"Language not supported: {}\".format(lang))\n",
    "        print(\"I detected the language: {} and loaded the model: {}\".format(lang, uri))\n",
    "        return nlp\n"
   ],
   "metadata": {
    "id": "Edi_Vu1fhCiL"
   },
   "execution_count": 9,
   "outputs": []
  },
  {
   "cell_type": "markdown",
   "source": [
    "Let's try it"
   ],
   "metadata": {
    "id": "VHArRhCDiH4c"
   }
  },
  {
   "cell_type": "code",
   "source": [
    "# We initialize our language aware spacy loader\n",
    "loader = LanguageAwareSpacyLoader(model)\n",
    "\n",
    "# We load the spacy model\n",
    "nlp = loader.load(text)\n",
    "\n",
    "# We intitialize our Noun-Counter with the model\n",
    "counter = NounCounter(nlp)\n",
    "\n",
    "# And print the estimated amount of nouns\n",
    "print(\"Noun-count: {}\".format(counter.count_nouns(text)))"
   ],
   "metadata": {
    "colab": {
     "base_uri": "https://localhost:8080/"
    },
    "id": "Rs-wzzxDiMIS",
    "outputId": "a41bd5a4-7917-4633-91c7-94ba1b5dacff"
   },
   "execution_count": 10,
   "outputs": [
    {
     "output_type": "stream",
     "name": "stdout",
     "text": [
      "\u001B[38;5;2m✔ Download and installation successful\u001B[0m\n",
      "You can now load the package via spacy.load('de_core_news_sm')\n",
      "\u001B[38;5;3m⚠ Restart to reload dependencies\u001B[0m\n",
      "If you are in a Jupyter or Colab notebook, you may need to restart Python in\n",
      "order to load all the package's dependencies. You can do this by selecting the\n",
      "'Restart kernel' or 'Restart runtime' option.\n",
      "I detected the language: de and loaded the model: de_core_news_sm\n",
      "Noun-count: 4\n"
     ]
    }
   ]
  },
  {
   "cell_type": "markdown",
   "source": [
    "Let's start the interactive mode again. Input any text in some language, and the two-step model (lang-id + nlp) will count its nouns.\n"
   ],
   "metadata": {
    "id": "VMQ4jVFj5m1x"
   }
  },
  {
   "cell_type": "code",
   "source": [
    "text = input(\"Enter a sentence for Noun counting: \")\n",
    "nlp = loader.load(text)\n",
    "counter = NounCounter(nlp)\n",
    "print(\"Noun-count: {}\".format(counter.count_nouns(text)))"
   ],
   "metadata": {
    "colab": {
     "base_uri": "https://localhost:8080/"
    },
    "id": "Aszgg-jNksGd",
    "outputId": "456c5ade-a00e-4ff5-e39d-407ca0234b56"
   },
   "execution_count": 11,
   "outputs": [
    {
     "output_type": "stream",
     "name": "stdout",
     "text": [
      "Enter a sentence for Noun counting: Aggiornamenti in tempo reale sulla cronaca da tutta Italia, articoli e approfondimenti\n",
      "\u001B[38;5;2m✔ Download and installation successful\u001B[0m\n",
      "You can now load the package via spacy.load('it_core_news_sm')\n",
      "\u001B[38;5;3m⚠ Restart to reload dependencies\u001B[0m\n",
      "If you are in a Jupyter or Colab notebook, you may need to restart Python in\n",
      "order to load all the package's dependencies. You can do this by selecting the\n",
      "'Restart kernel' or 'Restart runtime' option.\n",
      "I detected the language: it and loaded the model: it_core_news_sm\n",
      "Noun-count: 4\n"
     ]
    }
   ]
  },
  {
   "cell_type": "markdown",
   "metadata": {
    "id": "ZygYQTZAc5Fz"
   },
   "source": [
    "## 5. Summary and Next Steps\n",
    "\n",
    "In this notebook, we used a pre-trained Floret language identification model to predict the language of input text. You can modify the input or explore other models from Hugging Face.\n",
    "\n",
    "Feel free to try other texts, or languages to experiment with the model.\n"
   ]
  }
 ],
 "metadata": {
  "colab": {
   "provenance": [],
   "include_colab_link": true
  },
  "kernelspec": {
   "display_name": "Python 3",
   "name": "python3"
  },
  "language_info": {
   "codemirror_mode": {
    "name": "ipython",
    "version": 3
   },
   "file_extension": ".py",
   "mimetype": "text/x-python",
   "name": "python",
   "nbconvert_exporter": "python",
   "pygments_lexer": "ipython3",
   "version": "3.12.2"
  },
  "widgets": {
   "application/vnd.jupyter.widget-state+json": {
    "8aade1bf60b54def991e7011aa5290a4": {
     "model_module": "@jupyter-widgets/controls",
     "model_name": "HBoxModel",
     "model_module_version": "1.5.0",
     "state": {
      "_dom_classes": [],
      "_model_module": "@jupyter-widgets/controls",
      "_model_module_version": "1.5.0",
      "_model_name": "HBoxModel",
      "_view_count": null,
      "_view_module": "@jupyter-widgets/controls",
      "_view_module_version": "1.5.0",
      "_view_name": "HBoxView",
      "box_style": "",
      "children": [
       "IPY_MODEL_1b1f5ef37b4f45268edd7776e853b073",
       "IPY_MODEL_707596e6bb8e485395e593064fdea929",
       "IPY_MODEL_ac4b3880dec544aaaff17587c658d987"
      ],
      "layout": "IPY_MODEL_7ea97370c6dd4d8ea9d01250dc418fa7"
     }
    },
    "1b1f5ef37b4f45268edd7776e853b073": {
     "model_module": "@jupyter-widgets/controls",
     "model_name": "HTMLModel",
     "model_module_version": "1.5.0",
     "state": {
      "_dom_classes": [],
      "_model_module": "@jupyter-widgets/controls",
      "_model_module_version": "1.5.0",
      "_model_name": "HTMLModel",
      "_view_count": null,
      "_view_module": "@jupyter-widgets/controls",
      "_view_module_version": "1.5.0",
      "_view_name": "HTMLView",
      "description": "",
      "description_tooltip": null,
      "layout": "IPY_MODEL_b25cb3d6e87d4b48988dfab35832700a",
      "placeholder": "​",
      "style": "IPY_MODEL_c6a3fb2d10ef4324beb3c69f32fe469c",
      "value": "LID-40-3-2000000-1-4.bin: 100%"
     }
    },
    "707596e6bb8e485395e593064fdea929": {
     "model_module": "@jupyter-widgets/controls",
     "model_name": "FloatProgressModel",
     "model_module_version": "1.5.0",
     "state": {
      "_dom_classes": [],
      "_model_module": "@jupyter-widgets/controls",
      "_model_module_version": "1.5.0",
      "_model_name": "FloatProgressModel",
      "_view_count": null,
      "_view_module": "@jupyter-widgets/controls",
      "_view_module_version": "1.5.0",
      "_view_name": "ProgressView",
      "bar_style": "success",
      "description": "",
      "description_tooltip": null,
      "layout": "IPY_MODEL_0af92ef9050b4a79914ca8f369e92f23",
      "max": 32001553,
      "min": 0,
      "orientation": "horizontal",
      "style": "IPY_MODEL_5ff08b801e30416799534033fb2f037a",
      "value": 32001553
     }
    },
    "ac4b3880dec544aaaff17587c658d987": {
     "model_module": "@jupyter-widgets/controls",
     "model_name": "HTMLModel",
     "model_module_version": "1.5.0",
     "state": {
      "_dom_classes": [],
      "_model_module": "@jupyter-widgets/controls",
      "_model_module_version": "1.5.0",
      "_model_name": "HTMLModel",
      "_view_count": null,
      "_view_module": "@jupyter-widgets/controls",
      "_view_module_version": "1.5.0",
      "_view_name": "HTMLView",
      "description": "",
      "description_tooltip": null,
      "layout": "IPY_MODEL_9e4afb719f2943f7abb3a8cdf149496f",
      "placeholder": "​",
      "style": "IPY_MODEL_4cde51c316bb46c987d2c6abb85d0614",
      "value": " 32.0M/32.0M [00:01&lt;00:00, 20.9MB/s]"
     }
    },
    "7ea97370c6dd4d8ea9d01250dc418fa7": {
     "model_module": "@jupyter-widgets/base",
     "model_name": "LayoutModel",
     "model_module_version": "1.2.0",
     "state": {
      "_model_module": "@jupyter-widgets/base",
      "_model_module_version": "1.2.0",
      "_model_name": "LayoutModel",
      "_view_count": null,
      "_view_module": "@jupyter-widgets/base",
      "_view_module_version": "1.2.0",
      "_view_name": "LayoutView",
      "align_content": null,
      "align_items": null,
      "align_self": null,
      "border": null,
      "bottom": null,
      "display": null,
      "flex": null,
      "flex_flow": null,
      "grid_area": null,
      "grid_auto_columns": null,
      "grid_auto_flow": null,
      "grid_auto_rows": null,
      "grid_column": null,
      "grid_gap": null,
      "grid_row": null,
      "grid_template_areas": null,
      "grid_template_columns": null,
      "grid_template_rows": null,
      "height": null,
      "justify_content": null,
      "justify_items": null,
      "left": null,
      "margin": null,
      "max_height": null,
      "max_width": null,
      "min_height": null,
      "min_width": null,
      "object_fit": null,
      "object_position": null,
      "order": null,
      "overflow": null,
      "overflow_x": null,
      "overflow_y": null,
      "padding": null,
      "right": null,
      "top": null,
      "visibility": null,
      "width": null
     }
    },
    "b25cb3d6e87d4b48988dfab35832700a": {
     "model_module": "@jupyter-widgets/base",
     "model_name": "LayoutModel",
     "model_module_version": "1.2.0",
     "state": {
      "_model_module": "@jupyter-widgets/base",
      "_model_module_version": "1.2.0",
      "_model_name": "LayoutModel",
      "_view_count": null,
      "_view_module": "@jupyter-widgets/base",
      "_view_module_version": "1.2.0",
      "_view_name": "LayoutView",
      "align_content": null,
      "align_items": null,
      "align_self": null,
      "border": null,
      "bottom": null,
      "display": null,
      "flex": null,
      "flex_flow": null,
      "grid_area": null,
      "grid_auto_columns": null,
      "grid_auto_flow": null,
      "grid_auto_rows": null,
      "grid_column": null,
      "grid_gap": null,
      "grid_row": null,
      "grid_template_areas": null,
      "grid_template_columns": null,
      "grid_template_rows": null,
      "height": null,
      "justify_content": null,
      "justify_items": null,
      "left": null,
      "margin": null,
      "max_height": null,
      "max_width": null,
      "min_height": null,
      "min_width": null,
      "object_fit": null,
      "object_position": null,
      "order": null,
      "overflow": null,
      "overflow_x": null,
      "overflow_y": null,
      "padding": null,
      "right": null,
      "top": null,
      "visibility": null,
      "width": null
     }
    },
    "c6a3fb2d10ef4324beb3c69f32fe469c": {
     "model_module": "@jupyter-widgets/controls",
     "model_name": "DescriptionStyleModel",
     "model_module_version": "1.5.0",
     "state": {
      "_model_module": "@jupyter-widgets/controls",
      "_model_module_version": "1.5.0",
      "_model_name": "DescriptionStyleModel",
      "_view_count": null,
      "_view_module": "@jupyter-widgets/base",
      "_view_module_version": "1.2.0",
      "_view_name": "StyleView",
      "description_width": ""
     }
    },
    "0af92ef9050b4a79914ca8f369e92f23": {
     "model_module": "@jupyter-widgets/base",
     "model_name": "LayoutModel",
     "model_module_version": "1.2.0",
     "state": {
      "_model_module": "@jupyter-widgets/base",
      "_model_module_version": "1.2.0",
      "_model_name": "LayoutModel",
      "_view_count": null,
      "_view_module": "@jupyter-widgets/base",
      "_view_module_version": "1.2.0",
      "_view_name": "LayoutView",
      "align_content": null,
      "align_items": null,
      "align_self": null,
      "border": null,
      "bottom": null,
      "display": null,
      "flex": null,
      "flex_flow": null,
      "grid_area": null,
      "grid_auto_columns": null,
      "grid_auto_flow": null,
      "grid_auto_rows": null,
      "grid_column": null,
      "grid_gap": null,
      "grid_row": null,
      "grid_template_areas": null,
      "grid_template_columns": null,
      "grid_template_rows": null,
      "height": null,
      "justify_content": null,
      "justify_items": null,
      "left": null,
      "margin": null,
      "max_height": null,
      "max_width": null,
      "min_height": null,
      "min_width": null,
      "object_fit": null,
      "object_position": null,
      "order": null,
      "overflow": null,
      "overflow_x": null,
      "overflow_y": null,
      "padding": null,
      "right": null,
      "top": null,
      "visibility": null,
      "width": null
     }
    },
    "5ff08b801e30416799534033fb2f037a": {
     "model_module": "@jupyter-widgets/controls",
     "model_name": "ProgressStyleModel",
     "model_module_version": "1.5.0",
     "state": {
      "_model_module": "@jupyter-widgets/controls",
      "_model_module_version": "1.5.0",
      "_model_name": "ProgressStyleModel",
      "_view_count": null,
      "_view_module": "@jupyter-widgets/base",
      "_view_module_version": "1.2.0",
      "_view_name": "StyleView",
      "bar_color": null,
      "description_width": ""
     }
    },
    "9e4afb719f2943f7abb3a8cdf149496f": {
     "model_module": "@jupyter-widgets/base",
     "model_name": "LayoutModel",
     "model_module_version": "1.2.0",
     "state": {
      "_model_module": "@jupyter-widgets/base",
      "_model_module_version": "1.2.0",
      "_model_name": "LayoutModel",
      "_view_count": null,
      "_view_module": "@jupyter-widgets/base",
      "_view_module_version": "1.2.0",
      "_view_name": "LayoutView",
      "align_content": null,
      "align_items": null,
      "align_self": null,
      "border": null,
      "bottom": null,
      "display": null,
      "flex": null,
      "flex_flow": null,
      "grid_area": null,
      "grid_auto_columns": null,
      "grid_auto_flow": null,
      "grid_auto_rows": null,
      "grid_column": null,
      "grid_gap": null,
      "grid_row": null,
      "grid_template_areas": null,
      "grid_template_columns": null,
      "grid_template_rows": null,
      "height": null,
      "justify_content": null,
      "justify_items": null,
      "left": null,
      "margin": null,
      "max_height": null,
      "max_width": null,
      "min_height": null,
      "min_width": null,
      "object_fit": null,
      "object_position": null,
      "order": null,
      "overflow": null,
      "overflow_x": null,
      "overflow_y": null,
      "padding": null,
      "right": null,
      "top": null,
      "visibility": null,
      "width": null
     }
    },
    "4cde51c316bb46c987d2c6abb85d0614": {
     "model_module": "@jupyter-widgets/controls",
     "model_name": "DescriptionStyleModel",
     "model_module_version": "1.5.0",
     "state": {
      "_model_module": "@jupyter-widgets/controls",
      "_model_module_version": "1.5.0",
      "_model_name": "DescriptionStyleModel",
      "_view_count": null,
      "_view_module": "@jupyter-widgets/base",
      "_view_module_version": "1.2.0",
      "_view_name": "StyleView",
      "description_width": ""
     }
    }
   }
  }
 },
 "nbformat": 4,
 "nbformat_minor": 0
}

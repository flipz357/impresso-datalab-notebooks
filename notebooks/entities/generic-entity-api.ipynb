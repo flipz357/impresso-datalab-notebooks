{
 "cells": [
  {
   "cell_type": "markdown",
   "metadata": {},
   "source": [
    "# Detect Entities and Link them to Wikipedia and Wikidata in a Text through the Impresso API"
   ]
  },
  {
   "cell_type": "markdown",
   "metadata": {},
   "source": [
    "Named entities such as organizations, locations, persons, and temporal expressions play a crucial role in the comprehension and analysis of both historical and contemporary texts. The HIPE-2022 project focuses on named entity recognition and classification (NERC) and entity linking (EL) in multilingual historical documents.\n",
    "\n",
    "### About HIPE-2022\n",
    "HIPE-2022 involves processing diverse datasets from historical newspapers and classical commentaries, spanning approximately 200 years and multiple languages. The primary goal is to confront systems with challenges related to multilinguality, domain-specific entities, and varying annotation tag sets.\n",
    "\n",
    "### Datasets\n",
    "The HIPE-2022 datasets are based on six primary datasets, but this model was only trained on **hipe2020** in French and German.\n",
    "- **ajmc**: Classical commentaries in German, French, and English.\n",
    "- **hipe2020**: Historical newspapers in German, French, and English.\n",
    "- **letemps**: Historical newspapers in French.\n",
    "- **topres19th**: Historical newspapers in English.\n",
    "- **newseye**: Historical newspapers in German, Finnish, French, and Swedish.\n",
    "- **sonar**: Historical newspapers in German.\n",
    "\n",
    "### Annotation Types and Levels\n",
    "HIPE-2022 employs an IOB tagging scheme (inside-outside-beginning format) for entity annotations. The annotation levels include:\n",
    "\n",
    "1. **TOKEN**: The annotated token.\n",
    "2. **NE-COARSE-LIT**: Coarse type of the entity (literal sense).\n",
    "3. **NE-COARSE-METO**: Coarse type of the entity (metonymic sense).\n",
    "4. **NE-FINE-LIT**: Fine-grained type of the entity (literal sense).\n",
    "5. **NE-FINE-METO**: Fine-grained type of the entity (metonymic sense).\n",
    "6. **NE-FINE-COMP**: Component type of the entity.\n",
    "7. **NE-NESTED**: Coarse type of the nested entity.\n",
    "\n",
    "### Getting Started\n",
    "This notebook will guide you through setting up a workflow to identify named entities within your text using the HIPE-2022 trained pipeline. By leveraging this pipeline, you can detect mentions of people, places, organizations, and temporal expressions, enhancing your analysis and understanding of historical and contemporary documents.\n",
    "\n",
    "---\n",
    "\n",
    "This updated description provides a clear overview of the HIPE-2022 project's goals, datasets, and annotation types, focusing on the identification of generic named entities in multilingual historical documents.\n",
    "*Note: This notebook *might* require `HF_TOKEN` to be set in the environment variables. You can get your token by signing up on the [Hugging Face website](https://huggingface.co/join) and read more in the [official documentation](https://huggingface.co/docs/huggingface_hub/v0.20.2/en/quick-start#environment-variable)*"
   ]
  },
  {
   "cell_type": "markdown",
   "metadata": {},
   "source": [
    "Install necessary libraries (if not already installed) and \n",
    "download the necessary NLTK data."
   ]
  },
  {
   "cell_type": "code",
   "execution_count": null,
   "metadata": {
    "colab": {
     "base_uri": "https://localhost:8080/"
    },
    "executionInfo": {
     "elapsed": 13902,
     "status": "ok",
     "timestamp": 1712593966254,
     "user": {
      "displayName": "c2dh automaton",
      "userId": "06595644132255672638"
     },
     "user_tz": -120
    },
    "id": "eC4L37FtjYe-",
    "outputId": "b4126877-f531-4a91-ef9c-93b2d6e6a2e5"
   },
   "outputs": [],
   "source": [
    "!pip install transformers\n",
    "!pip install nltk\n",
    "!pip install torch"
   ]
  },
  {
   "cell_type": "code",
   "execution_count": 1,
   "metadata": {},
   "outputs": [],
   "source": [
    "def print_nicely(results, text):\n",
    "    # Print the timestamp and system ID\n",
    "    print(f\"Timestamp: {results.get('ts')}\")\n",
    "    print(f\"System ID: {results.get('sys_id')}\")\n",
    "    \n",
    "    entities = results.get('nes', [])\n",
    "    if entities:\n",
    "        print(f\"\\n{'Entity':<20} {'Type':<15} {'Confidence NER':<15} {'Confidence NEL':<15} {'Start':<5} {'End':<5} {'Wikidata ID':<10} {'Wikipedia Page':<20}\")\n",
    "        print(\"-\" * 100)\n",
    "        for entity in entities:\n",
    "            confidence_ner = f\"{entity['confidence_ner']}%\"\n",
    "            confidence_nel = f\"{entity['confidence_nel']}%\"\n",
    "            wkd_id = entity.get('wkd_id', 'N/A')\n",
    "            wkpedia_pagename = entity.get('wkpedia_pagename', 'N/A')\n",
    "            print(f\"{entity['surface']:<20} {entity['type']:<15} {confidence_ner:<15} {confidence_nel:<15} {entity['lOffset']:<5} {entity['rOffset']:<5} {wkd_id:<10} {wkpedia_pagename:<20}\")\n",
    "        \n",
    "        print(\"*\" * 100)\n",
    "        print('Testing offsets:')\n",
    "        print(\"*\" * 100)\n",
    "        print(f\"\\n{'Entity':<20} {'Type':<15} {'Confidence NER':<15} {'Confidence NEL':<15} {'Start':<5} {'End':<5} {'Wikidata ID':<10} {'Wikipedia Page':<20}\")\n",
    "        print(\"-\" * 100)\n",
    "        for entity in entities:\n",
    "            confidence_ner = f\"{entity['confidence_ner']}%\"\n",
    "            confidence_nel = f\"{entity['confidence_nel']}%\"\n",
    "            wkd_id = entity.get('wkd_id', 'N/A')\n",
    "            wkpedia_pagename = entity.get('wkpedia_pagename', 'N/A')\n",
    "            print(f\"{text[entity['lOffset']:entity['rOffset']]:<20} {entity['type']:<15} {confidence_ner:<15} {confidence_nel:<15} {entity['lOffset']:<5} {entity['rOffset']:<5} {wkd_id:<10} {wkpedia_pagename:<20}\")\n",
    "            \n",
    "        print(\"*\" * 100)\n",
    "        print('Testing offsets in the returned text:')\n",
    "        print(\"*\" * 100)\n",
    "        print(f\"\\n{'Entity':<20} {'Type':<15} {'Confidence NER':<15} {'Confidence NEL':<15} {'Start':<5} {'End':<5} {'Wikidata ID':<10} {'Wikipedia Page':<20}\")\n",
    "        print(\"-\" * 100)\n",
    "        for entity in entities:\n",
    "            confidence_ner = f\"{entity['confidence_ner']}%\"\n",
    "            confidence_nel = f\"{entity['confidence_nel']}%\"\n",
    "            wkd_id = entity.get('wkd_id', 'N/A')\n",
    "            wkpedia_pagename = entity.get('wkpedia_pagename', 'N/A')\n",
    "            print(f\"{results['text'][entity['lOffset']:entity['rOffset']]:<20} {entity['type']:<15} {confidence_ner:<15} {confidence_nel:<15} {entity['lOffset']:<5} {entity['rOffset']:<5} {wkd_id:<10} {wkpedia_pagename:<20}\")\n",
    "            \n"
   ]
  },
  {
   "cell_type": "markdown",
   "metadata": {},
   "source": [
    "Now the fun part, this function will download the requried model and gives you the keys to successfullly detect entities in your text. "
   ]
  },
  {
   "cell_type": "code",
   "execution_count": 3,
   "metadata": {
    "scrolled": false
   },
   "outputs": [
    {
     "name": "stdout",
     "output_type": "stream",
     "text": [
      "Timestamp: 2024-08-22T11:24:15Z\n",
      "System ID: stacked-2-bert-medium-historic-multilingual-v3-base|mgenre\n",
      "\n",
      "Entity               Type            Confidence NER  Confidence NEL  Start End   Wikidata ID Wikipedia Page      \n",
      "----------------------------------------------------------------------------------------------------\n",
      "Apple                loc             53.61%          56.73%          0     5     Q312       Apple >> fr         \n",
      "Apple                loc             53.61%          56.73%          241   246   Q312       Apple >> fr         \n",
      "le 1er avril 1976    time            84.47%          42.77%          16    33    NIL        N/A                 \n",
      "Steve Jobs           pers            88.15%          54.62%          75    85    Q19837     Steve Jobs >> fr    \n",
      "Steve Jobs           pers            88.15%          54.62%          116   126   Q19837     Steve Jobs >> fr    \n",
      "Los Altos            loc             97.44%          45.53%          88    97    Q299298    Los Altos >> fr     \n",
      "Californie           loc             98.21%          58.5%           101   111   Q99        Californie >> fr    \n",
      "Steve Wozniak        pers            90.32%          50.79%          128   141   Q483382    Steve Wozniak >> fr \n",
      "Ronald Wayne         pers            92.03%          28.71%          145   157   NIL        N/A                 \n",
      "le 3 janvier 1977    time            89.31%          53.74%          197   214   NIL        N/A                 \n",
      "Apple Computer       org             82.0%           51.04%          241   255   Q312       Apple >> fr         \n",
      "le 9 janvier 2015    time            88.75%          49.14%          362   379   NIL        N/A                 \n",
      "Apple                loc.adm.town    48.43%          56.73%          0     5     Q312       Apple >> fr         \n",
      "Apple                loc.adm.town    48.43%          56.73%          241   246   Q312       Apple >> fr         \n",
      "le 1er avril 1976    time.date.abs   86.47%          42.77%          16    33    NIL        N/A                 \n",
      "Steve Jobs           pers.ind        77.96%          54.62%          75    85    Q19837     Steve Jobs >> fr    \n",
      "Steve Jobs           pers.ind        77.96%          54.62%          116   126   Q19837     Steve Jobs >> fr    \n",
      "Los Altos            loc.adm.town    66.17%          45.53%          88    97    Q299298    Los Altos >> fr     \n",
      "Californie           loc.adm.nat     38.18%          58.5%           101   111   Q99        Californie >> fr    \n",
      "Steve Wozniak        pers.ind        82.45%          50.79%          128   141   Q483382    Steve Wozniak >> fr \n",
      "Ronald Wayne         pers.ind        86.84%          28.71%          145   157   NIL        N/A                 \n",
      "le 3 janvier 1977    time.date.abs   91.56%          53.74%          197   214   NIL        N/A                 \n",
      "Apple Computer       org.ent         82.13%          51.04%          241   255   Q312       Apple >> fr         \n",
      "le 9 janvier 2015    time.date.abs   90.97%          49.14%          362   379   NIL        N/A                 \n",
      "****************************************************************************************************\n",
      "Testing offsets:\n",
      "****************************************************************************************************\n",
      "\n",
      "Entity               Type            Confidence NER  Confidence NEL  Start End   Wikidata ID Wikipedia Page      \n",
      "----------------------------------------------------------------------------------------------------\n",
      "Apple                loc             53.61%          56.73%          0     5     Q312       Apple >> fr         \n",
      "Apple                loc             53.61%          56.73%          241   246   Q312       Apple >> fr         \n",
      "le 1er avril 1976    time            84.47%          42.77%          16    33    NIL        N/A                 \n",
      "Steve Jobs           pers            88.15%          54.62%          75    85    Q19837     Steve Jobs >> fr    \n",
      "Steve Jobs           pers            88.15%          54.62%          116   126   Q19837     Steve Jobs >> fr    \n",
      "Los Altos            loc             97.44%          45.53%          88    97    Q299298    Los Altos >> fr     \n",
      "Californie           loc             98.21%          58.5%           101   111   Q99        Californie >> fr    \n",
      "Steve Wozniak        pers            90.32%          50.79%          128   141   Q483382    Steve Wozniak >> fr \n",
      "Ronald Wayne         pers            92.03%          28.71%          145   157   NIL        N/A                 \n",
      "le 3 janvier 1977    time            89.31%          53.74%          197   214   NIL        N/A                 \n",
      "Apple Computer       org             82.0%           51.04%          241   255   Q312       Apple >> fr         \n",
      "le 9 janvier 2015    time            88.75%          49.14%          362   379   NIL        N/A                 \n",
      "Apple                loc.adm.town    48.43%          56.73%          0     5     Q312       Apple >> fr         \n",
      "Apple                loc.adm.town    48.43%          56.73%          241   246   Q312       Apple >> fr         \n",
      "le 1er avril 1976    time.date.abs   86.47%          42.77%          16    33    NIL        N/A                 \n",
      "Steve Jobs           pers.ind        77.96%          54.62%          75    85    Q19837     Steve Jobs >> fr    \n",
      "Steve Jobs           pers.ind        77.96%          54.62%          116   126   Q19837     Steve Jobs >> fr    \n",
      "Los Altos            loc.adm.town    66.17%          45.53%          88    97    Q299298    Los Altos >> fr     \n",
      "Californie           loc.adm.nat     38.18%          58.5%           101   111   Q99        Californie >> fr    \n",
      "Steve Wozniak        pers.ind        82.45%          50.79%          128   141   Q483382    Steve Wozniak >> fr \n",
      "Ronald Wayne         pers.ind        86.84%          28.71%          145   157   NIL        N/A                 \n",
      "le 3 janvier 1977    time.date.abs   91.56%          53.74%          197   214   NIL        N/A                 \n",
      "Apple Computer       org.ent         82.13%          51.04%          241   255   Q312       Apple >> fr         \n",
      "le 9 janvier 2015    time.date.abs   90.97%          49.14%          362   379   NIL        N/A                 \n",
      "****************************************************************************************************\n",
      "Testing offsets in the returned text:\n",
      "****************************************************************************************************\n",
      "\n",
      "Entity               Type            Confidence NER  Confidence NEL  Start End   Wikidata ID Wikipedia Page      \n",
      "----------------------------------------------------------------------------------------------------\n",
      "Apple                loc             53.61%          56.73%          0     5     Q312       Apple >> fr         \n",
      "Apple                loc             53.61%          56.73%          241   246   Q312       Apple >> fr         \n",
      "le 1er avril 1976    time            84.47%          42.77%          16    33    NIL        N/A                 \n",
      "Steve Jobs           pers            88.15%          54.62%          75    85    Q19837     Steve Jobs >> fr    \n",
      "Steve Jobs           pers            88.15%          54.62%          116   126   Q19837     Steve Jobs >> fr    \n",
      "Los Altos            loc             97.44%          45.53%          88    97    Q299298    Los Altos >> fr     \n",
      "Californie           loc             98.21%          58.5%           101   111   Q99        Californie >> fr    \n",
      "Steve Wozniak        pers            90.32%          50.79%          128   141   Q483382    Steve Wozniak >> fr \n",
      "Ronald Wayne         pers            92.03%          28.71%          145   157   NIL        N/A                 \n",
      "le 3 janvier 1977    time            89.31%          53.74%          197   214   NIL        N/A                 \n",
      "Apple Computer       org             82.0%           51.04%          241   255   Q312       Apple >> fr         \n",
      "le 9 janvier 2015    time            88.75%          49.14%          362   379   NIL        N/A                 \n",
      "Apple                loc.adm.town    48.43%          56.73%          0     5     Q312       Apple >> fr         \n",
      "Apple                loc.adm.town    48.43%          56.73%          241   246   Q312       Apple >> fr         \n",
      "le 1er avril 1976    time.date.abs   86.47%          42.77%          16    33    NIL        N/A                 \n",
      "Steve Jobs           pers.ind        77.96%          54.62%          75    85    Q19837     Steve Jobs >> fr    \n",
      "Steve Jobs           pers.ind        77.96%          54.62%          116   126   Q19837     Steve Jobs >> fr    \n",
      "Los Altos            loc.adm.town    66.17%          45.53%          88    97    Q299298    Los Altos >> fr     \n",
      "Californie           loc.adm.nat     38.18%          58.5%           101   111   Q99        Californie >> fr    \n",
      "Steve Wozniak        pers.ind        82.45%          50.79%          128   141   Q483382    Steve Wozniak >> fr \n",
      "Ronald Wayne         pers.ind        86.84%          28.71%          145   157   NIL        N/A                 \n",
      "le 3 janvier 1977    time.date.abs   91.56%          53.74%          197   214   NIL        N/A                 \n",
      "Apple Computer       org.ent         82.13%          51.04%          241   255   Q312       Apple >> fr         \n",
      "le 9 janvier 2015    time.date.abs   90.97%          49.14%          362   379   NIL        N/A                 \n"
     ]
    }
   ],
   "source": [
    "from utils import get_linked_entities\n",
    "import requests\n",
    "\n",
    "sentences = [\"Apple est créée le 1er avril 1976 dans le garage de la maison d'enfance de Steve Jobs à Los Altos en Californie par Steve Jobs, Steve Wozniak et Ronald Wayne, puis constituée sous forme de société le 3 janvier 1977 à l'origine sous le nom d'Apple Computer, mais pour ses 30 ans et pour refléter la diversification de ses produits, le mot « computer » est retiré le 9 janvier 2015.\"]\n",
    "\n",
    "for sentence in sentences:\n",
    "    results = get_linked_entities(sentence)\n",
    "    print_nicely(results, sentence)\n"
   ]
  },
  {
   "cell_type": "code",
   "execution_count": null,
   "metadata": {},
   "outputs": [],
   "source": []
  },
  {
   "cell_type": "code",
   "execution_count": null,
   "metadata": {},
   "outputs": [],
   "source": []
  },
  {
   "cell_type": "code",
   "execution_count": null,
   "metadata": {},
   "outputs": [],
   "source": []
  },
  {
   "cell_type": "code",
   "execution_count": null,
   "metadata": {},
   "outputs": [],
   "source": []
  },
  {
   "cell_type": "code",
   "execution_count": null,
   "metadata": {},
   "outputs": [],
   "source": []
  },
  {
   "cell_type": "code",
   "execution_count": null,
   "metadata": {},
   "outputs": [],
   "source": []
  },
  {
   "cell_type": "code",
   "execution_count": null,
   "metadata": {},
   "outputs": [],
   "source": []
  },
  {
   "cell_type": "code",
   "execution_count": null,
   "metadata": {},
   "outputs": [],
   "source": []
  },
  {
   "cell_type": "code",
   "execution_count": null,
   "metadata": {},
   "outputs": [],
   "source": []
  }
 ],
 "metadata": {
  "colab": {
   "authorship_tag": "ABX9TyOKXk4sqe0yBXtOpC+Z4ngA",
   "provenance": []
  },
  "kernelspec": {
   "display_name": "Python 3 (ipykernel)",
   "language": "python",
   "name": "python3"
  },
  "language_info": {
   "codemirror_mode": {
    "name": "ipython",
    "version": 3
   },
   "file_extension": ".py",
   "mimetype": "text/x-python",
   "name": "python",
   "nbconvert_exporter": "python",
   "pygments_lexer": "ipython3",
   "version": "3.9.6"
  }
 },
 "nbformat": 4,
 "nbformat_minor": 1
}

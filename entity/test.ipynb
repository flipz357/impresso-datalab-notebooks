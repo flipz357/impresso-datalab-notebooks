{
 "cells": [
  {
   "cell_type": "code",
   "execution_count": 87,
   "id": "3d2a5f4d-e8c4-4902-8ab1-0aa2cb01e110",
   "metadata": {},
   "outputs": [],
   "source": [
    "# Import necessary Python modules from the Transformers library\n",
    "from transformers import AutoModelForTokenClassification, AutoTokenizer\n",
    "from transformers import pipeline\n",
    "\n",
    "# Define the model name to be used for token classification, we use the Impresso NER\n",
    "# that can be found at \"https://huggingface.co/impresso-project/ner-stacked-bert-multilingual\"\n",
    "MODEL_NAME = \"impresso-project/ner-stacked-bert-multilingual\"\n",
    "\n",
    "# Load the tokenizer corresponding to the specified model name\n",
    "ner_tokenizer = AutoTokenizer.from_pretrained(MODEL_NAME)"
   ]
  },
  {
   "cell_type": "code",
   "execution_count": 103,
   "id": "d193c3ba-7d31-477b-ae96-38b3e0db18f4",
   "metadata": {},
   "outputs": [
    {
     "name": "stderr",
     "output_type": "stream",
     "text": [
      "[nltk_data] Downloading package averaged_perceptron_tagger to\n",
      "[nltk_data]     /Users/eboros/nltk_data...\n",
      "[nltk_data]   Package averaged_perceptron_tagger is already up-to-\n",
      "[nltk_data]       date!\n",
      "[nltk_data] Downloading package averaged_perceptron_tagger_eng to\n",
      "[nltk_data]     /Users/eboros/nltk_data...\n",
      "[nltk_data]   Package averaged_perceptron_tagger_eng is already up-to-\n",
      "[nltk_data]       date!\n"
     ]
    }
   ],
   "source": [
    "ner_pipeline = pipeline(\"generic-ner\", model=MODEL_NAME, \n",
    "                        tokenizer=ner_tokenizer, \n",
    "                        trust_remote_code=True,\n",
    "                        device='cpu')"
   ]
  },
  {
   "cell_type": "code",
   "execution_count": 104,
   "id": "f1d99298-51ee-4069-a05a-04b50ec61a4b",
   "metadata": {},
   "outputs": [
    {
     "name": "stdout",
     "output_type": "stream",
     "text": [
      "  Type: loc.adm.nat\n",
      "  Score: 16.29\n",
      "  Index: (4, 5)\n",
      "  Surface: Atlantic\n",
      "  Start: 22\n",
      "  End: 30\n",
      "  Loffset: 0\n",
      "  Roffset: 8\n",
      "\n",
      "  Type: pers.ind\n",
      "  Score: 92.82\n",
      "  Index: (6, 8)\n",
      "  Surface: George Washington\n",
      "  Start: 32\n",
      "  End: 49\n",
      "  Loffset: 0\n",
      "  Roffset: 17\n",
      "  Function: secretary\n",
      "  Name: George Washington\n",
      "\n"
     ]
    }
   ],
   "source": [
    "sentence = \"Meanwhile, across the Atlantic, George Washington, the first secretary of the world, was shaping policies.\"\n",
    "# Function to print each entry nicely\n",
    "def print_nicely(data):\n",
    "    for idx, entry in enumerate(data, start=1):\n",
    "        for key, value in entry.items():\n",
    "            print(f\"  {key.capitalize()}: {value}\")\n",
    "        print()  # Blank line between entries\n",
    "\n",
    "entities = ner_pipeline(sentence)\n",
    "print_nicely(entities)"
   ]
  },
  {
   "cell_type": "code",
   "execution_count": 105,
   "id": "cb44dcd2-1089-4498-8482-85ee2ef4b95f",
   "metadata": {},
   "outputs": [
    {
     "name": "stdout",
     "output_type": "stream",
     "text": [
      "  Type: pers.ind\n",
      "  Score: 91.86\n",
      "  Index: (0, 10)\n",
      "  Surface: Thomas Jefferson, the nation's Secretary\n",
      "  Start: 0\n",
      "  End: 49\n",
      "  Loffset: 0\n",
      "  Roffset: 40\n",
      "  Name: Thomas Jefferson\n",
      "  Function: nation's Secretary of State\n",
      "\n"
     ]
    }
   ],
   "source": [
    "sentence = \"Thomas Jefferson, the nation's Secretary of State, played a key role in drafting policies for the new American government.\"\n",
    "# Function to print each entry nicely\n",
    "def print_nicely(data):\n",
    "    for idx, entry in enumerate(data, start=1):\n",
    "        for key, value in entry.items():\n",
    "            print(f\"  {key.capitalize()}: {value}\")\n",
    "        print()  # Blank line between entries\n",
    "\n",
    "entities = ner_pipeline(sentence)\n",
    "print_nicely(entities)"
   ]
  },
  {
   "cell_type": "code",
   "execution_count": 85,
   "id": "ff202221-03a8-4d5b-8384-6c5683d182bd",
   "metadata": {},
   "outputs": [
    {
     "name": "stdout",
     "output_type": "stream",
     "text": [
      "  Entity: loc.adm.nat\n",
      "  Score: 16.14\n",
      "  Index: (4, 5)\n",
      "  Text: Atlantic\n",
      "  Start: 22\n",
      "  End: 30\n",
      "\n",
      "  Entity: pers.ind\n",
      "  Score: 80.22\n",
      "  Index: (6, 8)\n",
      "  Text: George Washington\n",
      "  Start: 32\n",
      "  End: 49\n",
      "  Name: George Washington\n",
      "  Function: President of the United States\n",
      "\n"
     ]
    }
   ],
   "source": [
    "sentence = \"Meanwhile, across the Atlantic, George Washington, the first President of the United States, was shaping policies.\"\n",
    "# Function to print each entry nicely\n",
    "def print_nicely(data):\n",
    "    for idx, entry in enumerate(data, start=1):\n",
    "        for key, value in entry.items():\n",
    "            print(f\"  {key.capitalize()}: {value}\")\n",
    "        print()  # Blank line between entries\n",
    "\n",
    "entities = ner_pipeline(sentence)\n",
    "print_nicely(entities)"
   ]
  },
  {
   "cell_type": "code",
   "execution_count": 86,
   "id": "5c76e826-2cec-46ce-b069-929ec8c87cad",
   "metadata": {},
   "outputs": [
    {
     "data": {
      "application/vnd.jupyter.widget-view+json": {
       "model_id": "55be786c51bc411d99be3d31a7936d63",
       "version_major": 2,
       "version_minor": 0
      },
      "text/plain": [
       "generic_nel.py:   0%|          | 0.00/5.48k [00:00<?, ?B/s]"
      ]
     },
     "metadata": {},
     "output_type": "display_data"
    },
    {
     "name": "stderr",
     "output_type": "stream",
     "text": [
      "A new version of the following files was downloaded from https://huggingface.co/impresso-project/nel-mgenre-multilingual:\n",
      "- generic_nel.py\n",
      ". Make sure to double-check they do not contain any added malicious code. To avoid downloading new versions of the code file, you can pin a revision.\n",
      "[nltk_data] Downloading package averaged_perceptron_tagger to\n",
      "[nltk_data]     /Users/eboros/nltk_data...\n",
      "[nltk_data]   Package averaged_perceptron_tagger is already up-to-\n",
      "[nltk_data]       date!\n",
      "[nltk_data] Downloading package averaged_perceptron_tagger_eng to\n",
      "[nltk_data]     /Users/eboros/nltk_data...\n",
      "[nltk_data]   Package averaged_perceptron_tagger_eng is already up-to-\n",
      "[nltk_data]       date!\n",
      "The argument `trust_remote_code` is to be used with Auto classes. It has no effect here and is ignored.\n",
      "/Users/eboros/Library/Python/3.9/lib/python/site-packages/torch/_utils.py:831: UserWarning: TypedStorage is deprecated. It will be removed in the future and UntypedStorage will be the only storage class. This should only matter to you if you are using storages directly.  To access UntypedStorage directly, use tensor.untyped_storage() instead of tensor.storage()\n",
      "  return self.fget.__get__(instance, owner)()\n"
     ]
    },
    {
     "name": "stdout",
     "output_type": "stream",
     "text": [
      "  Id: 33:55:Palace of Versailles:nel-mgenre-multilingual\n",
      "  Surface: Palace of Versailles\n",
      "  Label: Palace of Versailles\n",
      "  Wkd_id: Q2946\n",
      "  Url: https://en.wikipedia.org/wiki/Palace_of_Versailles\n",
      "  Type: UNK\n",
      "  Confidence_nel: 0.0\n",
      "  Loffset: 33\n",
      "  Roffset: 55\n",
      "\n"
     ]
    }
   ],
   "source": [
    "# Import the necessary modules from the transformers library\n",
    "from transformers import AutoTokenizer, AutoModelForSeq2SeqLM\n",
    "\n",
    "NEL_MODEL_NAME = \"impresso-project/nel-mgenre-multilingual\"\n",
    "\n",
    "# Load the tokenizer and model from the specified pre-trained model name\n",
    "# The model used here is \"https://huggingface.co/impresso-project/nel-mgenre-multilingual\"\n",
    "nel_tokenizer = AutoTokenizer.from_pretrained(\"impresso-project/nel-mgenre-multilingual\")\n",
    "\n",
    "nel_pipeline = pipeline(\"generic-nel\", model=NEL_MODEL_NAME, \n",
    "                        tokenizer=nel_tokenizer, \n",
    "                        trust_remote_code=True,\n",
    "                        device='cpu')\n",
    "\n",
    "simple_sentence = \"The event was held at the [START] Palace of Versailles [END], a symbol of French monarchy.\"\n",
    "\n",
    "linked_entity = nel_pipeline(simple_sentence)\n",
    "\n",
    "# Call the function\n",
    "print_nicely(linked_entity)"
   ]
  },
  {
   "cell_type": "code",
   "execution_count": null,
   "id": "bcb8e349-8e51-47aa-800e-2ca527aa8d13",
   "metadata": {},
   "outputs": [],
   "source": []
  },
  {
   "cell_type": "code",
   "execution_count": null,
   "id": "42a4d0f3-4081-47b7-bcf9-8e952d650f10",
   "metadata": {},
   "outputs": [],
   "source": []
  },
  {
   "cell_type": "code",
   "execution_count": null,
   "id": "aec3304b-db1b-4496-996b-a145385401e4",
   "metadata": {},
   "outputs": [],
   "source": []
  },
  {
   "cell_type": "code",
   "execution_count": null,
   "id": "76fe8797-69b8-4f9f-b6b1-293ceb2aa421",
   "metadata": {},
   "outputs": [],
   "source": []
  },
  {
   "cell_type": "code",
   "execution_count": null,
   "id": "8c17774b-09e8-4ceb-8ac4-4302e1848701",
   "metadata": {},
   "outputs": [],
   "source": []
  },
  {
   "cell_type": "code",
   "execution_count": null,
   "id": "d63a67a7-d8c2-4a24-b37d-549dfdf154a9",
   "metadata": {},
   "outputs": [],
   "source": []
  },
  {
   "cell_type": "code",
   "execution_count": null,
   "id": "6f1f22dc-b59c-4fbe-b2d2-182d7f989543",
   "metadata": {},
   "outputs": [],
   "source": []
  },
  {
   "cell_type": "code",
   "execution_count": null,
   "id": "762c3437-9640-4589-bc9a-7bf455437ee8",
   "metadata": {},
   "outputs": [],
   "source": []
  },
  {
   "cell_type": "code",
   "execution_count": null,
   "id": "5956f81d-da49-4af5-9653-fc3e505b5cd1",
   "metadata": {},
   "outputs": [],
   "source": []
  },
  {
   "cell_type": "code",
   "execution_count": null,
   "id": "b5d2c0d4-5798-43e4-8931-1f103c8616bd",
   "metadata": {},
   "outputs": [],
   "source": []
  }
 ],
 "metadata": {
  "kernelspec": {
   "display_name": "Python 3 (ipykernel)",
   "language": "python",
   "name": "python3"
  },
  "language_info": {
   "codemirror_mode": {
    "name": "ipython",
    "version": 3
   },
   "file_extension": ".py",
   "mimetype": "text/x-python",
   "name": "python",
   "nbconvert_exporter": "python",
   "pygments_lexer": "ipython3",
   "version": "3.9.6"
  }
 },
 "nbformat": 4,
 "nbformat_minor": 5
}

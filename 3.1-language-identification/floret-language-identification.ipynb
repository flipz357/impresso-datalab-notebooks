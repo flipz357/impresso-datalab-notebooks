{
  "cells": [
    {
      "cell_type": "markdown",
      "metadata": {
        "colab_type": "text",
        "id": "view-in-github"
      },
      "source": [
        "<a href=\"https://colab.research.google.com/github/impresso/impresso-datalab-notebooks/blob/main/3.1-language-identification/floret-language-identification.ipynb\" target=\"_parent\"><img src=\"https://colab.research.google.com/assets/colab-badge.svg\" alt=\"Open In Colab\"/></a>\n"
      ]
    },
    {
      "cell_type": "markdown",
      "metadata": {
        "id": "T0CKTXyqcKFt"
      },
      "source": [
        "# Language Identification using Floret\n",
        "\n",
        "This notebook demonstrates how to use a pre-trained Floret language identification model downloaded from Hugging Face.\n",
        "We'll load the model, input some text, and predict the language of the text.\n"
      ]
    },
    {
      "cell_type": "markdown",
      "metadata": {
        "id": "uUhHooDycRCt"
      },
      "source": [
        "## 1. Install Dependencies\n",
        "\n",
        "First, we need to install `floret` and `huggingface_hub` to work with the Floret language identification model and Hugging Face.\n"
      ]
    },
    {
      "cell_type": "code",
      "execution_count": 5,
      "metadata": {
        "colab": {
          "base_uri": "https://localhost:8080/"
        },
        "id": "eKvs0oPhawd_",
        "outputId": "066b9b37-6c9a-4e5d-f381-f6114c655324"
      },
      "outputs": [
        {
          "name": "stdout",
          "output_type": "stream",
          "text": [
            "Requirement already satisfied: floret in /Users/siclemat/pj/2024/impresso/impresso-datalab-notebooks/.venv/lib/python3.12/site-packages (0.10.5)\n",
            "Requirement already satisfied: numpy in /Users/siclemat/pj/2024/impresso/impresso-datalab-notebooks/.venv/lib/python3.12/site-packages (from floret) (1.26.4)\n",
            "Requirement already satisfied: huggingface_hub in /Users/siclemat/pj/2024/impresso/impresso-datalab-notebooks/.venv/lib/python3.12/site-packages (0.23.4)\n",
            "Requirement already satisfied: filelock in /Users/siclemat/pj/2024/impresso/impresso-datalab-notebooks/.venv/lib/python3.12/site-packages (from huggingface_hub) (3.15.4)\n",
            "Requirement already satisfied: fsspec>=2023.5.0 in /Users/siclemat/pj/2024/impresso/impresso-datalab-notebooks/.venv/lib/python3.12/site-packages (from huggingface_hub) (2024.6.1)\n",
            "Requirement already satisfied: packaging>=20.9 in /Users/siclemat/pj/2024/impresso/impresso-datalab-notebooks/.venv/lib/python3.12/site-packages (from huggingface_hub) (24.1)\n",
            "Requirement already satisfied: pyyaml>=5.1 in /Users/siclemat/pj/2024/impresso/impresso-datalab-notebooks/.venv/lib/python3.12/site-packages (from huggingface_hub) (6.0.1)\n",
            "Requirement already satisfied: requests in /Users/siclemat/pj/2024/impresso/impresso-datalab-notebooks/.venv/lib/python3.12/site-packages (from huggingface_hub) (2.32.3)\n",
            "Requirement already satisfied: tqdm>=4.42.1 in /Users/siclemat/pj/2024/impresso/impresso-datalab-notebooks/.venv/lib/python3.12/site-packages (from huggingface_hub) (4.66.4)\n",
            "Requirement already satisfied: typing-extensions>=3.7.4.3 in /Users/siclemat/pj/2024/impresso/impresso-datalab-notebooks/.venv/lib/python3.12/site-packages (from huggingface_hub) (4.12.2)\n",
            "Requirement already satisfied: charset-normalizer<4,>=2 in /Users/siclemat/pj/2024/impresso/impresso-datalab-notebooks/.venv/lib/python3.12/site-packages (from requests->huggingface_hub) (3.3.2)\n",
            "Requirement already satisfied: idna<4,>=2.5 in /Users/siclemat/pj/2024/impresso/impresso-datalab-notebooks/.venv/lib/python3.12/site-packages (from requests->huggingface_hub) (3.7)\n",
            "Requirement already satisfied: urllib3<3,>=1.21.1 in /Users/siclemat/pj/2024/impresso/impresso-datalab-notebooks/.venv/lib/python3.12/site-packages (from requests->huggingface_hub) (2.2.2)\n",
            "Requirement already satisfied: certifi>=2017.4.17 in /Users/siclemat/pj/2024/impresso/impresso-datalab-notebooks/.venv/lib/python3.12/site-packages (from requests->huggingface_hub) (2024.7.4)\n"
          ]
        }
      ],
      "source": [
        "!pip install floret\n",
        "!pip install huggingface_hub"
      ]
    },
    {
      "cell_type": "markdown",
      "metadata": {
        "id": "k-3c3dhacYsJ"
      },
      "source": [
        "## 2. Model Information\n",
        "\n",
        "In this example, we are using a language identification model hosted on the Hugging Face Hub: `impresso-project/impresso-floret-langident`.\n",
        "The model can predict the language of a given text of a reasonable length and supports the main impresso languages: German (de), French (fr), Luxemburgish (lb), Italian (it), English (en)\n"
      ]
    },
    {
      "cell_type": "markdown",
      "metadata": {
        "id": "C5cxq30rch9r"
      },
      "source": [
        "## 3. Defining the FloretLangIdentifier Class\n",
        "\n",
        "This class downloads the Floret model from Hugging Face and loads it for prediction. We use `huggingface_hub` to download the model locally.\n"
      ]
    },
    {
      "cell_type": "code",
      "execution_count": 6,
      "metadata": {
        "id": "dKdWzGvUbFkU"
      },
      "outputs": [],
      "source": [
        "from huggingface_hub import hf_hub_download\n",
        "import floret\n",
        "\n",
        "\n",
        "class FloretLangIdentifier:\n",
        "    def __init__(self, repo_id, model_filename):\n",
        "        \"\"\"\n",
        "        Initialize the Floret language identification model by downloading it from Hugging Face.\n",
        "        Args:\n",
        "            repo_id (str): The Hugging Face repository ID (e.g., \"username/repo_name\").\n",
        "            model_filename (str): The model file name in the repository (e.g., \"model.bin\").\n",
        "        \"\"\"\n",
        "        model_path = self._download_model(repo_id, model_filename)\n",
        "        self.model = floret.load_model(model_path)\n",
        "\n",
        "    def _download_model(self, repo_id, model_filename):\n",
        "        \"\"\"\n",
        "        Download the model file from Hugging Face using huggingface_hub.\n",
        "        Args:\n",
        "            repo_id (str): The repository ID from which to download the model.\n",
        "            model_filename (str): The model filename in the Hugging Face repository.\n",
        "\n",
        "        Returns:\n",
        "            str: The local path to the downloaded model file.\n",
        "        \"\"\"\n",
        "        local_model_path = hf_hub_download(repo_id=repo_id, filename=model_filename)\n",
        "        return local_model_path\n",
        "\n",
        "    def predict(self, text):\n",
        "        \"\"\"\n",
        "        Predict the language of the input text.\n",
        "        Args:\n",
        "            text (str): The input text.\n",
        "\n",
        "        Returns:\n",
        "            List of predicted labels and their probabilities.\n",
        "        \"\"\"\n",
        "        predictions = self.model.predict(text)\n",
        "        return predictions\n",
        "\n",
        "    def predict_language(self, text):\n",
        "        \"\"\"\n",
        "        Predicts the language of the input text and returns the language code without the \"__label__\" prefix.\n",
        "\n",
        "        Args:\n",
        "            text (str): The input text.\n",
        "\n",
        "        Returns:\n",
        "            str: The predicted language code (e.g., \"en\" for English).\n",
        "        \"\"\"\n",
        "        predictions = self.model.predict(text)\n",
        "        if predictions:\n",
        "            # Extract the language code from the top prediction\n",
        "            language = predictions[0][0].replace(\"__label__\", \"\")\n",
        "            return language\n",
        "        else:\n",
        "            return None"
      ]
    },
    {
      "cell_type": "markdown",
      "metadata": {
        "id": "MgalRK6vcIYm"
      },
      "source": [
        "## 4. Using the Model for Prediction\n",
        "\n",
        "Now that the model is loaded, you can input your own text and predict the language.\n"
      ]
    },
    {
      "cell_type": "code",
      "execution_count": 7,
      "metadata": {
        "id": "JvCLxlW6aym7"
      },
      "outputs": [
        {
          "name": "stdout",
          "output_type": "stream",
          "text": [
            "Prediction Result: en\n"
          ]
        }
      ],
      "source": [
        "# Define the repository and model file\n",
        "repo_id = \"impresso-project/impresso-floret-langident\"\n",
        "model_filename = \"LID-40-3-2000000-1-4.bin\"\n",
        "\n",
        "# Initialize the FloretLangIdentifier with the repo and model file name\n",
        "model = FloretLangIdentifier(repo_id, model_filename)\n",
        "\n",
        "# Example text for prediction\n",
        "text = \"This is a test sentence.\"\n",
        "\n",
        "# Predict the language\n",
        "result = model.predict_language(text)\n",
        "print(\"Prediction Result:\", result)"
      ]
    },
    {
      "cell_type": "code",
      "execution_count": 8,
      "metadata": {
        "id": "sndiXfDta-TZ"
      },
      "outputs": [
        {
          "name": "stdout",
          "output_type": "stream",
          "text": [
            "Prediction Result: lb\n"
          ]
        }
      ],
      "source": [
        "# Interactive text input\n",
        "text = input(\"Enter a sentence for language identification: \")\n",
        "result = model.predict_language(text)\n",
        "print(\"Prediction Result:\", result)"
      ]
    },
    {
      "cell_type": "markdown",
      "metadata": {
        "id": "ZygYQTZAc5Fz"
      },
      "source": [
        "## 5. Summary and Next Steps\n",
        "\n",
        "In this notebook, we used a pre-trained Floret language identification model to predict the language of input text. You can modify the input or explore other models from Hugging Face.\n",
        "\n",
        "Feel free to try other datasets, text, or languages to experiment with the model.\n"
      ]
    },
    {
      "cell_type": "code",
      "execution_count": null,
      "metadata": {
        "id": "WOHoTsq6cvIG"
      },
      "outputs": [],
      "source": []
    }
  ],
  "metadata": {
    "colab": {
      "authorship_tag": "ABX9TyPFGAnC1hJD6BSZqhIDh7Rd",
      "include_colab_link": true,
      "provenance": []
    },
    "kernelspec": {
      "display_name": "Python 3",
      "name": "python3"
    },
    "language_info": {
      "codemirror_mode": {
        "name": "ipython",
        "version": 3
      },
      "file_extension": ".py",
      "mimetype": "text/x-python",
      "name": "python",
      "nbconvert_exporter": "python",
      "pygments_lexer": "ipython3",
      "version": "3.12.2"
    }
  },
  "nbformat": 4,
  "nbformat_minor": 0
}

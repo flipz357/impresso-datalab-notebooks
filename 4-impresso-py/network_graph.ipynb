{
  "cells": [
    {
      "cell_type": "markdown",
      "metadata": {
        "id": "ge_Cq0FFaIrR"
      },
      "source": [
        "# Network graph with Impresso Py\n",
        "\n",
        "<a target=\"_blank\" href=\"https://colab.research.google.com/github/impresso/impresso-datalab-notebooks/4-impresso-py/network_graph.ipynb\">\n",
        "  <img src=\"https://colab.research.google.com/assets/colab-badge.svg\" alt=\"Open In Colab\"/>\n",
        "</a>"
      ]
    },
    {
      "cell_type": "markdown",
      "metadata": {
        "id": "TwR9UmpvaLhp"
      },
      "source": [
        "## Install dependencies"
      ]
    },
    {
      "cell_type": "code",
      "execution_count": null,
      "metadata": {
        "colab": {
          "base_uri": "https://localhost:8080/"
        },
        "id": "WRpCUxZdaGUf",
        "outputId": "4c3558b9-0ae9-4ca5-fcf5-cb6ab5ec8922"
      },
      "outputs": [],
      "source": [
        "%pip install git+https://github.com/impresso/impresso-py.git ipysigma"
      ]
    },
    {
      "cell_type": "markdown",
      "metadata": {
        "id": "q1NQ9Kq9aVm4"
      },
      "source": [
        "## Connect to Impresso"
      ]
    },
    {
      "cell_type": "code",
      "execution_count": null,
      "metadata": {
        "colab": {
          "base_uri": "https://localhost:8080/"
        },
        "id": "neqz3bBJaYr2",
        "outputId": "0a469b7a-0958-48b6-c056-1c659bc1317e"
      },
      "outputs": [],
      "source": [
        "from impresso import connect, OR, AND, DateRange\n",
        "\n",
        "impresso = connect(public_api_url=\"https://dev.impresso-project.ch/public-api\")"
      ]
    },
    {
      "cell_type": "markdown",
      "metadata": {
        "id": "b-2vEEpkawoj"
      },
      "source": [
        "## Part 1: Get entities and their co-occurrences\n",
        "\n",
        "Find all persons mentioned in all articles that talk about the [Prague Spring](https://en.wikipedia.org/wiki/Prague_Spring)."
      ]
    },
    {
      "cell_type": "code",
      "execution_count": null,
      "metadata": {
        "id": "ebAC0LuZEooc"
      },
      "outputs": [],
      "source": [
        "query = OR(\"Prague Spring\", \"Prager Frühling\", \"Printemps de Prague\")"
      ]
    },
    {
      "cell_type": "code",
      "execution_count": null,
      "metadata": {
        "colab": {
          "base_uri": "https://localhost:8080/",
          "height": 489
        },
        "id": "FnS9eIZba0Dz",
        "outputId": "a8d5c592-ef62-40fa-8848-aea5dbc2c2ac"
      },
      "outputs": [],
      "source": [
        "persons = impresso.search.facet(\n",
        "  facet=\"person\",\n",
        "  q=query,\n",
        "  order_by=\"-count\",\n",
        "  limit=100\n",
        ")\n",
        "persons"
      ]
    },
    {
      "cell_type": "markdown",
      "metadata": {
        "id": "3zJPhvgXcR9d"
      },
      "source": [
        "Get all combinations of all entities with a mention count higher than `N`."
      ]
    },
    {
      "cell_type": "code",
      "execution_count": null,
      "metadata": {
        "colab": {
          "base_uri": "https://localhost:8080/"
        },
        "id": "noFYDdkTcbZU",
        "outputId": "67846bbb-9927-4cdb-fbb1-9b5be1ff2828"
      },
      "outputs": [],
      "source": [
        "import itertools\n",
        "\n",
        "n = 10\n",
        "\n",
        "df = persons.df\n",
        "df = df[df[\"count\"] > n]\n",
        "persons_ids = df.uid.tolist()\n",
        "print(f\"Total persons selected: {len(persons_ids)}\")\n",
        "\n",
        "persons_ids_combinations = list(itertools.combinations(persons_ids, 2))\n",
        "print(f\"Total combinations: {len(persons_ids_combinations)}\")"
      ]
    },
    {
      "cell_type": "markdown",
      "metadata": {},
      "source": [
        "A check to make sure that we do not try to get too much data from the Impresso API. \n",
        "One entity pair == one API call."
      ]
    },
    {
      "cell_type": "code",
      "execution_count": null,
      "metadata": {
        "id": "_KuW7vzjBh2A"
      },
      "outputs": [],
      "source": [
        "if len(persons_ids_combinations) > 500:\n",
        "  msg = (\n",
        "      f\"The number of combinations is quite high ({len(persons_ids_combinations)}). \" +\n",
        "      \"This may put a lot of load on Impresso and your requests may be throttled. \" +\n",
        "      \"Try to increase the threshold number of mentions in the cell above which will reduce the number of selected persons. \" +\n",
        "      \"You can also disable this error by commenting out this cell, if this number of combinations is expected.\"\n",
        "  )\n",
        "  raise Exception(msg)"
      ]
    },
    {
      "cell_type": "markdown",
      "metadata": {
        "id": "M2tpzlOWdpjX"
      },
      "source": [
        "Get timestamps and counts of all articles where persons pairs appear."
      ]
    },
    {
      "cell_type": "code",
      "execution_count": null,
      "metadata": {
        "colab": {
          "base_uri": "https://localhost:8080/"
        },
        "id": "d-yxLSCQdpAz",
        "outputId": "5206bd54-9e1e-4ce9-f884-0418283fd2eb"
      },
      "outputs": [],
      "source": [
        "from impresso.util.error import ImpressoError\n",
        "from time import sleep\n",
        "\n",
        "connections = []\n",
        "\n",
        "for idx, combo in enumerate(persons_ids_combinations):\n",
        "  try:\n",
        "    result = impresso.search.facet(\n",
        "      facet=\"daterange\",\n",
        "      q=query,\n",
        "      entity_id=AND(*combo),\n",
        "      limit=1000\n",
        "    )\n",
        "  except ImpressoError as e:\n",
        "    if e.error.status == 429:\n",
        "      print(f\"Sleeping because of {e}\")\n",
        "      sleep(2)\n",
        "\n",
        "  if result.size > 0:\n",
        "    df = result.df\n",
        "\n",
        "    items = list(zip(df.index.tolist(), df['count'].tolist(), [result.url for i in range(len(df))]))\n",
        "    connections.append((combo, items))\n",
        "    # print(f\"Found {len(df)} connections for {combo}\", end=' ')\n",
        "\n",
        "  if idx % 10 == 0:\n",
        "    print(f\"{idx} done out of {len(persons_ids_combinations)}\")"
      ]
    },
    {
      "cell_type": "markdown",
      "metadata": {
        "id": "Ak1rEp7Omi6_"
      },
      "source": [
        "Put them all into a dataframe"
      ]
    },
    {
      "cell_type": "code",
      "execution_count": null,
      "metadata": {
        "colab": {
          "base_uri": "https://localhost:8080/",
          "height": 424
        },
        "id": "qkgCRrr3ez3r",
        "outputId": "2bf69548-2efc-4c90-9a8f-990e400bbcba"
      },
      "outputs": [],
      "source": [
        "import pandas as pd\n",
        "\n",
        "connections_denormalised = []\n",
        "for c in connections:\n",
        "  nodes, edges = c\n",
        "  # print(nodes)\n",
        "\n",
        "  connections_denormalised.extend(\n",
        "    [[node_a, node_b, ts, count, url] for (node_a, node_b), (ts, count, url) in zip([nodes for i in range(len(edges))], edges)]\n",
        "  )\n",
        "\n",
        "connections_df = pd.DataFrame(connections_denormalised, columns=('node_a', 'node_b', 'timestamp', 'count', 'url'))\n",
        "connections_df"
      ]
    },
    {
      "cell_type": "code",
      "execution_count": null,
      "metadata": {
        "id": "j30zGf8Cn-11"
      },
      "outputs": [],
      "source": [
        "connections_df.to_csv(\"connections.csv\")"
      ]
    },
    {
      "cell_type": "markdown",
      "metadata": {
        "id": "BDSucJXvoNTG"
      },
      "source": [
        "## Part 2: visualise"
      ]
    },
    {
      "cell_type": "code",
      "execution_count": null,
      "metadata": {
        "colab": {
          "base_uri": "https://localhost:8080/",
          "height": 424
        },
        "id": "juaVZgkWoRKL",
        "outputId": "24d51d3c-a583-4cb8-acc2-d242d419f994"
      },
      "outputs": [],
      "source": [
        "import pandas as pd\n",
        "\n",
        "connections_df = pd.read_csv(\"connections.csv\")\n",
        "connections_df"
      ]
    },
    {
      "cell_type": "code",
      "execution_count": null,
      "metadata": {
        "colab": {
          "base_uri": "https://localhost:8080/",
          "height": 1000
        },
        "id": "7oD3RMWtfmXw",
        "outputId": "c1fba60c-b2af-4f4a-d59a-258e222c27cf"
      },
      "outputs": [],
      "source": [
        "grouped_connections_df = connections_df.groupby(['node_a', 'node_b']) \\\n",
        "    .agg({'timestamp': lambda x: ', '.join(list(x)), 'count': 'sum', 'url': lambda x: list(set(x))[0]}) \\\n",
        "    .reset_index()\n",
        "grouped_connections_df"
      ]
    },
    {
      "cell_type": "code",
      "execution_count": null,
      "metadata": {
        "colab": {
          "base_uri": "https://localhost:8080/"
        },
        "id": "MDvmvxTIo1-D",
        "outputId": "a2caee20-ae78-4dc4-973b-d137b94bbbd7"
      },
      "outputs": [],
      "source": [
        "import networkx as nx\n",
        "\n",
        "G = nx.from_pandas_edgelist(\n",
        "    grouped_connections_df,\n",
        "    source='node_a',\n",
        "    target='node_b',\n",
        "    edge_attr=['count', 'url'],\n",
        "    create_using=nx.MultiGraph()\n",
        ")\n",
        "for i in sorted(G.nodes()):\n",
        "    G.nodes[i]['url'] = f\"https://impresso-project.ch/app/entities/{i}\"\n",
        "G.nodes"
      ]
    },
    {
      "cell_type": "code",
      "execution_count": null,
      "metadata": {
        "colab": {
          "base_uri": "https://localhost:8080/"
        },
        "id": "wlKjTDFqEAJ-",
        "outputId": "63f11697-e80b-4837-a475-05a02d9641c8"
      },
      "outputs": [],
      "source": [
        "filename = input(\"Enter the filename: \")\n",
        "filename = f\"{filename.replace(' ', '_')}.gefx\""
      ]
    },
    {
      "cell_type": "code",
      "execution_count": null,
      "metadata": {
        "id": "Q2GqiVV2VPTB"
      },
      "outputs": [],
      "source": [
        "nx.write_gexf(G, filename)"
      ]
    },
    {
      "cell_type": "code",
      "execution_count": null,
      "metadata": {
        "id": "_98XMUAfU45K"
      },
      "outputs": [],
      "source": [
        "from google.colab import output\n",
        "output.enable_custom_widget_manager()"
      ]
    },
    {
      "cell_type": "code",
      "execution_count": null,
      "metadata": {
        "colab": {
          "base_uri": "https://localhost:8080/",
          "height": 539,
          "referenced_widgets": [
            "749816dc5fef43e79e636c91065eff0b"
          ]
        },
        "id": "pzXtYjKZUvZm",
        "outputId": "986d1e75-05d2-4948-9fce-a5c8927fd5b7"
      },
      "outputs": [],
      "source": [
        "import networkx as nx\n",
        "from ipysigma import Sigma\n",
        "\n",
        "# Importing a gexf graph\n",
        "g = nx.read_gexf(filename)\n",
        "\n",
        "# Displaying the graph with a size mapped on degree and\n",
        "# a color mapped on a categorical attribute of the nodes\n",
        "Sigma(g, node_size=g.degree, edge_size='count', clickable_edges=True)"
      ]
    }
  ],
  "metadata": {
    "colab": {
      "collapsed_sections": [
        "TwR9UmpvaLhp",
        "q1NQ9Kq9aVm4"
      ],
      "provenance": []
    },
    "kernelspec": {
      "display_name": "Python 3",
      "name": "python3"
    },
    "language_info": {
      "name": "python"
    },
    "widgets": {
      "application/vnd.jupyter.widget-state+json": {
        "749816dc5fef43e79e636c91065eff0b": {
          "model_module": "ipysigma",
          "model_module_version": "^0.24.2",
          "model_name": "SigmaModel",
          "state": {
            "_dom_classes": [],
            "_model_module": "ipysigma",
            "_model_module_version": "^0.24.2",
            "_model_name": "SigmaModel",
            "_view_count": null,
            "_view_module": "ipysigma",
            "_view_module_version": "^0.24.2",
            "_view_name": "SigmaView",
            "background_color": "white",
            "camera_state": {
              "angle": 0,
              "ratio": 0.9382064848159672,
              "x": 0.49339932353373006,
              "y": 0.5273857895525292
            },
            "clickable_edges": true,
            "data": {
              "edges": [
                {
                  "attributes": {
                    "count": 7,
                    "id": "0",
                    "url": "https://dev.impresso-project.ch/app/search?index=search&facet=type&domain=daterange&sq=CjgYByoQUHJhZ2VyIEZyw7xobGluZyoTUHJpbnRlbXBzIGRlIFByYWd1ZSoNUHJhZ3VlIFNwcmluZwpEEAEYCCoeYWlkYS0wMDAxLTUwLUFudG9uw61uX05vdm90bsO9Kh5haWRhLTAwMDEtNTAtQWxleGFuZGVyX0R1YsSNZWs=&p=1"
                  },
                  "source": "aida-0001-50-Alexander_Dubček",
                  "target": "aida-0001-50-Antonín_Novotný"
                },
                {
                  "attributes": {
                    "count": 24,
                    "id": "1",
                    "url": "https://dev.impresso-project.ch/app/search?index=search&facet=type&domain=daterange&sq=CjgYByoQUHJhZ2VyIEZyw7xobGluZyoTUHJpbnRlbXBzIGRlIFByYWd1ZSoNUHJhZ3VlIFNwcmluZwpBEAEYCCoeYWlkYS0wMDAxLTUwLUFsZXhhbmRlcl9EdWLEjWVrKhthaWRhLTAwMDEtNTAtR3VzdMOhdl9IdXPDoWs=&p=1"
                  },
                  "source": "aida-0001-50-Alexander_Dubček",
                  "target": "aida-0001-50-Gustáv_Husák"
                },
                {
                  "attributes": {
                    "count": 4,
                    "id": "2",
                    "url": "https://dev.impresso-project.ch/app/search?index=search&facet=type&domain=daterange&sq=CjgYByoQUHJhZ2VyIEZyw7xobGluZyoTUHJpbnRlbXBzIGRlIFByYWd1ZSoNUHJhZ3VlIFNwcmluZwo9EAEYCCoXYWlkYS0wMDAxLTUwLUphbl9QYWxhY2gqHmFpZGEtMDAwMS01MC1BbGV4YW5kZXJfRHVixI1law==&p=1"
                  },
                  "source": "aida-0001-50-Alexander_Dubček",
                  "target": "aida-0001-50-Jan_Palach"
                },
                {
                  "attributes": {
                    "count": 8,
                    "id": "3",
                    "url": "https://dev.impresso-project.ch/app/search?index=search&facet=type&domain=daterange&sq=CjgYByoQUHJhZ2VyIEZyw7xobGluZyoTUHJpbnRlbXBzIGRlIFByYWd1ZSoNUHJhZ3VlIFNwcmluZwpDEAEYCCoeYWlkYS0wMDAxLTUwLUFsZXhhbmRlcl9EdWLEjWVrKh1haWRhLTAwMDEtNTAtSm9zZWZfU21ya292c2vDvQ==&p=1"
                  },
                  "source": "aida-0001-50-Alexander_Dubček",
                  "target": "aida-0001-50-Josef_Smrkovský"
                },
                {
                  "attributes": {
                    "count": 7,
                    "id": "4",
                    "url": "https://dev.impresso-project.ch/app/search?index=search&facet=type&domain=daterange&sq=CjgYByoQUHJhZ2VyIEZyw7xobGluZyoTUHJpbnRlbXBzIGRlIFByYWd1ZSoNUHJhZ3VlIFNwcmluZwpCEAEYCCocYWlkYS0wMDAxLTUwLUx1ZHbDrWtfU3ZvYm9kYSoeYWlkYS0wMDAxLTUwLUFsZXhhbmRlcl9EdWLEjWVr&p=1"
                  },
                  "source": "aida-0001-50-Alexander_Dubček",
                  "target": "aida-0001-50-Ludvík_Svoboda"
                },
                {
                  "attributes": {
                    "count": 7,
                    "id": "5",
                    "url": "https://dev.impresso-project.ch/app/search?index=search&facet=type&domain=daterange&sq=CjgYByoQUHJhZ2VyIEZyw7xobGluZyoTUHJpbnRlbXBzIGRlIFByYWd1ZSoNUHJhZ3VlIFNwcmluZwpEEAEYCCoeYWlkYS0wMDAxLTUwLU1pa2hhaWxfR29yYmFjaGV2Kh5haWRhLTAwMDEtNTAtQWxleGFuZGVyX0R1YsSNZWs=&p=1"
                  },
                  "source": "aida-0001-50-Alexander_Dubček",
                  "target": "aida-0001-50-Mikhail_Gorbachev"
                },
                {
                  "attributes": {
                    "count": 9,
                    "id": "6",
                    "url": "https://dev.impresso-project.ch/app/search?index=search&facet=type&domain=daterange&sq=CjgYByoQUHJhZ2VyIEZyw7xobGluZyoTUHJpbnRlbXBzIGRlIFByYWd1ZSoNUHJhZ3VlIFNwcmluZwpEEAEYCCoeYWlkYS0wMDAxLTUwLU9sZMWZaWNoX8SMZXJuw61rKh5haWRhLTAwMDEtNTAtQWxleGFuZGVyX0R1YsSNZWs=&p=1"
                  },
                  "source": "aida-0001-50-Alexander_Dubček",
                  "target": "aida-0001-50-Oldřich_Černík"
                },
                {
                  "attributes": {
                    "count": 7,
                    "id": "7",
                    "url": "https://dev.impresso-project.ch/app/search?index=search&facet=type&domain=daterange&sq=CjgYByoQUHJhZ2VyIEZyw7xobGluZyoTUHJpbnRlbXBzIGRlIFByYWd1ZSoNUHJhZ3VlIFNwcmluZwo7EAEYCCoVYWlkYS0wMDAxLTUwLU90YV/FoGlrKh5haWRhLTAwMDEtNTAtQWxleGFuZGVyX0R1YsSNZWs=&p=1"
                  },
                  "source": "aida-0001-50-Alexander_Dubček",
                  "target": "aida-0001-50-Ota_Šik"
                },
                {
                  "attributes": {
                    "count": 13,
                    "id": "8",
                    "url": "https://dev.impresso-project.ch/app/search?index=search&facet=type&domain=daterange&sq=CjgYByoQUHJhZ2VyIEZyw7xobGluZyoTUHJpbnRlbXBzIGRlIFByYWd1ZSoNUHJhZ3VlIFNwcmluZwpAEAEYCCoaYWlkYS0wMDAxLTUwLVbDoWNsYXZfSGF2ZWwqHmFpZGEtMDAwMS01MC1BbGV4YW5kZXJfRHVixI1law==&p=1"
                  },
                  "source": "aida-0001-50-Alexander_Dubček",
                  "target": "aida-0001-50-Václav_Havel"
                },
                {
                  "attributes": {
                    "count": 1,
                    "id": "9",
                    "url": "https://dev.impresso-project.ch/app/search?index=search&facet=type&domain=daterange&sq=CjgYByoQUHJhZ2VyIEZyw7xobGluZyoTUHJpbnRlbXBzIGRlIFByYWd1ZSoNUHJhZ3VlIFNwcmluZwo/EAEYCCoeYWlkYS0wMDAxLTUwLUFsZXhhbmRlcl9EdWLEjWVrKhlhaWRhLTAwMDEtNTAtV2lsbHlfQnJhbmR0&p=1"
                  },
                  "source": "aida-0001-50-Alexander_Dubček",
                  "target": "aida-0001-50-Willy_Brandt"
                },
                {
                  "attributes": {
                    "count": 2,
                    "id": "10",
                    "url": "https://dev.impresso-project.ch/app/search?index=search&facet=type&domain=daterange&sq=CjgYByoQUHJhZ2VyIEZyw7xobGluZyoTUHJpbnRlbXBzIGRlIFByYWd1ZSoNUHJhZ3VlIFNwcmluZwpDEAEYCCoeYWlkYS0wMDAxLTUwLUFsZXhhbmRlcl9EdWLEjWVrKh1haWRhLTAwMDEtNTAtWmRlbsSba19NbHluw6HFmQ==&p=1"
                  },
                  "source": "aida-0001-50-Alexander_Dubček",
                  "target": "aida-0001-50-Zdeněk_Mlynář"
                },
                {
                  "attributes": {
                    "count": 1,
                    "id": "11",
                    "url": "https://dev.impresso-project.ch/app/search?index=search&facet=type&domain=daterange&sq=CjgYByoQUHJhZ2VyIEZyw7xobGluZyoTUHJpbnRlbXBzIGRlIFByYWd1ZSoNUHJhZ3VlIFNwcmluZwpDEAEYCCodYWlkYS0wMDAxLTUwLVbEm3JhX0NoeXRpbG92w6EqHmFpZGEtMDAwMS01MC1BbnRvbsOtbl9Ob3ZvdG7DvQ==&p=1"
                  },
                  "source": "aida-0001-50-Antonín_Novotný",
                  "target": "aida-0001-50-Věra_Chytilová"
                },
                {
                  "attributes": {
                    "count": 4,
                    "id": "12",
                    "url": "https://dev.impresso-project.ch/app/search?index=search&facet=type&domain=daterange&sq=CjgYByoQUHJhZ2VyIEZyw7xobGluZyoTUHJpbnRlbXBzIGRlIFByYWd1ZSoNUHJhZ3VlIFNwcmluZwpBEAEYCCoeYWlkYS0wMDAxLTUwLUFudG9uw61uX05vdm90bsO9KhthaWRhLTAwMDEtNTAtR3VzdMOhdl9IdXPDoWs=&p=1"
                  },
                  "source": "aida-0001-50-Antonín_Novotný",
                  "target": "aida-0001-50-Gustáv_Husák"
                },
                {
                  "attributes": {
                    "count": 1,
                    "id": "13",
                    "url": "https://dev.impresso-project.ch/app/search?index=search&facet=type&domain=daterange&sq=CjgYByoQUHJhZ2VyIEZyw7xobGluZyoTUHJpbnRlbXBzIGRlIFByYWd1ZSoNUHJhZ3VlIFNwcmluZwpAEAEYCCoeYWlkYS0wMDAxLTUwLUFudG9uw61uX05vdm90bsO9KhphaWRhLTAwMDEtNTAtSmnFmcOtX01lbnplbA==&p=1"
                  },
                  "source": "aida-0001-50-Antonín_Novotný",
                  "target": "aida-0001-50-Jiří_Menzel"
                },
                {
                  "attributes": {
                    "count": 1,
                    "id": "14",
                    "url": "https://dev.impresso-project.ch/app/search?index=search&facet=type&domain=daterange&sq=CjgYByoQUHJhZ2VyIEZyw7xobGluZyoTUHJpbnRlbXBzIGRlIFByYWd1ZSoNUHJhZ3VlIFNwcmluZwpDEAEYCCoeYWlkYS0wMDAxLTUwLUFudG9uw61uX05vdm90bsO9Kh1haWRhLTAwMDEtNTAtSm9zZWZfU21ya292c2vDvQ==&p=1"
                  },
                  "source": "aida-0001-50-Antonín_Novotný",
                  "target": "aida-0001-50-Josef_Smrkovský"
                },
                {
                  "attributes": {
                    "count": 4,
                    "id": "15",
                    "url": "https://dev.impresso-project.ch/app/search?index=search&facet=type&domain=daterange&sq=CjgYByoQUHJhZ2VyIEZyw7xobGluZyoTUHJpbnRlbXBzIGRlIFByYWd1ZSoNUHJhZ3VlIFNwcmluZwpCEAEYCCocYWlkYS0wMDAxLTUwLUx1ZHbDrWtfU3ZvYm9kYSoeYWlkYS0wMDAxLTUwLUFudG9uw61uX05vdm90bsO9&p=1"
                  },
                  "source": "aida-0001-50-Antonín_Novotný",
                  "target": "aida-0001-50-Ludvík_Svoboda"
                },
                {
                  "attributes": {
                    "count": 2,
                    "id": "16",
                    "url": "https://dev.impresso-project.ch/app/search?index=search&facet=type&domain=daterange&sq=CjgYByoQUHJhZ2VyIEZyw7xobGluZyoTUHJpbnRlbXBzIGRlIFByYWd1ZSoNUHJhZ3VlIFNwcmluZwpEEAEYCCoeYWlkYS0wMDAxLTUwLU9sZMWZaWNoX8SMZXJuw61rKh5haWRhLTAwMDEtNTAtQW50b27DrW5fTm92b3Ruw70=&p=1"
                  },
                  "source": "aida-0001-50-Antonín_Novotný",
                  "target": "aida-0001-50-Oldřich_Černík"
                },
                {
                  "attributes": {
                    "count": 2,
                    "id": "17",
                    "url": "https://dev.impresso-project.ch/app/search?index=search&facet=type&domain=daterange&sq=CjgYByoQUHJhZ2VyIEZyw7xobGluZyoTUHJpbnRlbXBzIGRlIFByYWd1ZSoNUHJhZ3VlIFNwcmluZwo7EAEYCCoVYWlkYS0wMDAxLTUwLU90YV/FoGlrKh5haWRhLTAwMDEtNTAtQW50b27DrW5fTm92b3Ruw70=&p=1"
                  },
                  "source": "aida-0001-50-Antonín_Novotný",
                  "target": "aida-0001-50-Ota_Šik"
                },
                {
                  "attributes": {
                    "count": 1,
                    "id": "18",
                    "url": "https://dev.impresso-project.ch/app/search?index=search&facet=type&domain=daterange&sq=CjgYByoQUHJhZ2VyIEZyw7xobGluZyoTUHJpbnRlbXBzIGRlIFByYWd1ZSoNUHJhZ3VlIFNwcmluZwo6EAEYCCoXYWlkYS0wMDAxLTUwLUphbl9QYWxhY2gqG2FpZGEtMDAwMS01MC1HdXN0w6F2X0h1c8Ohaw==&p=1"
                  },
                  "source": "aida-0001-50-Gustáv_Husák",
                  "target": "aida-0001-50-Jan_Palach"
                },
                {
                  "attributes": {
                    "count": 1,
                    "id": "19",
                    "url": "https://dev.impresso-project.ch/app/search?index=search&facet=type&domain=daterange&sq=CjgYByoQUHJhZ2VyIEZyw7xobGluZyoTUHJpbnRlbXBzIGRlIFByYWd1ZSoNUHJhZ3VlIFNwcmluZwo+EAEYCCobYWlkYS0wMDAxLTUwLUphcm9taWxfSmlyZcWhKhthaWRhLTAwMDEtNTAtR3VzdMOhdl9IdXPDoWs=&p=1"
                  },
                  "source": "aida-0001-50-Gustáv_Husák",
                  "target": "aida-0001-50-Jaromil_Jireš"
                },
                {
                  "attributes": {
                    "count": 1,
                    "id": "20",
                    "url": "https://dev.impresso-project.ch/app/search?index=search&facet=type&domain=daterange&sq=CjgYByoQUHJhZ2VyIEZyw7xobGluZyoTUHJpbnRlbXBzIGRlIFByYWd1ZSoNUHJhZ3VlIFNwcmluZwo9EAEYCCoaYWlkYS0wMDAxLTUwLUppxZnDrV9NZW56ZWwqG2FpZGEtMDAwMS01MC1HdXN0w6F2X0h1c8Ohaw==&p=1"
                  },
                  "source": "aida-0001-50-Gustáv_Husák",
                  "target": "aida-0001-50-Jiří_Menzel"
                },
                {
                  "attributes": {
                    "count": 5,
                    "id": "21",
                    "url": "https://dev.impresso-project.ch/app/search?index=search&facet=type&domain=daterange&sq=CjgYByoQUHJhZ2VyIEZyw7xobGluZyoTUHJpbnRlbXBzIGRlIFByYWd1ZSoNUHJhZ3VlIFNwcmluZwpAEAEYCCodYWlkYS0wMDAxLTUwLUpvc2VmX1NtcmtvdnNrw70qG2FpZGEtMDAwMS01MC1HdXN0w6F2X0h1c8Ohaw==&p=1"
                  },
                  "source": "aida-0001-50-Gustáv_Husák",
                  "target": "aida-0001-50-Josef_Smrkovský"
                },
                {
                  "attributes": {
                    "count": 3,
                    "id": "22",
                    "url": "https://dev.impresso-project.ch/app/search?index=search&facet=type&domain=daterange&sq=CjgYByoQUHJhZ2VyIEZyw7xobGluZyoTUHJpbnRlbXBzIGRlIFByYWd1ZSoNUHJhZ3VlIFNwcmluZwo/EAEYCCocYWlkYS0wMDAxLTUwLUx1ZHbDrWtfU3ZvYm9kYSobYWlkYS0wMDAxLTUwLUd1c3TDoXZfSHVzw6Fr&p=1"
                  },
                  "source": "aida-0001-50-Gustáv_Husák",
                  "target": "aida-0001-50-Ludvík_Svoboda"
                },
                {
                  "attributes": {
                    "count": 1,
                    "id": "23",
                    "url": "https://dev.impresso-project.ch/app/search?index=search&facet=type&domain=daterange&sq=CjgYByoQUHJhZ2VyIEZyw7xobGluZyoTUHJpbnRlbXBzIGRlIFByYWd1ZSoNUHJhZ3VlIFNwcmluZwpBEAEYCCoeYWlkYS0wMDAxLTUwLU1pa2hhaWxfR29yYmFjaGV2KhthaWRhLTAwMDEtNTAtR3VzdMOhdl9IdXPDoWs=&p=1"
                  },
                  "source": "aida-0001-50-Gustáv_Husák",
                  "target": "aida-0001-50-Mikhail_Gorbachev"
                },
                {
                  "attributes": {
                    "count": 6,
                    "id": "24",
                    "url": "https://dev.impresso-project.ch/app/search?index=search&facet=type&domain=daterange&sq=CjgYByoQUHJhZ2VyIEZyw7xobGluZyoTUHJpbnRlbXBzIGRlIFByYWd1ZSoNUHJhZ3VlIFNwcmluZwpBEAEYCCoeYWlkYS0wMDAxLTUwLU9sZMWZaWNoX8SMZXJuw61rKhthaWRhLTAwMDEtNTAtR3VzdMOhdl9IdXPDoWs=&p=1"
                  },
                  "source": "aida-0001-50-Gustáv_Husák",
                  "target": "aida-0001-50-Oldřich_Černík"
                },
                {
                  "attributes": {
                    "count": 7,
                    "id": "25",
                    "url": "https://dev.impresso-project.ch/app/search?index=search&facet=type&domain=daterange&sq=CjgYByoQUHJhZ2VyIEZyw7xobGluZyoTUHJpbnRlbXBzIGRlIFByYWd1ZSoNUHJhZ3VlIFNwcmluZwo4EAEYCCoVYWlkYS0wMDAxLTUwLU90YV/FoGlrKhthaWRhLTAwMDEtNTAtR3VzdMOhdl9IdXPDoWs=&p=1"
                  },
                  "source": "aida-0001-50-Gustáv_Husák",
                  "target": "aida-0001-50-Ota_Šik"
                },
                {
                  "attributes": {
                    "count": 5,
                    "id": "26",
                    "url": "https://dev.impresso-project.ch/app/search?index=search&facet=type&domain=daterange&sq=CjgYByoQUHJhZ2VyIEZyw7xobGluZyoTUHJpbnRlbXBzIGRlIFByYWd1ZSoNUHJhZ3VlIFNwcmluZwo9EAEYCCoaYWlkYS0wMDAxLTUwLVbDoWNsYXZfSGF2ZWwqG2FpZGEtMDAwMS01MC1HdXN0w6F2X0h1c8Ohaw==&p=1"
                  },
                  "source": "aida-0001-50-Gustáv_Husák",
                  "target": "aida-0001-50-Václav_Havel"
                },
                {
                  "attributes": {
                    "count": 3,
                    "id": "27",
                    "url": "https://dev.impresso-project.ch/app/search?index=search&facet=type&domain=daterange&sq=CjgYByoQUHJhZ2VyIEZyw7xobGluZyoTUHJpbnRlbXBzIGRlIFByYWd1ZSoNUHJhZ3VlIFNwcmluZwo8EAEYCCoZYWlkYS0wMDAxLTUwLVdpbGx5X0JyYW5kdCobYWlkYS0wMDAxLTUwLUd1c3TDoXZfSHVzw6Fr&p=1"
                  },
                  "source": "aida-0001-50-Gustáv_Husák",
                  "target": "aida-0001-50-Willy_Brandt"
                },
                {
                  "attributes": {
                    "count": 1,
                    "id": "28",
                    "url": "https://dev.impresso-project.ch/app/search?index=search&facet=type&domain=daterange&sq=CjgYByoQUHJhZ2VyIEZyw7xobGluZyoTUHJpbnRlbXBzIGRlIFByYWd1ZSoNUHJhZ3VlIFNwcmluZwpAEAEYCCodYWlkYS0wMDAxLTUwLVpkZW7Em2tfTWx5bsOhxZkqG2FpZGEtMDAwMS01MC1HdXN0w6F2X0h1c8Ohaw==&p=1"
                  },
                  "source": "aida-0001-50-Gustáv_Husák",
                  "target": "aida-0001-50-Zdeněk_Mlynář"
                },
                {
                  "attributes": {
                    "count": 1,
                    "id": "29",
                    "url": "https://dev.impresso-project.ch/app/search?index=search&facet=type&domain=daterange&sq=CjgYByoQUHJhZ2VyIEZyw7xobGluZyoTUHJpbnRlbXBzIGRlIFByYWd1ZSoNUHJhZ3VlIFNwcmluZwo4EAEYCCoXYWlkYS0wMDAxLTUwLUphbl9QYWxhY2gqGWFpZGEtMDAwMS01MC1XaWxseV9CcmFuZHQ=&p=1"
                  },
                  "source": "aida-0001-50-Jan_Palach",
                  "target": "aida-0001-50-Willy_Brandt"
                },
                {
                  "attributes": {
                    "count": 2,
                    "id": "30",
                    "url": "https://dev.impresso-project.ch/app/search?index=search&facet=type&domain=daterange&sq=CjgYByoQUHJhZ2VyIEZyw7xobGluZyoTUHJpbnRlbXBzIGRlIFByYWd1ZSoNUHJhZ3VlIFNwcmluZwo8EAEYCCoXYWlkYS0wMDAxLTUwLUphbl9QYWxhY2gqHWFpZGEtMDAwMS01MC1aZGVuxJtrX01seW7DocWZ&p=1"
                  },
                  "source": "aida-0001-50-Jan_Palach",
                  "target": "aida-0001-50-Zdeněk_Mlynář"
                },
                {
                  "attributes": {
                    "count": 1,
                    "id": "31",
                    "url": "https://dev.impresso-project.ch/app/search?index=search&facet=type&domain=daterange&sq=CjgYByoQUHJhZ2VyIEZyw7xobGluZyoTUHJpbnRlbXBzIGRlIFByYWd1ZSoNUHJhZ3VlIFNwcmluZwo0EAEYCCoVYWlkYS0wMDAxLTUwLU90YV/FoGlrKhdhaWRhLTAwMDEtNTAtSmFuX1BhbGFjaA==&p=1"
                  },
                  "source": "aida-0001-50-Jan_Palach",
                  "target": "aida-0001-50-Ota_Šik"
                },
                {
                  "attributes": {
                    "count": 2,
                    "id": "32",
                    "url": "https://dev.impresso-project.ch/app/search?index=search&facet=type&domain=daterange&sq=CjgYByoQUHJhZ2VyIEZyw7xobGluZyoTUHJpbnRlbXBzIGRlIFByYWd1ZSoNUHJhZ3VlIFNwcmluZwo5EAEYCCoXYWlkYS0wMDAxLTUwLUphbl9QYWxhY2gqGmFpZGEtMDAwMS01MC1Ww6FjbGF2X0hhdmVs&p=1"
                  },
                  "source": "aida-0001-50-Jan_Palach",
                  "target": "aida-0001-50-Václav_Havel"
                },
                {
                  "attributes": {
                    "count": 1,
                    "id": "33",
                    "url": "https://dev.impresso-project.ch/app/search?index=search&facet=type&domain=daterange&sq=CjgYByoQUHJhZ2VyIEZyw7xobGluZyoTUHJpbnRlbXBzIGRlIFByYWd1ZSoNUHJhZ3VlIFNwcmluZwpBEAEYCCocYWlkYS0wMDAxLTUwLUx1ZHbDrWtfU3ZvYm9kYSodYWlkYS0wMDAxLTUwLUpvc2VmX1NtcmtvdnNrw70=&p=1"
                  },
                  "source": "aida-0001-50-Josef_Smrkovský",
                  "target": "aida-0001-50-Ludvík_Svoboda"
                },
                {
                  "attributes": {
                    "count": 2,
                    "id": "34",
                    "url": "https://dev.impresso-project.ch/app/search?index=search&facet=type&domain=daterange&sq=CjgYByoQUHJhZ2VyIEZyw7xobGluZyoTUHJpbnRlbXBzIGRlIFByYWd1ZSoNUHJhZ3VlIFNwcmluZwpDEAEYCCoeYWlkYS0wMDAxLTUwLU9sZMWZaWNoX8SMZXJuw61rKh1haWRhLTAwMDEtNTAtSm9zZWZfU21ya292c2vDvQ==&p=1"
                  },
                  "source": "aida-0001-50-Josef_Smrkovský",
                  "target": "aida-0001-50-Oldřich_Černík"
                },
                {
                  "attributes": {
                    "count": 1,
                    "id": "35",
                    "url": "https://dev.impresso-project.ch/app/search?index=search&facet=type&domain=daterange&sq=CjgYByoQUHJhZ2VyIEZyw7xobGluZyoTUHJpbnRlbXBzIGRlIFByYWd1ZSoNUHJhZ3VlIFNwcmluZwo+EAEYCCodYWlkYS0wMDAxLTUwLUpvc2VmX1NtcmtvdnNrw70qGWFpZGEtMDAwMS01MC1XaWxseV9CcmFuZHQ=&p=1"
                  },
                  "source": "aida-0001-50-Josef_Smrkovský",
                  "target": "aida-0001-50-Willy_Brandt"
                },
                {
                  "attributes": {
                    "count": 5,
                    "id": "36",
                    "url": "https://dev.impresso-project.ch/app/search?index=search&facet=type&domain=daterange&sq=CjgYByoQUHJhZ2VyIEZyw7xobGluZyoTUHJpbnRlbXBzIGRlIFByYWd1ZSoNUHJhZ3VlIFNwcmluZwpCEAEYCCocYWlkYS0wMDAxLTUwLUx1ZHbDrWtfU3ZvYm9kYSoeYWlkYS0wMDAxLTUwLU9sZMWZaWNoX8SMZXJuw61r&p=1"
                  },
                  "source": "aida-0001-50-Ludvík_Svoboda",
                  "target": "aida-0001-50-Oldřich_Černík"
                },
                {
                  "attributes": {
                    "count": 4,
                    "id": "37",
                    "url": "https://dev.impresso-project.ch/app/search?index=search&facet=type&domain=daterange&sq=CjgYByoQUHJhZ2VyIEZyw7xobGluZyoTUHJpbnRlbXBzIGRlIFByYWd1ZSoNUHJhZ3VlIFNwcmluZwo5EAEYCCoVYWlkYS0wMDAxLTUwLU90YV/FoGlrKhxhaWRhLTAwMDEtNTAtTHVkdsOta19Tdm9ib2Rh&p=1"
                  },
                  "source": "aida-0001-50-Ludvík_Svoboda",
                  "target": "aida-0001-50-Ota_Šik"
                },
                {
                  "attributes": {
                    "count": 1,
                    "id": "38",
                    "url": "https://dev.impresso-project.ch/app/search?index=search&facet=type&domain=daterange&sq=CjgYByoQUHJhZ2VyIEZyw7xobGluZyoTUHJpbnRlbXBzIGRlIFByYWd1ZSoNUHJhZ3VlIFNwcmluZwpDEAEYCCoeYWlkYS0wMDAxLTUwLU1pa2hhaWxfR29yYmFjaGV2Kh1haWRhLTAwMDEtNTAtWmRlbsSba19NbHluw6HFmQ==&p=1"
                  },
                  "source": "aida-0001-50-Mikhail_Gorbachev",
                  "target": "aida-0001-50-Zdeněk_Mlynář"
                },
                {
                  "attributes": {
                    "count": 3,
                    "id": "39",
                    "url": "https://dev.impresso-project.ch/app/search?index=search&facet=type&domain=daterange&sq=CjgYByoQUHJhZ2VyIEZyw7xobGluZyoTUHJpbnRlbXBzIGRlIFByYWd1ZSoNUHJhZ3VlIFNwcmluZwpAEAEYCCoeYWlkYS0wMDAxLTUwLU1pa2hhaWxfR29yYmFjaGV2KhphaWRhLTAwMDEtNTAtVsOhY2xhdl9IYXZlbA==&p=1"
                  },
                  "source": "aida-0001-50-Mikhail_Gorbachev",
                  "target": "aida-0001-50-Václav_Havel"
                },
                {
                  "attributes": {
                    "count": 1,
                    "id": "40",
                    "url": "https://dev.impresso-project.ch/app/search?index=search&facet=type&domain=daterange&sq=CjgYByoQUHJhZ2VyIEZyw7xobGluZyoTUHJpbnRlbXBzIGRlIFByYWd1ZSoNUHJhZ3VlIFNwcmluZwo/EAEYCCoeYWlkYS0wMDAxLTUwLU9sZMWZaWNoX8SMZXJuw61rKhlhaWRhLTAwMDEtNTAtV2lsbHlfQnJhbmR0&p=1"
                  },
                  "source": "aida-0001-50-Oldřich_Černík",
                  "target": "aida-0001-50-Willy_Brandt"
                },
                {
                  "attributes": {
                    "count": 4,
                    "id": "41",
                    "url": "https://dev.impresso-project.ch/app/search?index=search&facet=type&domain=daterange&sq=CjgYByoQUHJhZ2VyIEZyw7xobGluZyoTUHJpbnRlbXBzIGRlIFByYWd1ZSoNUHJhZ3VlIFNwcmluZwo7EAEYCCoVYWlkYS0wMDAxLTUwLU90YV/FoGlrKh5haWRhLTAwMDEtNTAtT2xkxZlpY2hfxIxlcm7DrWs=&p=1"
                  },
                  "source": "aida-0001-50-Oldřich_Černík",
                  "target": "aida-0001-50-Ota_Šik"
                },
                {
                  "attributes": {
                    "count": 2,
                    "id": "42",
                    "url": "https://dev.impresso-project.ch/app/search?index=search&facet=type&domain=daterange&sq=CjgYByoQUHJhZ2VyIEZyw7xobGluZyoTUHJpbnRlbXBzIGRlIFByYWd1ZSoNUHJhZ3VlIFNwcmluZwo3EAEYCCoVYWlkYS0wMDAxLTUwLU90YV/FoGlrKhphaWRhLTAwMDEtNTAtVsOhY2xhdl9IYXZlbA==&p=1"
                  },
                  "source": "aida-0001-50-Ota_Šik",
                  "target": "aida-0001-50-Václav_Havel"
                },
                {
                  "attributes": {
                    "count": 1,
                    "id": "43",
                    "url": "https://dev.impresso-project.ch/app/search?index=search&facet=type&domain=daterange&sq=CjgYByoQUHJhZ2VyIEZyw7xobGluZyoTUHJpbnRlbXBzIGRlIFByYWd1ZSoNUHJhZ3VlIFNwcmluZwo2EAEYCCoVYWlkYS0wMDAxLTUwLU90YV/FoGlrKhlhaWRhLTAwMDEtNTAtV2lsbHlfQnJhbmR0&p=1"
                  },
                  "source": "aida-0001-50-Ota_Šik",
                  "target": "aida-0001-50-Willy_Brandt"
                },
                {
                  "attributes": {
                    "count": 2,
                    "id": "44",
                    "url": "https://dev.impresso-project.ch/app/search?index=search&facet=type&domain=daterange&sq=CjgYByoQUHJhZ2VyIEZyw7xobGluZyoTUHJpbnRlbXBzIGRlIFByYWd1ZSoNUHJhZ3VlIFNwcmluZwo6EAEYCCoVYWlkYS0wMDAxLTUwLU90YV/FoGlrKh1haWRhLTAwMDEtNTAtWmRlbsSba19NbHluw6HFmQ==&p=1"
                  },
                  "source": "aida-0001-50-Ota_Šik",
                  "target": "aida-0001-50-Zdeněk_Mlynář"
                },
                {
                  "attributes": {
                    "count": 1,
                    "id": "45",
                    "url": "https://dev.impresso-project.ch/app/search?index=search&facet=type&domain=daterange&sq=CjgYByoQUHJhZ2VyIEZyw7xobGluZyoTUHJpbnRlbXBzIGRlIFByYWd1ZSoNUHJhZ3VlIFNwcmluZwo8EAEYCCoaYWlkYS0wMDAxLTUwLVbDoWNsYXZfSGF2ZWwqGmFpZGEtMDAwMS01MC1KacWZw61fTWVuemVs&p=1"
                  },
                  "source": "aida-0001-50-Václav_Havel",
                  "target": "aida-0001-50-Jiří_Menzel"
                },
                {
                  "attributes": {
                    "count": 2,
                    "id": "46",
                    "url": "https://dev.impresso-project.ch/app/search?index=search&facet=type&domain=daterange&sq=CjgYByoQUHJhZ2VyIEZyw7xobGluZyoTUHJpbnRlbXBzIGRlIFByYWd1ZSoNUHJhZ3VlIFNwcmluZwo/EAEYCCodYWlkYS0wMDAxLTUwLVbEm3JhX0NoeXRpbG92w6EqGmFpZGEtMDAwMS01MC1KacWZw61fTWVuemVs&p=1"
                  },
                  "source": "aida-0001-50-Věra_Chytilová",
                  "target": "aida-0001-50-Jiří_Menzel"
                },
                {
                  "attributes": {
                    "count": 1,
                    "id": "47",
                    "url": "https://dev.impresso-project.ch/app/search?index=search&facet=type&domain=daterange&sq=CjgYByoQUHJhZ2VyIEZyw7xobGluZyoTUHJpbnRlbXBzIGRlIFByYWd1ZSoNUHJhZ3VlIFNwcmluZwpAEAEYCCodYWlkYS0wMDAxLTUwLVbEm3JhX0NoeXRpbG92w6EqG2FpZGEtMDAwMS01MC1KYXJvbWlsX0ppcmXFoQ==&p=1"
                  },
                  "source": "aida-0001-50-Věra_Chytilová",
                  "target": "aida-0001-50-Jaromil_Jireš"
                },
                {
                  "attributes": {
                    "count": 2,
                    "id": "48",
                    "url": "https://dev.impresso-project.ch/app/search?index=search&facet=type&domain=daterange&sq=CjgYByoQUHJhZ2VyIEZyw7xobGluZyoTUHJpbnRlbXBzIGRlIFByYWd1ZSoNUHJhZ3VlIFNwcmluZwo9EAEYCCobYWlkYS0wMDAxLTUwLUphcm9taWxfSmlyZcWhKhphaWRhLTAwMDEtNTAtSmnFmcOtX01lbnplbA==&p=1"
                  },
                  "source": "aida-0001-50-Jaromil_Jireš",
                  "target": "aida-0001-50-Jiří_Menzel"
                }
              ],
              "nodes": [
                {
                  "attributes": {
                    "ipysigma_kwarg_node_size": 11,
                    "label": "aida-0001-50-Alexander_Dubček",
                    "url": "https://impresso-project.ch/app/entities/aida-0001-50-Alexander_Dubček"
                  },
                  "key": "aida-0001-50-Alexander_Dubček"
                },
                {
                  "attributes": {
                    "ipysigma_kwarg_node_size": 8,
                    "label": "aida-0001-50-Antonín_Novotný",
                    "url": "https://impresso-project.ch/app/entities/aida-0001-50-Antonín_Novotný"
                  },
                  "key": "aida-0001-50-Antonín_Novotný"
                },
                {
                  "attributes": {
                    "ipysigma_kwarg_node_size": 13,
                    "label": "aida-0001-50-Gustáv_Husák",
                    "url": "https://impresso-project.ch/app/entities/aida-0001-50-Gustáv_Husák"
                  },
                  "key": "aida-0001-50-Gustáv_Husák"
                },
                {
                  "attributes": {
                    "ipysigma_kwarg_node_size": 6,
                    "label": "aida-0001-50-Jan_Palach",
                    "url": "https://impresso-project.ch/app/entities/aida-0001-50-Jan_Palach"
                  },
                  "key": "aida-0001-50-Jan_Palach"
                },
                {
                  "attributes": {
                    "ipysigma_kwarg_node_size": 6,
                    "label": "aida-0001-50-Josef_Smrkovský",
                    "url": "https://impresso-project.ch/app/entities/aida-0001-50-Josef_Smrkovský"
                  },
                  "key": "aida-0001-50-Josef_Smrkovský"
                },
                {
                  "attributes": {
                    "ipysigma_kwarg_node_size": 6,
                    "label": "aida-0001-50-Ludvík_Svoboda",
                    "url": "https://impresso-project.ch/app/entities/aida-0001-50-Ludvík_Svoboda"
                  },
                  "key": "aida-0001-50-Ludvík_Svoboda"
                },
                {
                  "attributes": {
                    "ipysigma_kwarg_node_size": 4,
                    "label": "aida-0001-50-Mikhail_Gorbachev",
                    "url": "https://impresso-project.ch/app/entities/aida-0001-50-Mikhail_Gorbachev"
                  },
                  "key": "aida-0001-50-Mikhail_Gorbachev"
                },
                {
                  "attributes": {
                    "ipysigma_kwarg_node_size": 7,
                    "label": "aida-0001-50-Oldřich_Černík",
                    "url": "https://impresso-project.ch/app/entities/aida-0001-50-Oldřich_Černík"
                  },
                  "key": "aida-0001-50-Oldřich_Černík"
                },
                {
                  "attributes": {
                    "ipysigma_kwarg_node_size": 9,
                    "label": "aida-0001-50-Ota_Šik",
                    "url": "https://impresso-project.ch/app/entities/aida-0001-50-Ota_Šik"
                  },
                  "key": "aida-0001-50-Ota_Šik"
                },
                {
                  "attributes": {
                    "ipysigma_kwarg_node_size": 6,
                    "label": "aida-0001-50-Václav_Havel",
                    "url": "https://impresso-project.ch/app/entities/aida-0001-50-Václav_Havel"
                  },
                  "key": "aida-0001-50-Václav_Havel"
                },
                {
                  "attributes": {
                    "ipysigma_kwarg_node_size": 6,
                    "label": "aida-0001-50-Willy_Brandt",
                    "url": "https://impresso-project.ch/app/entities/aida-0001-50-Willy_Brandt"
                  },
                  "key": "aida-0001-50-Willy_Brandt"
                },
                {
                  "attributes": {
                    "ipysigma_kwarg_node_size": 5,
                    "label": "aida-0001-50-Zdeněk_Mlynář",
                    "url": "https://impresso-project.ch/app/entities/aida-0001-50-Zdeněk_Mlynář"
                  },
                  "key": "aida-0001-50-Zdeněk_Mlynář"
                },
                {
                  "attributes": {
                    "ipysigma_kwarg_node_size": 3,
                    "label": "aida-0001-50-Věra_Chytilová",
                    "url": "https://impresso-project.ch/app/entities/aida-0001-50-Věra_Chytilová"
                  },
                  "key": "aida-0001-50-Věra_Chytilová"
                },
                {
                  "attributes": {
                    "ipysigma_kwarg_node_size": 3,
                    "label": "aida-0001-50-Jaromil_Jireš",
                    "url": "https://impresso-project.ch/app/entities/aida-0001-50-Jaromil_Jireš"
                  },
                  "key": "aida-0001-50-Jaromil_Jireš"
                },
                {
                  "attributes": {
                    "ipysigma_kwarg_node_size": 5,
                    "label": "aida-0001-50-Jiří_Menzel",
                    "url": "https://impresso-project.ch/app/entities/aida-0001-50-Jiří_Menzel"
                  },
                  "key": "aida-0001-50-Jiří_Menzel"
                }
              ],
              "options": {
                "multi": false,
                "type": "undirected"
              }
            },
            "edge_weight": "weight",
            "height": "500px",
            "layout": {
              "aida-0001-50-Alexander_Dubček": {
                "x": 0.15428948876230283,
                "y": 0.25273986629959766
              },
              "aida-0001-50-Antonín_Novotný": {
                "x": 0.5762050567157171,
                "y": 0.8675055755423209
              },
              "aida-0001-50-Gustáv_Husák": {
                "x": 0.4923045147706771,
                "y": 0.7549328770522359
              },
              "aida-0001-50-Jan_Palach": {
                "x": 0.536310160588477,
                "y": 0.6607164922702594
              },
              "aida-0001-50-Jaromil_Jireš": {
                "x": 0.2111467647774474,
                "y": 0.09947058602301147
              },
              "aida-0001-50-Jiří_Menzel": {
                "x": 0.599929496786351,
                "y": 0.0787483076490472
              },
              "aida-0001-50-Josef_Smrkovský": {
                "x": 0.17898877761019927,
                "y": 0.7423470400617883
              },
              "aida-0001-50-Ludvík_Svoboda": {
                "x": 0.7654569574501733,
                "y": 0.2409002179776765
              },
              "aida-0001-50-Mikhail_Gorbachev": {
                "x": 0.8666364121438902,
                "y": 0.3612731622048909
              },
              "aida-0001-50-Oldřich_Černík": {
                "x": 0.3750092524652347,
                "y": 0.43898357292952234
              },
              "aida-0001-50-Ota_Šik": {
                "x": 0.686974614630136,
                "y": 0.44860358368004677
              },
              "aida-0001-50-Václav_Havel": {
                "x": 0.40559004582969205,
                "y": 0.8051142792853555
              },
              "aida-0001-50-Věra_Chytilová": {
                "x": 0.6517501069627378,
                "y": 0.3711104926111498
              },
              "aida-0001-50-Willy_Brandt": {
                "x": 0.2755987667745767,
                "y": 0.4476774839346224
              },
              "aida-0001-50-Zdeněk_Mlynář": {
                "x": 0.692315680725632,
                "y": 0.22264914856719326
              }
            },
            "layout_settings": null,
            "max_categorical_colors": 10,
            "name": null,
            "node_metrics": {},
            "program_settings": {},
            "renderer_settings": {
              "defaultEdgeType": "rectangle",
              "defaultNodeType": "point",
              "enableEdgeClickEvents": true,
              "enableEdgeHoverEvents": true,
              "hideEdgesOnMove": false,
              "labelDensity": 1,
              "labelFont": "sans-serif",
              "labelGridCellSize": 250,
              "renderEdgeLabels": true,
              "zIndex": true
            },
            "selected_edge": null,
            "selected_edge_category_values": null,
            "selected_node": "aida-0001-50-Gustáv_Husák",
            "selected_node_category_values": null,
            "snapshot": null,
            "start_layout": false,
            "start_layout_for_seconds": null,
            "sync_key": null,
            "sync_targets": [
              "layout",
              "hover",
              "selection",
              "camera"
            ],
            "ui_settings": {
              "hideInfoPanel": false,
              "hideSearch": false
            },
            "visual_variables": {
              "edgeColor": {
                "attribute": "color",
                "default": "#ccc",
                "type": "raw"
              },
              "edgeCurveness": {
                "default": 0.25,
                "type": "constant"
              },
              "edgeLabel": {
                "attribute": "label",
                "default": null,
                "type": "raw"
              },
              "edgeSize": {
                "attribute": "count",
                "default": 0.5,
                "range": [
                  0.5,
                  10
                ],
                "type": "continuous"
              },
              "nodeBorderColor": {
                "default": null,
                "type": "disabled"
              },
              "nodeBorderRatio": {
                "default": null,
                "type": "disabled"
              },
              "nodeBorderSize": {
                "default": 1,
                "type": "constant"
              },
              "nodeColor": {
                "attribute": "color",
                "default": "#999",
                "type": "raw"
              },
              "nodeColorSaturation": {
                "default": null,
                "type": "disabled"
              },
              "nodeHaloColor": {
                "default": "red",
                "type": "constant"
              },
              "nodeHaloSize": {
                "default": null,
                "type": "disabled"
              },
              "nodeLabel": {
                "attribute": "label",
                "default": null,
                "type": "raw"
              },
              "nodeLabelColor": {
                "default": "#000",
                "type": "constant"
              },
              "nodeLabelSize": {
                "default": 12,
                "type": "constant"
              },
              "nodePictogram": {
                "default": null,
                "type": "disabled"
              },
              "nodePictogramColor": {
                "default": "#000",
                "type": "constant"
              },
              "nodeShape": {
                "default": null,
                "type": "disabled"
              },
              "nodeSize": {
                "attribute": "ipysigma_kwarg_node_size",
                "default": 3,
                "range": [
                  3,
                  15
                ],
                "type": "continuous"
              }
            }
          }
        }
      }
    }
  },
  "nbformat": 4,
  "nbformat_minor": 0
}

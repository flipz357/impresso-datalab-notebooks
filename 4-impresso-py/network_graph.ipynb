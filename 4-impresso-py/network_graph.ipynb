{
  "cells": [
    {
      "cell_type": "markdown",
      "metadata": {
        "id": "ge_Cq0FFaIrR"
      },
      "source": [
        "# Network graph with Impresso Py\n",
        "\n",
        "<a target=\"_blank\" href=\"https://colab.research.google.com/github/impresso/impresso-datalab-notebooks/4-impresso-py/network_graph.ipynb\">\n",
        "  <img src=\"https://colab.research.google.com/assets/colab-badge.svg\" alt=\"Open In Colab\"/>\n",
        "</a>"
      ]
    },
    {
      "cell_type": "markdown",
      "metadata": {
        "id": "TwR9UmpvaLhp"
      },
      "source": [
        "## Install dependencies"
      ]
    },
    {
      "cell_type": "code",
      "execution_count": null,
      "metadata": {
        "id": "WRpCUxZdaGUf"
      },
      "outputs": [],
      "source": [
        "%pip install git+https://github.com/impresso/impresso-py.git ipysigma"
      ]
    },
    {
      "cell_type": "markdown",
      "metadata": {
        "id": "q1NQ9Kq9aVm4"
      },
      "source": [
        "## Connect to Impresso"
      ]
    },
    {
      "cell_type": "code",
      "execution_count": null,
      "metadata": {
        "id": "neqz3bBJaYr2"
      },
      "outputs": [],
      "source": [
        "from impresso import connect, OR, AND\n",
        "\n",
        "impresso = connect(public_api_url=\"https://dev.impresso-project.ch/public-api\")"
      ]
    },
    {
      "cell_type": "markdown",
      "metadata": {
        "id": "b-2vEEpkawoj"
      },
      "source": [
        "## Part 1: Get entities and their co-occurrences\n",
        "\n",
        "Find all persons mentioned in all articles that talk about the [Prague Spring](https://en.wikipedia.org/wiki/Prague_Spring)."
      ]
    },
    {
      "cell_type": "code",
      "execution_count": null,
      "metadata": {
        "id": "ebAC0LuZEooc"
      },
      "outputs": [],
      "source": [
        "query = OR(\"Prague Spring\", \"Prager Frühling\", \"Printemps de Prague\")"
      ]
    },
    {
      "cell_type": "code",
      "execution_count": null,
      "metadata": {
        "id": "FnS9eIZba0Dz"
      },
      "outputs": [],
      "source": [
        "persons = impresso.search.facet(\n",
        "  facet=\"person\",\n",
        "  q=query,\n",
        "  order_by=\"-count\",\n",
        "  limit=100\n",
        ")\n",
        "persons"
      ]
    },
    {
      "cell_type": "markdown",
      "metadata": {
        "id": "3zJPhvgXcR9d"
      },
      "source": [
        "Get all combinations of all entities with a mention count higher than `N`."
      ]
    },
    {
      "cell_type": "code",
      "execution_count": null,
      "metadata": {
        "id": "noFYDdkTcbZU"
      },
      "outputs": [],
      "source": [
        "import itertools\n",
        "\n",
        "n = 10\n",
        "\n",
        "df = persons.df\n",
        "df = df[df[\"count\"] > n]\n",
        "persons_ids = df.uid.tolist()\n",
        "print(f\"Total persons selected: {len(persons_ids)}\")\n",
        "\n",
        "persons_ids_combinations = list(itertools.combinations(persons_ids, 2))\n",
        "print(f\"Total combinations: {len(persons_ids_combinations)}\")"
      ]
    },
    {
      "cell_type": "code",
      "execution_count": null,
      "metadata": {
        "id": "_KuW7vzjBh2A"
      },
      "outputs": [],
      "source": [
        "if len(persons_ids_combinations) > 500:\n",
        "  msg = (\n",
        "      f\"The number of combinations is quite high ({len(persons_ids_combinations)}). \" +\n",
        "      \"This may put a lot of load on Impresso and your requests may be throttled. \" +\n",
        "      \"Try to increase the threshold number of mentions in the cell above which will reduce the number of selected persons. \" +\n",
        "      \"You can also disable this error by commenting out this cell, if this number of combinations is expected.\"\n",
        "  )\n",
        "  raise Exception(msg)"
      ]
    },
    {
      "cell_type": "markdown",
      "metadata": {
        "id": "M2tpzlOWdpjX"
      },
      "source": [
        "Get timestamps and counts of all articles where persons pairs appear."
      ]
    },
    {
      "cell_type": "code",
      "execution_count": null,
      "metadata": {
        "id": "d-yxLSCQdpAz"
      },
      "outputs": [],
      "source": [
        "from impresso.util.error import ImpressoError\n",
        "from time import sleep\n",
        "\n",
        "connections = []\n",
        "\n",
        "for idx, combo in enumerate(persons_ids_combinations):\n",
        "  try:\n",
        "    result = impresso.search.facet(\n",
        "      facet=\"daterange\",\n",
        "      q=query,\n",
        "      entity_id=AND(*combo),\n",
        "      limit=1000\n",
        "    )\n",
        "  except ImpressoError as e:\n",
        "    if e.error.status == 429:\n",
        "      print(f\"Sleeping because of {e}\")\n",
        "      sleep(2)\n",
        "\n",
        "  if result.size > 0:\n",
        "    df = result.df\n",
        "\n",
        "    items = list(zip(df.index.tolist(), df['count'].tolist(), [result.url for i in range(len(df))]))\n",
        "    connections.append((combo, items))\n",
        "    # print(f\"Found {len(df)} connections for {combo}\", end=' ')\n",
        "\n",
        "  if idx % 10 == 0:\n",
        "    print(f\"{idx} done out of {len(persons_ids_combinations)}\")"
      ]
    },
    {
      "cell_type": "markdown",
      "metadata": {
        "id": "Ak1rEp7Omi6_"
      },
      "source": [
        "Put them all into a dataframe"
      ]
    },
    {
      "cell_type": "code",
      "execution_count": null,
      "metadata": {
        "id": "qkgCRrr3ez3r"
      },
      "outputs": [],
      "source": [
        "import pandas as pd\n",
        "\n",
        "connections_denormalised = []\n",
        "for c in connections:\n",
        "  nodes, edges = c\n",
        "  # print(nodes)\n",
        "\n",
        "  connections_denormalised.extend(\n",
        "    [[node_a, node_b, ts, count, url] for (node_a, node_b), (ts, count, url) in zip([nodes for i in range(len(edges))], edges)]\n",
        "  )\n",
        "\n",
        "connections_df = pd.DataFrame(connections_denormalised, columns=('node_a', 'node_b', 'timestamp', 'count', 'url'))\n",
        "connections_df"
      ]
    },
    {
      "cell_type": "code",
      "execution_count": null,
      "metadata": {
        "id": "j30zGf8Cn-11"
      },
      "outputs": [],
      "source": [
        "connections_df.to_csv(\"connections.csv\")"
      ]
    },
    {
      "cell_type": "markdown",
      "metadata": {
        "id": "BDSucJXvoNTG"
      },
      "source": [
        "## Part 2: visualise"
      ]
    },
    {
      "cell_type": "code",
      "execution_count": null,
      "metadata": {
        "id": "juaVZgkWoRKL"
      },
      "outputs": [],
      "source": [
        "import pandas as pd\n",
        "\n",
        "connections_df = pd.read_csv(\"connections.csv\")\n",
        "connections_df"
      ]
    },
    {
      "cell_type": "code",
      "execution_count": null,
      "metadata": {
        "id": "7oD3RMWtfmXw"
      },
      "outputs": [],
      "source": [
        "grouped_connections_df = connections_df.groupby(['node_a', 'node_b']) \\\n",
        "    .agg({'timestamp': lambda x: ', '.join(list(x)), 'count': 'sum', 'url': lambda x: list(set(x))[0]}) \\\n",
        "    .reset_index()\n",
        "grouped_connections_df"
      ]
    },
    {
      "cell_type": "code",
      "execution_count": null,
      "metadata": {
        "id": "MDvmvxTIo1-D"
      },
      "outputs": [],
      "source": [
        "import networkx as nx\n",
        "\n",
        "G = nx.from_pandas_edgelist(\n",
        "    grouped_connections_df,\n",
        "    source='node_a',\n",
        "    target='node_b',\n",
        "    edge_attr=['count', 'url'],\n",
        "    create_using=nx.MultiGraph()\n",
        ")\n",
        "for i in sorted(G.nodes()):\n",
        "    G.nodes[i]['url'] = f\"https://impresso-project.ch/app/entities/{i}\"\n",
        "G.nodes"
      ]
    },
    {
      "cell_type": "code",
      "execution_count": null,
      "metadata": {
        "id": "wlKjTDFqEAJ-"
      },
      "outputs": [],
      "source": [
        "filename = input(\"Enter the filename: \")\n",
        "filename = f\"{filename.replace(' ', '_')}.gefx\""
      ]
    },
    {
      "cell_type": "code",
      "execution_count": null,
      "metadata": {
        "id": "Q2GqiVV2VPTB"
      },
      "outputs": [],
      "source": [
        "nx.write_gexf(G, filename)"
      ]
    },
    {
      "cell_type": "markdown",
      "metadata": {},
      "source": [
        "If running in Colab - activate custom widgets to allow Sigma to render the graph."
      ]
    },
    {
      "cell_type": "code",
      "execution_count": null,
      "metadata": {
        "id": "_98XMUAfU45K"
      },
      "outputs": [],
      "source": [
        "try:\n",
        "    from google.colab import output\n",
        "    output.enable_custom_widget_manager()\n",
        "except:\n",
        "    pass"
      ]
    },
    {
      "cell_type": "markdown",
      "metadata": {},
      "source": [
        "Render the graph."
      ]
    },
    {
      "cell_type": "code",
      "execution_count": null,
      "metadata": {
        "id": "pzXtYjKZUvZm"
      },
      "outputs": [],
      "source": [
        "import networkx as nx\n",
        "from ipysigma import Sigma\n",
        "\n",
        "# Importing a gexf graph\n",
        "g = nx.read_gexf(filename)\n",
        "\n",
        "# Displaying the graph with a size mapped on degree and\n",
        "# a color mapped on a categorical attribute of the nodes\n",
        "Sigma(g, node_size=g.degree, edge_size='count', clickable_edges=True)"
      ]
    }
  ],
  "metadata": {
    "colab": {
      "collapsed_sections": [
        "TwR9UmpvaLhp",
        "q1NQ9Kq9aVm4"
      ],
      "provenance": []
    },
    "kernelspec": {
      "display_name": "Python 3",
      "name": "python3"
    },
    "language_info": {
      "name": "python"
    }
  },
  "nbformat": 4,
  "nbformat_minor": 0
}

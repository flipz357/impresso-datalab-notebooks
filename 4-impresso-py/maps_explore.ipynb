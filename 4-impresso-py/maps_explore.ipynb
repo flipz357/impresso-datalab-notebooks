{
  "cells": [
    {
      "cell_type": "markdown",
      "metadata": {
        "id": "yRLcZiRnl4u2"
      },
      "source": [
        "# Exploring impresso with maps\n",
        "\n",
        "<a target=\"_blank\" href=\"https://colab.research.google.com/github/impresso/impresso-datalab-notebooks/blob/main/4-impresso-py/maps_explore.ipynb\">\n",
        "  <img src=\"https://colab.research.google.com/assets/colab-badge.svg\" alt=\"Open In Colab\"/>\n",
        "</a>"
      ]
    },
    {
      "cell_type": "markdown",
      "metadata": {
        "id": "-8w45SEEl_W0"
      },
      "source": [
        "## Install dependencies\n",
        "\n",
        "We need the following packages:\n",
        "\n",
        " * [impresso-py](https://impresso-project.ch/)\n",
        " * [ipyleaflet](https://ipyleaflet.readthedocs.io/en/latest/index.html)"
      ]
    },
    {
      "cell_type": "code",
      "execution_count": null,
      "metadata": {
        "id": "Z9NkyAPSlzpV"
      },
      "outputs": [],
      "source": [
        "%pip install git+https://github.com/impresso/impresso-py.git ipyleaflet"
      ]
    },
    {
      "cell_type": "markdown",
      "metadata": {
        "id": "pEOJN1d1qPok"
      },
      "source": [
        "## Connect to Impresso"
      ]
    },
    {
      "cell_type": "code",
      "execution_count": null,
      "metadata": {
        "id": "ZvQs-aKtqSDh"
      },
      "outputs": [],
      "source": [
        "from impresso import connect, OR, DateRange\n",
        "\n",
        "impresso = connect(public_api_url=\"https://dev.impresso-project.ch/public-api\")"
      ]
    },
    {
      "cell_type": "markdown",
      "metadata": {
        "id": "4zm8UOU0qj71"
      },
      "source": [
        "## Search and collect entities\n",
        "\n",
        "Find top 100 location entities mentioned in articles that talk about nuclear power plants in the first three decades following the second world war."
      ]
    },
    {
      "cell_type": "code",
      "execution_count": null,
      "metadata": {
        "id": "nEqtRN_OrHVw"
      },
      "outputs": [],
      "source": [
        "locations = impresso.search.facet(\n",
        "    \"location\",\n",
        "    q=OR(\"centrale nucléaire\", \"nuclear power plant\", \"Kernkraftwerk\"),\n",
        "    date_range=DateRange(\"1945-05-01\", \"1975-05-01\"),\n",
        "    limit=100,\n",
        "    order_by=\"-count\"\n",
        ")\n",
        "locations"
      ]
    },
    {
      "cell_type": "markdown",
      "metadata": {
        "id": "hJFsjJn3sgel"
      },
      "source": [
        "Get entities details, including wikidata details"
      ]
    },
    {
      "cell_type": "code",
      "execution_count": null,
      "metadata": {
        "id": "ZJ3-OYjNsk2h"
      },
      "outputs": [],
      "source": [
        "entities_ids = locations.df.index.tolist()\n",
        "entities = impresso.entities.find(entity_id=OR(*entities_ids), load_wikidata=True, limit=len(entities_ids))\n",
        "entities"
      ]
    },
    {
      "cell_type": "markdown",
      "metadata": {
        "id": "gEF8KFwHv3fX"
      },
      "source": [
        "Filter out entities that have no coordinates and add a country tag."
      ]
    },
    {
      "cell_type": "code",
      "execution_count": null,
      "metadata": {
        "id": "TFyRKiTjv5-c"
      },
      "outputs": [],
      "source": [
        "df = entities.df\n",
        "entities_with_coordinates = df[df['wikidata.coordinates.latitude'].notna() & df['wikidata.coordinates.longitude'].notna()]\n",
        "# entity-type == \"item\" indicates it's a country\n",
        "entities_with_coordinates['is_country'] = entities_with_coordinates['wikidata.descriptions.fr'].str.contains('pays')\n",
        "entities_with_coordinates"
      ]
    },
    {
      "cell_type": "markdown",
      "metadata": {
        "id": "0qTmuE7vSgMp"
      },
      "source": [
        "Add counts of mentions to the entities dataframe."
      ]
    },
    {
      "cell_type": "code",
      "execution_count": null,
      "metadata": {
        "id": "KGUcrriHRzsc"
      },
      "outputs": [],
      "source": [
        "entities_with_coordinates['mentions_count'] = entities_with_coordinates.index.map(locations.df['count'])"
      ]
    },
    {
      "cell_type": "markdown",
      "metadata": {
        "id": "e0azuaG_wWXq"
      },
      "source": [
        "Plot entities on the map."
      ]
    },
    {
      "cell_type": "markdown",
      "metadata": {
        "id": "NlCWMjt2xuA3"
      },
      "source": [
        "### Utility methods\n",
        "\n",
        "Functions used to calculate extra details needed to plot data on a map."
      ]
    },
    {
      "cell_type": "markdown",
      "metadata": {
        "id": "EOIyQi81YrxT"
      },
      "source": [
        "Find geo bounds of a group of items."
      ]
    },
    {
      "cell_type": "code",
      "execution_count": null,
      "metadata": {
        "id": "vLbgIdCBxv1z"
      },
      "outputs": [],
      "source": [
        "def find_bounds(coordinates):\n",
        "  \"\"\"\n",
        "  Finds the top/left, bottom/right bounds of an area that fits all coordinates.\n",
        "\n",
        "  Args:\n",
        "    coordinates: A list of coordinate tuples (latitude, longitude).\n",
        "\n",
        "  Returns:\n",
        "    A tuple containing the top/left and bottom/right bounds:\n",
        "      ((top_lat, left_lon), (bottom_lat, right_lon))\n",
        "  \"\"\"\n",
        "  if not coordinates:\n",
        "    return None\n",
        "\n",
        "  min_lat = coordinates[0][0]\n",
        "  max_lat = coordinates[0][0]\n",
        "  min_lon = coordinates[0][1]\n",
        "  max_lon = coordinates[0][1]\n",
        "\n",
        "  for lat, lon in coordinates:\n",
        "    min_lat = min(min_lat, lat)\n",
        "    max_lat = max(max_lat, lat)\n",
        "    min_lon = min(min_lon, lon)\n",
        "    max_lon = max(max_lon, lon)\n",
        "\n",
        "  return ((max_lat, min_lon), (min_lat, max_lon))\n"
      ]
    },
    {
      "cell_type": "markdown",
      "metadata": {
        "id": "2U1u_sSVYwWu"
      },
      "source": [
        "Create an HTML used for rendering the hover pop-up."
      ]
    },
    {
      "cell_type": "code",
      "execution_count": null,
      "metadata": {
        "id": "X0JNp8-2zN2p"
      },
      "outputs": [],
      "source": [
        "from ipywidgets import HTML\n",
        "from ipyleaflet import Popup\n",
        "\n",
        "def build_hover_popup(title: str, subtitle: str, mentions: int) -> Popup:\n",
        "  message = HTML()\n",
        "  message.value = f\"\"\"\n",
        "    <div style=\"display: flex; flex-direction: column; color: black; line-height: normal; max-width: 200px;\">\n",
        "      <b>{title}</b>\n",
        "      <p>{subtitle}</p>\n",
        "      <b>Mentions: {mentions}</b>\n",
        "    </div>\n",
        "  \"\"\"\n",
        "\n",
        "  # Popup with a given location on the map:\n",
        "  popup = Popup(\n",
        "      # location=center,\n",
        "      child=message,\n",
        "      close_button=False,\n",
        "      auto_close=True,\n",
        "      close_on_escape_key=False\n",
        "  )\n",
        "  return popup"
      ]
    },
    {
      "cell_type": "markdown",
      "metadata": {
        "id": "I3hczNN_x0ul"
      },
      "source": [
        "### Plot"
      ]
    },
    {
      "cell_type": "code",
      "execution_count": null,
      "metadata": {
        "id": "I7FzgNN4wA-h"
      },
      "outputs": [],
      "source": [
        "from ipyleaflet import Map, Marker, AwesomeIcon, CircleMarker\n",
        "\n",
        "map = Map(zoom=0)\n",
        "\n",
        "country_icon = AwesomeIcon(\n",
        "  name='fa-globe',\n",
        "  marker_color='red',\n",
        "  spin=False,\n",
        ")\n",
        "\n",
        "place_icon = AwesomeIcon(\n",
        "  name='fa-building-o',\n",
        "  marker_color='green',\n",
        "  spin=False,\n",
        ")\n",
        "\n",
        "max_mentions_count = entities_with_coordinates['mentions_count'].max()\n",
        "\n",
        "coordinates = []\n",
        "markers = []\n",
        "# Build markers\n",
        "for index, row in entities_with_coordinates.iterrows():\n",
        "    lat = row['wikidata.coordinates.latitude']\n",
        "    lon = row['wikidata.coordinates.longitude']\n",
        "    label = row['wikidata.labels.en']\n",
        "    description = row['wikidata.descriptions.en']\n",
        "    is_country = row['is_country']\n",
        "\n",
        "    radius = (row['mentions_count'] / max_mentions_count) * 20\n",
        "\n",
        "    # marker = Marker(\n",
        "    #   icon=country_icon if is_country else place_icon,\n",
        "    #   location=(lat, lon),\n",
        "    #   draggable=False,\n",
        "    #   title=label\n",
        "    # )\n",
        "\n",
        "    marker = CircleMarker(\n",
        "      location=(lat, lon),\n",
        "      draggable=False,\n",
        "      title=label,\n",
        "      color=\"red\" if is_country else \"green\",\n",
        "      fill_color=\"red\" if is_country else \"green\",\n",
        "      radius=int(radius)\n",
        "    )\n",
        "\n",
        "    marker.popup = build_hover_popup(label, description, row['mentions_count'])\n",
        "\n",
        "    coordinates.append((lat, lon))\n",
        "    markers.append(marker)\n",
        "\n",
        "\n",
        "# Fit the map to the bounds\n",
        "map.fit_bounds(find_bounds(coordinates))\n",
        "\n",
        "# add markers\n",
        "for m in markers:\n",
        "  map += m\n",
        "\n",
        "\n",
        "display(map)"
      ]
    }
  ],
  "metadata": {
    "colab": {
      "provenance": []
    },
    "kernelspec": {
      "display_name": "Python 3",
      "name": "python3"
    },
    "language_info": {
      "name": "python"
    }
  },
  "nbformat": 4,
  "nbformat_minor": 0
}

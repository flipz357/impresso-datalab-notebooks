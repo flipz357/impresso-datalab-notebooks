{
 "cells": [
  {
   "cell_type": "markdown",
   "id": "4982c90e1ce34f5f",
   "metadata": {},
   "source": [
    "# Named Entity Recognition and Linking with Impresso BERT models"
   ]
  },
  {
   "cell_type": "markdown",
   "id": "697a706a1074ca4c",
   "metadata": {},
   "source": [
    "## Good to know before starting\n",
    "\n"
   ]
  },
  {
   "cell_type": "markdown",
   "id": "fd53cadc-8949-4089-b224-19084ecc1c97",
   "metadata": {},
   "source": [
    "We refer to \"named entity recognition\" as NER, which is a tool that recognises entities such as persons and locations from text. A \"named entity linker\" (NEL) connects these entities to an existing one such as a real person that can be found on Wikipedia (with a unique id in Wikidata). Wikipedia is a free, user-edited encyclopedia with articles on a wide range of topics like historical events, famous people, or scientific concepts. Wikidata is a sister project of Wikipedia that stores structured data, like facts and relationships between entities, used for tasks where computers need to understand and process data, such as NER and NEL.\n"
   ]
  },
  {
   "cell_type": "markdown",
   "id": "c784118d-577c-4a7e-8c3f-38610635bb3f",
   "metadata": {},
   "source": [
    "In the context of _Impresso_, the NER tool was trained on the [HIPE 2020](https://github.com/hipe-eval/HIPE-2022-data/blob/main/documentation/README-hipe2020.md) dataset. It was trained to recognise coarse and fine grained entities such as persons and locations, but also their names, titles, and functions. Further, a NEL tool links these entity mentions to unique referents in a knowledge base – here Wikipedia and Wikidata – or not if the mention's referent is not found."
   ]
  },
  {
   "cell_type": "markdown",
   "id": "6c9ae812-2faf-4bf7-9c50-b5734ce18e1b",
   "metadata": {},
   "source": [
    "## Entity Recognition"
   ]
  },
  {
   "cell_type": "code",
   "execution_count": 3,
   "id": "b9ddfc8e-7b7a-40a3-9379-65a9372eb8ee",
   "metadata": {},
   "outputs": [],
   "source": [
    "# Import necessary modules from the transformers library\n",
    "from transformers import pipeline\n",
    "from transformers import AutoModelForTokenClassification, AutoTokenizer\n",
    "\n",
    "# Define the model name to be used for token classification, we use the Impresso NER\n",
    "MODEL_NAME = \"impresso-project/ner-stacked-bert-multilingual\"\n",
    "\n",
    "# Load the tokenizer corresponding to the specified model name\n",
    "tokenizer = AutoTokenizer.from_pretrained(MODEL_NAME)"
   ]
  },
  {
   "cell_type": "markdown",
   "id": "84545a0f-4f7e-49f5-b48c-7540cca32afc",
   "metadata": {},
   "source": [
    "Create a pipeline for named entity recognition (NER) using the loaded model and tokenizer.\n"
   ]
  },
  {
   "cell_type": "code",
   "execution_count": 4,
   "id": "0c04b662-a9b2-452b-8bb4-aa99213b9c4e",
   "metadata": {},
   "outputs": [
    {
     "name": "stderr",
     "output_type": "stream",
     "text": [
      "[nltk_data] Downloading package averaged_perceptron_tagger to\n",
      "[nltk_data]     /Users/eboros/nltk_data...\n",
      "[nltk_data]   Package averaged_perceptron_tagger is already up-to-\n",
      "[nltk_data]       date!\n",
      "/Users/eboros/Library/Python/3.9/lib/python/site-packages/torch/nn/modules/transformer.py:282: UserWarning: enable_nested_tensor is True, but self.use_nested_tensor is False because encoder_layer.self_attn.batch_first was not True(use batch_first for better inference performance)\n",
      "  warnings.warn(f\"enable_nested_tensor is True, but self.use_nested_tensor is False because {why_not_sparsity_fast_path}\")\n"
     ]
    }
   ],
   "source": [
    "ner = pipeline(\"generic-ner\", model=MODEL_NAME, tokenizer=tokenizer, trust_remote_code=True)"
   ]
  },
  {
   "cell_type": "code",
   "execution_count": 7,
   "id": "82fe3227-fcce-4323-8ba7-ea6a357fe5d0",
   "metadata": {},
   "outputs": [
    {
     "name": "stdout",
     "output_type": "stream",
     "text": [
      "Apple est créée le 1er avril 1976 dans le garage de la maison \n",
      "            d'enfance de Steve Jobs à Los Altos en Californie par Steve Jobs, Steve Wozniak \n",
      "            et Ronald Wayne, puis constituée sous forme de société le 3 janvier 1977 à l'origine \n",
      "            sous le nom d'Apple Computer, mais pour ses 30 ans et pour refléter la diversification \n",
      "            de ses produits, le mot « computer » est retiré le 9 janvier 2015.\n",
      "            \n"
     ]
    }
   ],
   "source": [
    "sentences = [\"\"\"Apple est créée le 1er avril 1976 dans le garage de la maison \n",
    "            d'enfance de Steve Jobs à Los Altos en Californie par Steve Jobs, Steve Wozniak \n",
    "            et Ronald Wayne, puis constituée sous forme de société le 3 janvier 1977 à l'origine \n",
    "            sous le nom d'Apple Computer, mais pour ses 30 ans et pour refléter la diversification \n",
    "            de ses produits, le mot « computer » est retiré le 9 janvier 2015.\n",
    "            \"\"\"]\n",
    "\n",
    "print(sentences[0])"
   ]
  },
  {
   "cell_type": "code",
   "execution_count": 8,
   "id": "9ba0cf70-fd9a-4e82-a5fa-3d5bcecef305",
   "metadata": {},
   "outputs": [
    {
     "name": "stdout",
     "output_type": "stream",
     "text": [
      "\n",
      "Visualizing stacked coarse and fine-grained entities\n",
      "\n"
     ]
    },
    {
     "data": {
      "text/html": [
       "<span class=\"tex2jax_ignore\"><div class=\"entities\" style=\"line-height: 2.5; direction: ltr\">\n",
       "<mark class=\"entity\" style=\"background: #ddd; padding: 0.45em 0.6em; margin: 0 0.25em; line-height: 1; border-radius: 0.35em;\">\n",
       "    Apple\n",
       "    <span style=\"font-size: 0.8em; font-weight: bold; line-height: 1; border-radius: 0.35em; vertical-align: middle; margin-left: 0.5rem\">loc (COARSE)</span>\n",
       "</mark>\n",
       "\n",
       "<mark class=\"entity\" style=\"background: #ddd; padding: 0.45em 0.6em; margin: 0 0.25em; line-height: 1; border-radius: 0.35em;\">\n",
       "    Apple\n",
       "    <span style=\"font-size: 0.8em; font-weight: bold; line-height: 1; border-radius: 0.35em; vertical-align: middle; margin-left: 0.5rem\">loc.adm.town (FINE)</span>\n",
       "</mark>\n",
       " est créée \n",
       "<mark class=\"entity\" style=\"background: #ddd; padding: 0.45em 0.6em; margin: 0 0.25em; line-height: 1; border-radius: 0.35em;\">\n",
       "    le 1er avril 1976\n",
       "    <span style=\"font-size: 0.8em; font-weight: bold; line-height: 1; border-radius: 0.35em; vertical-align: middle; margin-left: 0.5rem\">time (COARSE)</span>\n",
       "</mark>\n",
       "\n",
       "<mark class=\"entity\" style=\"background: #ddd; padding: 0.45em 0.6em; margin: 0 0.25em; line-height: 1; border-radius: 0.35em;\">\n",
       "    le 1er avril 1976\n",
       "    <span style=\"font-size: 0.8em; font-weight: bold; line-height: 1; border-radius: 0.35em; vertical-align: middle; margin-left: 0.5rem\">time.date.abs (FINE)</span>\n",
       "</mark>\n",
       " dans le garage de la maison </br>            d'enfance de \n",
       "<mark class=\"entity\" style=\"background: #ddd; padding: 0.45em 0.6em; margin: 0 0.25em; line-height: 1; border-radius: 0.35em;\">\n",
       "    Steve Jobs\n",
       "    <span style=\"font-size: 0.8em; font-weight: bold; line-height: 1; border-radius: 0.35em; vertical-align: middle; margin-left: 0.5rem\">pers (COARSE)</span>\n",
       "</mark>\n",
       "\n",
       "<mark class=\"entity\" style=\"background: #ddd; padding: 0.45em 0.6em; margin: 0 0.25em; line-height: 1; border-radius: 0.35em;\">\n",
       "    Steve Jobs\n",
       "    <span style=\"font-size: 0.8em; font-weight: bold; line-height: 1; border-radius: 0.35em; vertical-align: middle; margin-left: 0.5rem\">pers.ind (FINE)</span>\n",
       "</mark>\n",
       " à \n",
       "<mark class=\"entity\" style=\"background: #ddd; padding: 0.45em 0.6em; margin: 0 0.25em; line-height: 1; border-radius: 0.35em;\">\n",
       "    Los Altos\n",
       "    <span style=\"font-size: 0.8em; font-weight: bold; line-height: 1; border-radius: 0.35em; vertical-align: middle; margin-left: 0.5rem\">loc (COARSE)</span>\n",
       "</mark>\n",
       "\n",
       "<mark class=\"entity\" style=\"background: #ddd; padding: 0.45em 0.6em; margin: 0 0.25em; line-height: 1; border-radius: 0.35em;\">\n",
       "    Los Altos\n",
       "    <span style=\"font-size: 0.8em; font-weight: bold; line-height: 1; border-radius: 0.35em; vertical-align: middle; margin-left: 0.5rem\">loc.adm.town (FINE)</span>\n",
       "</mark>\n",
       " en \n",
       "<mark class=\"entity\" style=\"background: #ddd; padding: 0.45em 0.6em; margin: 0 0.25em; line-height: 1; border-radius: 0.35em;\">\n",
       "    Californie\n",
       "    <span style=\"font-size: 0.8em; font-weight: bold; line-height: 1; border-radius: 0.35em; vertical-align: middle; margin-left: 0.5rem\">loc (COARSE)</span>\n",
       "</mark>\n",
       "\n",
       "<mark class=\"entity\" style=\"background: #ddd; padding: 0.45em 0.6em; margin: 0 0.25em; line-height: 1; border-radius: 0.35em;\">\n",
       "    Californie\n",
       "    <span style=\"font-size: 0.8em; font-weight: bold; line-height: 1; border-radius: 0.35em; vertical-align: middle; margin-left: 0.5rem\">loc.adm.nat (FINE)</span>\n",
       "</mark>\n",
       " par \n",
       "<mark class=\"entity\" style=\"background: #ddd; padding: 0.45em 0.6em; margin: 0 0.25em; line-height: 1; border-radius: 0.35em;\">\n",
       "    Steve Jobs\n",
       "    <span style=\"font-size: 0.8em; font-weight: bold; line-height: 1; border-radius: 0.35em; vertical-align: middle; margin-left: 0.5rem\">pers (COARSE)</span>\n",
       "</mark>\n",
       "\n",
       "<mark class=\"entity\" style=\"background: #ddd; padding: 0.45em 0.6em; margin: 0 0.25em; line-height: 1; border-radius: 0.35em;\">\n",
       "    Steve Jobs\n",
       "    <span style=\"font-size: 0.8em; font-weight: bold; line-height: 1; border-radius: 0.35em; vertical-align: middle; margin-left: 0.5rem\">pers.ind (FINE)</span>\n",
       "</mark>\n",
       ", \n",
       "<mark class=\"entity\" style=\"background: #ddd; padding: 0.45em 0.6em; margin: 0 0.25em; line-height: 1; border-radius: 0.35em;\">\n",
       "    Steve Wozniak\n",
       "    <span style=\"font-size: 0.8em; font-weight: bold; line-height: 1; border-radius: 0.35em; vertical-align: middle; margin-left: 0.5rem\">pers (COARSE)</span>\n",
       "</mark>\n",
       "\n",
       "<mark class=\"entity\" style=\"background: #ddd; padding: 0.45em 0.6em; margin: 0 0.25em; line-height: 1; border-radius: 0.35em;\">\n",
       "    Steve Wozniak\n",
       "    <span style=\"font-size: 0.8em; font-weight: bold; line-height: 1; border-radius: 0.35em; vertical-align: middle; margin-left: 0.5rem\">pers.ind (FINE)</span>\n",
       "</mark>\n",
       " </br>            et \n",
       "<mark class=\"entity\" style=\"background: #ddd; padding: 0.45em 0.6em; margin: 0 0.25em; line-height: 1; border-radius: 0.35em;\">\n",
       "    Ronald Wayne\n",
       "    <span style=\"font-size: 0.8em; font-weight: bold; line-height: 1; border-radius: 0.35em; vertical-align: middle; margin-left: 0.5rem\">pers (COARSE)</span>\n",
       "</mark>\n",
       "\n",
       "<mark class=\"entity\" style=\"background: #ddd; padding: 0.45em 0.6em; margin: 0 0.25em; line-height: 1; border-radius: 0.35em;\">\n",
       "    Ronald Wayne\n",
       "    <span style=\"font-size: 0.8em; font-weight: bold; line-height: 1; border-radius: 0.35em; vertical-align: middle; margin-left: 0.5rem\">pers.ind (FINE)</span>\n",
       "</mark>\n",
       ", puis constituée sous forme de société \n",
       "<mark class=\"entity\" style=\"background: #ddd; padding: 0.45em 0.6em; margin: 0 0.25em; line-height: 1; border-radius: 0.35em;\">\n",
       "    le 3 janvier 1977\n",
       "    <span style=\"font-size: 0.8em; font-weight: bold; line-height: 1; border-radius: 0.35em; vertical-align: middle; margin-left: 0.5rem\">time (COARSE)</span>\n",
       "</mark>\n",
       "\n",
       "<mark class=\"entity\" style=\"background: #ddd; padding: 0.45em 0.6em; margin: 0 0.25em; line-height: 1; border-radius: 0.35em;\">\n",
       "    le 3 janvier 1977\n",
       "    <span style=\"font-size: 0.8em; font-weight: bold; line-height: 1; border-radius: 0.35em; vertical-align: middle; margin-left: 0.5rem\">time.date.abs (FINE)</span>\n",
       "</mark>\n",
       " à l'origine </br>            sous le nom d'\n",
       "<mark class=\"entity\" style=\"background: #ddd; padding: 0.45em 0.6em; margin: 0 0.25em; line-height: 1; border-radius: 0.35em;\">\n",
       "    Apple\n",
       "    <span style=\"font-size: 0.8em; font-weight: bold; line-height: 1; border-radius: 0.35em; vertical-align: middle; margin-left: 0.5rem\">loc (COARSE)</span>\n",
       "</mark>\n",
       "\n",
       "<mark class=\"entity\" style=\"background: #ddd; padding: 0.45em 0.6em; margin: 0 0.25em; line-height: 1; border-radius: 0.35em;\">\n",
       "    Apple\n",
       "    <span style=\"font-size: 0.8em; font-weight: bold; line-height: 1; border-radius: 0.35em; vertical-align: middle; margin-left: 0.5rem\">loc.adm.town (FINE)</span>\n",
       "</mark>\n",
       "\n",
       "<mark class=\"entity\" style=\"background: #ddd; padding: 0.45em 0.6em; margin: 0 0.25em; line-height: 1; border-radius: 0.35em;\">\n",
       "    Apple Computer\n",
       "    <span style=\"font-size: 0.8em; font-weight: bold; line-height: 1; border-radius: 0.35em; vertical-align: middle; margin-left: 0.5rem\">org (COARSE)</span>\n",
       "</mark>\n",
       "\n",
       "<mark class=\"entity\" style=\"background: #ddd; padding: 0.45em 0.6em; margin: 0 0.25em; line-height: 1; border-radius: 0.35em;\">\n",
       "    Apple Computer\n",
       "    <span style=\"font-size: 0.8em; font-weight: bold; line-height: 1; border-radius: 0.35em; vertical-align: middle; margin-left: 0.5rem\">org.ent (FINE)</span>\n",
       "</mark>\n",
       ", mais pour ses 30 ans et pour refléter la diversification </br>            de ses produits, le mot « computer » est retiré \n",
       "<mark class=\"entity\" style=\"background: #ddd; padding: 0.45em 0.6em; margin: 0 0.25em; line-height: 1; border-radius: 0.35em;\">\n",
       "    le 9 janvier 2015\n",
       "    <span style=\"font-size: 0.8em; font-weight: bold; line-height: 1; border-radius: 0.35em; vertical-align: middle; margin-left: 0.5rem\">time (COARSE)</span>\n",
       "</mark>\n",
       "\n",
       "<mark class=\"entity\" style=\"background: #ddd; padding: 0.45em 0.6em; margin: 0 0.25em; line-height: 1; border-radius: 0.35em;\">\n",
       "    le 9 janvier 2015\n",
       "    <span style=\"font-size: 0.8em; font-weight: bold; line-height: 1; border-radius: 0.35em; vertical-align: middle; margin-left: 0.5rem\">time.date.abs (FINE)</span>\n",
       "</mark>\n",
       ".</br>            </div></span>"
      ],
      "text/plain": [
       "<IPython.core.display.HTML object>"
      ]
     },
     "metadata": {},
     "output_type": "display_data"
    }
   ],
   "source": [
    "from utils import visualize_stacked_entities\n",
    "\n",
    "# Visualize stacked entities for each sentence\n",
    "for sentence in sentences:\n",
    "    results = ner(sentence)\n",
    "    \n",
    "    # Extract coarse and fine entities\n",
    "    coarse_entities = results[\"NE-COARSE-LIT\"]\n",
    "    fine_entities = results[\"NE-FINE-LIT\"]\n",
    "    \n",
    "    # Visualize the stacked entities\n",
    "    visualize_stacked_entities(sentence, coarse_entities, fine_entities)"
   ]
  },
  {
   "cell_type": "markdown",
   "id": "a4e61e17-ff51-490a-9756-ea00241637a0",
   "metadata": {},
   "source": [
    "## Entity Linking"
   ]
  },
  {
   "cell_type": "code",
   "execution_count": null,
   "id": "0170c79d-7a3b-49ed-8ff9-8f1d5dc92a03",
   "metadata": {},
   "outputs": [],
   "source": []
  },
  {
   "cell_type": "code",
   "execution_count": 9,
   "id": "42b132e2-acc8-4da3-be6a-bae0233a0729",
   "metadata": {},
   "outputs": [
    {
     "name": "stderr",
     "output_type": "stream",
     "text": [
      "/Users/eboros/Library/Python/3.9/lib/python/site-packages/torch/_utils.py:831: UserWarning: TypedStorage is deprecated. It will be removed in the future and UntypedStorage will be the only storage class. This should only matter to you if you are using storages directly.  To access UntypedStorage directly, use tensor.untyped_storage() instead of tensor.storage()\n",
      "  return self.fget.__get__(instance, owner)()\n"
     ]
    }
   ],
   "source": [
    "# Import the necessary modules from the transformers library\n",
    "from transformers import AutoTokenizer, AutoModelForSeq2SeqLM\n",
    "\n",
    "# Load the tokenizer and model from the specified pre-trained model name\n",
    "# The model used here is \"impresso-project/nel-mgenre-multilingual\"\n",
    "tokenizer = AutoTokenizer.from_pretrained(\"impresso-project/nel-mgenre-multilingual\")\n",
    "model = AutoModelForSeq2SeqLM.from_pretrained(\"impresso-project/nel-mgenre-multilingual\").eval()\n"
   ]
  },
  {
   "cell_type": "code",
   "execution_count": null,
   "id": "a23a2d1a-56bb-4d1d-ac19-5987b8ccb369",
   "metadata": {},
   "outputs": [],
   "source": []
  },
  {
   "cell_type": "code",
   "execution_count": null,
   "id": "ea29dd95-191e-4841-bdb6-06166aaaddf8",
   "metadata": {},
   "outputs": [],
   "source": []
  },
  {
   "cell_type": "code",
   "execution_count": 12,
   "id": "19b1496a-7c4b-4e09-83d6-4d2aa5c5a6fe",
   "metadata": {},
   "outputs": [
    {
     "name": "stdout",
     "output_type": "stream",
     "text": [
      "Sentence: Apple est créée le 1er avril 1976 dans le garage de la maison \n",
      "            d'enfance de Steve Jobs à Los Altos en Californie par Steve Jobs, Steve Wozniak \n",
      "            et Ronald Wayne, puis constituée sous forme de société le 3 janvier 1977 à l'origine \n",
      "            sous le nom d'Apple Computer, mais pour ses 30 ans et pour refléter la diversification \n",
      "            de ses produits, le mot « computer » est retiré le 9 janvier 2015.\n",
      "            \n",
      "\n",
      "Entity: Apple, Wikipedia Links: ['Apple >> fr ', 'Apple Inc. >> fr ', 'Apple Corporation >> fr ', 'Apple Group >> fr ', 'Apple Corps >> fr ']\n",
      "\n",
      "Entity: le 1er avril 1976, Wikipedia Links: ['le 1er avril 1976 >> fr ', '1er avril 1976 >> fr ', 'Le 1er avril 1976 >> fr ', '1 avril 1976 >> fr ', 'Avril 1976 >> fr ']\n",
      "\n",
      "Entity: Steve Jobs, Wikipedia Links: ['Steve Jobs >> fr ', 'Steve Job >> fr ', 'Steve Steve Jobs >> fr ', 'Stephen Jobs >> fr ', 'Steven Jobs >> fr ']\n",
      "\n",
      "Entity: Los Altos, Wikipedia Links: ['Los Altos >> fr ', 'Apple Los Altos >> fr ', 'Los Altos (Californie) >> fr ', 'Los Altos >> fr ', 'Los Altos (Califórnia) >> fr ']\n",
      "\n",
      "Entity: Californie, Wikipedia Links: ['Californie >> fr ', 'Californië >> fr ', 'California >> fr ', 'Kalifornie >> fr ', 'Californe >> fr ']\n",
      "\n",
      "Entity: Steve Wozniak, Wikipedia Links: ['Steve Wozniak >> fr ', 'Stephen Wozniak >> fr ', 'Steven Wozniak >> fr ', 'Steve Wbonak >> fr ', 'Steve Wbonek >> fr ']\n",
      "\n",
      "Entity: Ronald Wayne, Wikipedia Links: ['Ronnie Wayne >> fr ', 'Ron Wayne >> fr ', 'Ronald Wayne >> fr ', 'Ron Weyne >> fr ', 'Ronny Wayne >> fr ']\n",
      "\n",
      "Entity: le 3 janvier 1977, Wikipedia Links: ['le 3 janvier 1977 >> fr ', 'le 3 janvier 1977 >> fr ', 'du 3 janvier 1977 >> fr ', 'le 3 janvier 1977 de janvier 2008 à Los Angeles >> fr ', '3 janvier 1977 >> fr ']\n",
      "\n",
      "Entity: Apple Computer, Wikipedia Links: ['Apple >> fr ', \"Apple (système d'exploitation) >> fr \", \"Apple (système d'arcade) >> fr \", \"Apple (système d'agrès d'enseignes) >> fr\", \"Apple (système d'agglomération) >> fr \"]\n",
      "\n",
      "Entity: le 9 janvier 2015, Wikipedia Links: ['le 9 janvier 2015 >> fr ', 'Apple >> fr ', '„ le 9 janvier 2015 >> fr ', 'dit le 9 janvier 2015 >> fr ', 'janvier 2015 >> fr ']\n"
     ]
    }
   ],
   "source": [
    "from utils import add_entity_tags\n",
    "\n",
    "# Process each sentence for named entity recognition and linking\n",
    "for sentence in sentences:\n",
    "    # Input text to be processed for named entity recognition\n",
    "    print(f'Sentence: {sentence}')\n",
    "    \n",
    "    # Run the NER pipeline on the input sentence and store the results\n",
    "    results = ner(sentence)\n",
    "\n",
    "    # Initialize a list to hold the entities\n",
    "    entities = []\n",
    "\n",
    "    # Extract entities from the results\n",
    "    for task, ents in results.items():\n",
    "        for entity in ents:\n",
    "            entities.append((entity['start'], entity['end'], entity['word']))\n",
    "    \n",
    "    # List to keep track of already processed words to avoid duplicate tagging\n",
    "    already_done = []\n",
    "\n",
    "    # Process each entity for linking\n",
    "    for start, end, word in entities:\n",
    "        if word not in already_done:\n",
    "            # Tag the entity in the text\n",
    "            entity_text = sentence.replace(word, f\"[START] {word} [END]\")\n",
    "            # print(f\"\\nEntity: {word}, Tagged Text: {entity_text}\\n\")\n",
    "\n",
    "            # Generate Wikipedia links for the tagged text\n",
    "            outputs = model.generate(\n",
    "                **tokenizer([entity_text], return_tensors=\"pt\"),\n",
    "                num_beams=5,\n",
    "                num_return_sequences=5\n",
    "            )\n",
    "            \n",
    "            # Decode the generated output to get the Wikipedia links\n",
    "            wikipedia_links = tokenizer.batch_decode(outputs, skip_special_tokens=True)\n",
    "            print(f\"\\nEntity: {word}, Wikipedia Links: {wikipedia_links}\")\n",
    "            \n",
    "            # Add the word to the already processed list\n",
    "            already_done.append(word)\n"
   ]
  },
  {
   "cell_type": "code",
   "execution_count": null,
   "id": "4cc5b742-26af-4017-b204-12a0e460bc90",
   "metadata": {},
   "outputs": [
    {
     "name": "stdout",
     "output_type": "stream",
     "text": [
      "Sentence: Apple est créée le 1er avril 1976 dans le garage de la maison \n",
      "            d'enfance de Steve Jobs à Los Altos en Californie par Steve Jobs, Steve Wozniak \n",
      "            et Ronald Wayne, puis constituée sous forme de société le 3 janvier 1977 à l'origine \n",
      "            sous le nom d'Apple Computer, mais pour ses 30 ans et pour refléter la diversification \n",
      "            de ses produits, le mot « computer » est retiré le 9 janvier 2015.\n",
      "            \n"
     ]
    }
   ],
   "source": [
    "from utils import get_wikipedia_page_props\n",
    "\n",
    "# Process each sentence for named entity recognition and linking\n",
    "for sentence in sentences:\n",
    "    # Input text to be processed for named entity recognition\n",
    "    print(f'Sentence: {sentence}')\n",
    "    \n",
    "    # Run the NER pipeline on the input sentence and store the results\n",
    "    results = ner(sentence)\n",
    "\n",
    "    # Initialize a list to hold the entities\n",
    "    entities = []\n",
    "\n",
    "    # Extract entities from the results\n",
    "    for task, ents in results.items():\n",
    "        for entity in ents:\n",
    "            entities.append((entity['start'], entity['end'], entity['word']))\n",
    "    \n",
    "    # List to keep track of already processed words to avoid duplicate tagging\n",
    "    already_done = []\n",
    "\n",
    "    # Process each entity for linking\n",
    "    for start, end, word in entities:\n",
    "        if word not in already_done:\n",
    "            # Tag the entity in the text\n",
    "            entity_text = sentence.replace(word, f\"[START] {word} [END]\")\n",
    "            # print(f\"\\nEntity: {word}, Tagged Text: {entity_text}\\n\")\n",
    "\n",
    "            # Generate Wikipedia links for the tagged text\n",
    "            outputs = model.generate(\n",
    "                **tokenizer([entity_text], return_tensors=\"pt\"),\n",
    "                num_beams=5,\n",
    "                num_return_sequences=5\n",
    "            )\n",
    "            \n",
    "            # Decode the generated output to get the Wikipedia links\n",
    "            wikipedia_links = tokenizer.batch_decode(outputs, skip_special_tokens=True)\n",
    "            print(f\"\\nEntity: {word}, Wikipedia Links: {wikipedia_links}\")\n",
    "            \n",
    "            # Add the word to the already processed list\n",
    "            already_done.append(word)\n",
    "            \n",
    "            # Retrieve and print Wikidata QID for each Wikipedia link\n",
    "            for wikipedia_link in wikipedia_links:\n",
    "                qid = get_wikipedia_page_props(wikipedia_link)\n",
    "                print(f\"  Wikidata: {wikipedia_link} -> {qid}\")\n"
   ]
  },
  {
   "cell_type": "code",
   "execution_count": null,
   "id": "ea0238bf-c4d6-4bc3-b4ed-df8b05c0b4d1",
   "metadata": {},
   "outputs": [],
   "source": []
  },
  {
   "cell_type": "code",
   "execution_count": null,
   "id": "33bdb43f-da8e-4f49-8a61-325bd2289ba9",
   "metadata": {},
   "outputs": [],
   "source": []
  },
  {
   "cell_type": "code",
   "execution_count": null,
   "id": "725503fb-acdc-4c0e-abf4-ecdd56718acd",
   "metadata": {},
   "outputs": [],
   "source": []
  }
 ],
 "metadata": {
  "kernelspec": {
   "display_name": "Python 3 (ipykernel)",
   "language": "python",
   "name": "python3"
  },
  "language_info": {
   "codemirror_mode": {
    "name": "ipython",
    "version": 3
   },
   "file_extension": ".py",
   "mimetype": "text/x-python",
   "name": "python",
   "nbconvert_exporter": "python",
   "pygments_lexer": "ipython3",
   "version": "3.9.6"
  }
 },
 "nbformat": 4,
 "nbformat_minor": 5
}

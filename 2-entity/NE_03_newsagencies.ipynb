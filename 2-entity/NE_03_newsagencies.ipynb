{
  "cells": [
    {
      "cell_type": "markdown",
      "metadata": {
        "id": "L43GTakKxgO-"
      },
      "source": [
        "# News Agencies Recognition and Linking with Impresso BERT models"
      ]
    },
    {
      "cell_type": "markdown",
      "metadata": {
        "id": "5zTR3FjkxgPA"
      },
      "source": [
        "Delivering swift and reliable news since the 1830s and 1840s, news agencies have played a pivotal role both nationally and internationally. However, understanding their precise impact on shaping news content has remained somewhat elusive. Our goal is to illuminate this aspect by identifying news agencies within historical newspaper articles. Using data from newspapers in Switzerland and Luxembourg as part of the impresso project, we've trained our pipeline to recognize these entities.\n",
        "\n",
        "If you're here, you likely seek to detect news agency entities in your own text. This notebook will guide you through the process of setting up a workflow to identify specific newspaper or agency mentions within your text."
      ]
    },
    {
      "cell_type": "markdown",
      "metadata": {
        "id": "AVcCrAogxgPA"
      },
      "source": [
        "Install necessary libraries (if not already installed) and\n",
        "download the necessary NLTK data."
      ]
    },
    {
      "cell_type": "code",
      "execution_count": null,
      "metadata": {
        "id": "eC4L37FtjYe-"
      },
      "outputs": [],
      "source": [
        "# !pip install python-dotenv\n",
        "# !pip install transformers\n",
        "# !pip install torch"
      ]
    },
    {
      "cell_type": "markdown",
      "metadata": {
        "id": "BrBw9Wx4xgPB"
      },
      "source": [
        "*Note: This notebook requires `HF_TOKEN` to be set in the environment variables. You can get your token by signing up on the [Hugging Face website](https://huggingface.co/join) and read more in the [official documentation](https://huggingface.co/docs/huggingface_hub/v0.20.2/en/quick-start#environment-variable). We use [dotenv](https://pypi.org/project/python-dotenv/) library to load the HF_TOKEN value from a local .env file*"
      ]
    },
    {
      "cell_type": "code",
      "execution_count": null,
      "metadata": {
        "id": "NxMvEud9xgPC"
      },
      "outputs": [],
      "source": [
        "# from dotenv import load_dotenv\n",
        "# load_dotenv()  # take environment variables from .env."
      ]
    },
    {
      "cell_type": "markdown",
      "metadata": {
        "id": "xfm_Fic-xgPC"
      },
      "source": [
        "Now the fun part, this function will download the requried model and gives you the keys to successfullly detect news agencies in your text."
      ]
    },
    {
      "cell_type": "code",
      "execution_count": 5,
      "metadata": {
        "id": "kUU_u7pBxgPF",
        "outputId": "e7531672-7f06-4ea6-8b8e-001e542dfc7a",
        "colab": {
          "base_uri": "https://localhost:8080/"
        }
      },
      "outputs": [
        {
          "output_type": "stream",
          "name": "stderr",
          "text": [
            "[nltk_data] Downloading package averaged_perceptron_tagger to\n",
            "[nltk_data]     /root/nltk_data...\n",
            "[nltk_data]   Package averaged_perceptron_tagger is already up-to-\n",
            "[nltk_data]       date!\n"
          ]
        }
      ],
      "source": [
        "from transformers import pipeline\n",
        "\n",
        "# Named Entity Recognition pipeline\n",
        "newsagency_ner_pipeline = pipeline(\"newsagency-ner\", model=\"impresso-project/ner-newsagency-bert-fr\", trust_remote_code=True)"
      ]
    },
    {
      "cell_type": "markdown",
      "metadata": {
        "id": "Zx7r6uOlxgPF"
      },
      "source": [
        "Run the example below to see how it works."
      ]
    },
    {
      "cell_type": "code",
      "execution_count": 9,
      "metadata": {
        "id": "zUoZBeraxgPG",
        "outputId": "a355ca63-4fd2-4d5e-9879-d6832352899b",
        "colab": {
          "base_uri": "https://localhost:8080/"
        }
      },
      "outputs": [
        {
          "output_type": "execute_result",
          "data": {
            "text/plain": [
              "[{'entity': 'org.ent.pressagency.Reuters',\n",
              "  'score': 98.64,\n",
              "  'index': 83,\n",
              "  'word': 'Reuter',\n",
              "  'start': 422,\n",
              "  'end': 428}]"
            ]
          },
          "metadata": {},
          "execution_count": 9
        }
      ],
      "source": [
        "# Example\n",
        "text = \"\"\"Apple est créée le 1er avril 1976 dans le garage de la maison\n",
        "          d'enfance de Steve Jobs à Los Altos en Californie par Steve Jobs, Steve Wozniak\n",
        "          et Ronald Wayne, puis constituée sous forme de société le 3 janvier 1977 à l'origine\n",
        "          sous le nom d'Apple Computer, mais pour ses 30 ans et pour refléter la diversification\n",
        "          de ses produits, le mot « computer » est retiré le 9 janvier 2015. (Reuter)\"\"\"\n",
        "\n",
        "\n",
        "newsagency_ner_pipeline(text)\n"
      ]
    },
    {
      "cell_type": "markdown",
      "source": [
        "\n",
        "## About Impresso\n",
        "\n",
        "### Impresso project\n",
        "\n",
        "[Impresso - Media Monitoring of the Past](https://impresso-project.ch) is an\n",
        "interdisciplinary research project that aims to develop and consolidate tools for\n",
        "processing and exploring large collections of media archives across modalities, time,\n",
        "languages and national borders. The first project (2017-2021) was funded by the Swiss\n",
        "National Science Foundation under grant\n",
        "No. [CRSII5_173719](http://p3.snf.ch/project-173719) and the second project (2023-2027)\n",
        "by the SNSF under grant No. [CRSII5_213585](https://data.snf.ch/grants/grant/213585)\n",
        "and the Luxembourg National Research Fund under grant No. 17498891.\n",
        "\n",
        "### Copyright\n",
        "\n",
        "Copyright (C) 2024 The Impresso team.\n",
        "\n",
        "### License\n",
        "\n",
        "This program is provided as open source under\n",
        "the [GNU Affero General Public License](https://github.com/impresso/impresso-pyindexation/blob/master/LICENSE)\n",
        "v3 or later.\n",
        "\n",
        "---\n",
        "\n",
        "<p align=\"center\">\n",
        "  <img src=\"https://github.com/impresso/impresso.github.io/blob/master/assets/images/3x1--Yellow-Impresso-Black-on-White--transparent.png?raw=true\" width=\"350\" alt=\"Impresso Project Logo\"/>\n",
        "</p>\n"
      ],
      "metadata": {
        "id": "UuL2m3GR37rX"
      }
    }
  ],
  "metadata": {
    "colab": {
      "provenance": []
    },
    "kernelspec": {
      "display_name": "Python 3 (ipykernel)",
      "language": "python",
      "name": "python3"
    },
    "language_info": {
      "codemirror_mode": {
        "name": "ipython",
        "version": 3
      },
      "file_extension": ".py",
      "mimetype": "text/x-python",
      "name": "python",
      "nbconvert_exporter": "python",
      "pygments_lexer": "ipython3",
      "version": "3.9.6"
    }
  },
  "nbformat": 4,
  "nbformat_minor": 0
}
{
 "cells": [
  {
   "cell_type": "markdown",
   "metadata": {},
   "source": [
    "# Detect news agencies in a text"
   ]
  },
  {
   "cell_type": "markdown",
   "metadata": {},
   "source": [
    "Delivering swift and reliable news since the 1830s and 1840s, news agencies have played a pivotal role both nationally and internationally. However, understanding their precise impact on shaping news content has remained somewhat elusive. Our goal is to illuminate this aspect by identifying news agencies within historical newspaper articles. Using data from newspapers in Switzerland and Luxembourg as part of the impresso project, we've trained our pipeline to recognize these entities. \n",
    "\n",
    "If you're here, you likely seek to detect news agency entities in your own text. This notebook will guide you through the process of setting up a workflow to identify specific newspaper or agency mentions within your text.\n",
    "\n",
    "*Note: This notebook requires `HF_TOKEN` to be set in the environment variables. You can get your token by signing up on the [Hugging Face website](https://huggingface.co/join) and read more in the [official documentation](https://huggingface.co/docs/huggingface_hub/v0.20.2/en/quick-start#environment-variable)*"
   ]
  },
  {
   "cell_type": "markdown",
   "metadata": {},
   "source": [
    "Install necessary libraries (if not already installed) and \n",
    "download the necessary NLTK data."
   ]
  },
  {
   "cell_type": "code",
   "execution_count": null,
   "metadata": {
    "colab": {
     "base_uri": "https://localhost:8080/"
    },
    "executionInfo": {
     "elapsed": 13902,
     "status": "ok",
     "timestamp": 1712593966254,
     "user": {
      "displayName": "c2dh automaton",
      "userId": "06595644132255672638"
     },
     "user_tz": -120
    },
    "id": "eC4L37FtjYe-",
    "outputId": "b4126877-f531-4a91-ef9c-93b2d6e6a2e5"
   },
   "outputs": [],
   "source": [
    "!pip install transformers\n",
    "!pip install nltk\n",
    "!pip install torch"
   ]
  },
  {
   "cell_type": "markdown",
   "metadata": {},
   "source": [
    "After having installed the necessary libraries (if not already installed) we download the necessary NLTK data to run our POS tagger: **averaged_perceptron_tagger**.\n",
    "The averaged_perceptron_tagger is a efficient and effective part-of-speech (POS) tagger that basically tag each word in a sentence with its corresponding part of speech, such as noun, verb, adjective, etc. See [https://arxiv.org/abs/2104.02831](https://arxiv.org/abs/2104.02831) as reference."
   ]
  },
  {
   "cell_type": "code",
   "execution_count": null,
   "metadata": {
    "colab": {
     "base_uri": "https://localhost:8080/"
    },
    "executionInfo": {
     "elapsed": 1038,
     "status": "ok",
     "timestamp": 1712594294715,
     "user": {
      "displayName": "c2dh automaton",
      "userId": "06595644132255672638"
     },
     "user_tz": -120
    },
    "id": "_UXo-c8aks_p",
    "outputId": "d1448337-3cc3-4ccc-de6b-b3edd251cb5c"
   },
   "outputs": [],
   "source": [
    "import nltk\n",
    "nltk.download('averaged_perceptron_tagger')"
   ]
  },
  {
   "cell_type": "code",
   "execution_count": 6,
   "metadata": {},
   "outputs": [],
   "source": [
    "def print_nicely(entities):\n",
    "    if entities:\n",
    "        print(f\"\\n{'Entity':<15} {'Type':<40} {'Score':<8} {'Index':<5} {'Word':<20} {'Start':<5} {'End':<5}\")\n",
    "        print(\"-\" * 100)\n",
    "        for entity in entities:\n",
    "            print(f\"{entity['word']:<15} {entity['entity']:<40} {entity['score']:<8.4f} {entity['index']:<5} {entity['word']:<20} {entity['start']:<5} {entity['end']:<5}\")\n"
   ]
  },
  {
   "cell_type": "markdown",
   "metadata": {},
   "source": [
    "Now the fun part, this function will download the requried model and gives you the keys to successfullly detect news agencies in your text. "
   ]
  },
  {
   "cell_type": "code",
   "execution_count": 2,
   "metadata": {},
   "outputs": [
    {
     "name": "stdout",
     "output_type": "stream",
     "text": [
      "True\n"
     ]
    }
   ],
   "source": [
    "from transformers import is_torch_available\n",
    "from transformers import pipeline\n",
    "\n",
    "# Check if PyTorch is available\n",
    "print(is_torch_available())\n",
    "\n",
    "# Named Entity Recognition pipeline in French\n",
    "nlp = pipeline(\"newsagency-ner\", model=\"impresso-project/ner-newsagency-bert-fr\", trust_remote_code=True)"
   ]
  },
  {
   "cell_type": "markdown",
   "metadata": {},
   "source": [
    "Run the example below to see how it works."
   ]
  },
  {
   "cell_type": "code",
   "execution_count": 7,
   "metadata": {},
   "outputs": [
    {
     "name": "stdout",
     "output_type": "stream",
     "text": [
      "Sentence: Apple est créée le 1er avril 1976 dans le garage de la maison \n",
      "            d'enfance de Steve Jobs à Los Altos en Californie par Steve Jobs, Steve Wozniak \n",
      "            et Ronald Wayne, puis constituée sous forme de société le 3 janvier 1977 à l'origine \n",
      "            sous le nom d'Apple Computer, mais pour ses 30 ans et pour refléter la diversification \n",
      "            de ses produits, le mot « computer » est retiré le 9 janvier 2015. (Reuter)\n",
      "            \n",
      "\n",
      "Entity          Type                                     Score    Index Word                 Start End  \n",
      "----------------------------------------------------------------------------------------------------\n",
      "Reuter          org.ent.pressagency.Reuters              0.9864   83    Reuter               434   440  \n"
     ]
    }
   ],
   "source": [
    "sentences = [\"\"\"Apple est créée le 1er avril 1976 dans le garage de la maison \n",
    "            d'enfance de Steve Jobs à Los Altos en Californie par Steve Jobs, Steve Wozniak \n",
    "            et Ronald Wayne, puis constituée sous forme de société le 3 janvier 1977 à l'origine \n",
    "            sous le nom d'Apple Computer, mais pour ses 30 ans et pour refléter la diversification \n",
    "            de ses produits, le mot « computer » est retiré le 9 janvier 2015. (Reuter)\n",
    "            \"\"\"]\n",
    "\n",
    "for sentence in sentences:\n",
    "    # Input text to be processed for named entity recognition\n",
    "    print(f'Sentence: {sentence}')\n",
    "    result = nlp(sentence)\n",
    "    print_nicely(result)"
   ]
  },
  {
   "cell_type": "code",
   "execution_count": 10,
   "metadata": {},
   "outputs": [],
   "source": [
    "# Named Entity Recognition pipeline in French\n",
    "nlp = pipeline(\"newsagency-ner\", model=\"impresso-project/ner-newsagency-bert-de\", trust_remote_code=True)"
   ]
  },
  {
   "cell_type": "code",
   "execution_count": 9,
   "metadata": {},
   "outputs": [
    {
     "name": "stdout",
     "output_type": "stream",
     "text": [
      "Sentence: Apple est créée le 1er avril 1976 dans le garage de la maison \n",
      "            d'enfance de Steve Jobs à Los Altos en Californie par Steve Jobs, Steve Wozniak \n",
      "            et Ronald Wayne, puis constituée sous forme de société le 3 janvier 1977 à l'origine \n",
      "            sous le nom d'Apple Computer, mais pour ses 30 ans et pour refléter la diversification \n",
      "            de ses produits, le mot « computer » est retiré le 9 janvier 2015. (Reuter)\n",
      "            \n",
      "\n",
      "Entity          Type                                     Score    Index Word                 Start End  \n",
      "----------------------------------------------------------------------------------------------------\n",
      "Reuter          org.ent.pressagency.Reuters              0.9880   83    Reuter               434   440  \n"
     ]
    }
   ],
   "source": [
    "sentences = [\n",
    "    \"\"\"Apple wurde am 1. April 1976 in der Garage des Elternhauses von Steve Jobs in Los Altos, \n",
    "    Kalifornien, von Steve Jobs, Steve Wozniak und Ronald Wayne gegründet und am 3. Januar 1977 \n",
    "    als Unternehmen gegründet, ursprünglich unter dem Namen Apple Computer, aber zum 30. Geburtstag \n",
    "    und zur Reflexion der Diversifizierung seiner Produkte wurde das Wort „Computer“ am 9. \n",
    "    Januar 2015 entfernt. (Reuter)\"\"\"\n",
    "]\n",
    "\n",
    "for sentence in sentences:\n",
    "    # Input text to be processed for named entity recognition\n",
    "    print(f'Sentence: {sentence}')\n",
    "    result = nlp(sentence)\n",
    "    print_nicely(result)"
   ]
  },
  {
   "cell_type": "code",
   "execution_count": null,
   "metadata": {},
   "outputs": [],
   "source": []
  },
  {
   "cell_type": "code",
   "execution_count": null,
   "metadata": {},
   "outputs": [],
   "source": []
  },
  {
   "cell_type": "code",
   "execution_count": null,
   "metadata": {},
   "outputs": [],
   "source": []
  }
 ],
 "metadata": {
  "colab": {
   "authorship_tag": "ABX9TyOKXk4sqe0yBXtOpC+Z4ngA",
   "provenance": []
  },
  "kernelspec": {
   "display_name": "Python 3 (ipykernel)",
   "language": "python",
   "name": "python3"
  },
  "language_info": {
   "codemirror_mode": {
    "name": "ipython",
    "version": 3
   },
   "file_extension": ".py",
   "mimetype": "text/x-python",
   "name": "python",
   "nbconvert_exporter": "python",
   "pygments_lexer": "ipython3",
   "version": "3.9.6"
  }
 },
 "nbformat": 4,
 "nbformat_minor": 1
}

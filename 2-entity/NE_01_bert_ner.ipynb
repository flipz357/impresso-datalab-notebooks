{
 "cells": [
  {
   "metadata": {},
   "cell_type": "markdown",
   "source": "# Named Entity Recognition and Linking with Impresso BERT models",
   "id": "4982c90e1ce34f5f"
  },
  {
   "metadata": {},
   "cell_type": "markdown",
   "source": "## Good to know before starting\n",
   "id": "697a706a1074ca4c"
  },
  {
   "metadata": {},
   "cell_type": "code",
   "outputs": [],
   "execution_count": null,
   "source": "",
   "id": "45f8f8cbb23dbebe"
  }
 ],
 "metadata": {
  "kernelspec": {
   "display_name": "Python 3",
   "language": "python",
   "name": "python3"
  },
  "language_info": {
   "codemirror_mode": {
    "name": "ipython",
    "version": 2
   },
   "file_extension": ".py",
   "mimetype": "text/x-python",
   "name": "python",
   "nbconvert_exporter": "python",
   "pygments_lexer": "ipython2",
   "version": "2.7.6"
  }
 },
 "nbformat": 4,
 "nbformat_minor": 5
}
